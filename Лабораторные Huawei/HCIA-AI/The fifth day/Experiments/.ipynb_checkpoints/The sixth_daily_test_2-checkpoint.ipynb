{
 "cells": [
  {
   "cell_type": "code",
   "execution_count": 36,
   "metadata": {
    "id": "HWONF7Aur8Rf"
   },
   "outputs": [],
   "source": [
    "# -*- coding:uft-8\n",
    "from skimage import io,transform\n",
    "from sklearn.utils import shuffle\n",
    "import matplotlib.pyplot as plt\n",
    "import tensorflow as tf\n",
    "import numpy as np\n",
    "import pickle\n",
    "import random\n",
    "import time\n",
    "import glob\n",
    "import cv2\n",
    "import os"
   ]
  },
  {
   "cell_type": "code",
   "execution_count": 5,
   "metadata": {
    "id": "ec4sMGq2n3nU"
   },
   "outputs": [],
   "source": [
    "from sklearn.model_selection import train_test_split\n",
    "import zipfile\n",
    "from google.colab import drive\n",
    "from keras import Sequential\n",
    "from keras.layers import Dense, Conv2D, MaxPool2D, Flatten, Dropout, BatchNormalization\n",
    "from keras.optimizers import Adam"
   ]
  },
  {
   "cell_type": "code",
   "execution_count": 6,
   "metadata": {
    "colab": {
     "base_uri": "https://localhost:8080/"
    },
    "id": "PaDiqg33oXU-",
    "outputId": "e0348884-de55-4863-ccc4-7dac5eaf4b42"
   },
   "outputs": [
    {
     "name": "stdout",
     "output_type": "stream",
     "text": [
      "Drive already mounted at /content/drive; to attempt to forcibly remount, call drive.mount(\"/content/drive\", force_remount=True).\n"
     ]
    }
   ],
   "source": [
    "'Connect with GDrive'\n",
    "drive.mount('/content/drive')"
   ]
  },
  {
   "cell_type": "code",
   "execution_count": 7,
   "metadata": {
    "id": "eum0M95ApyfP"
   },
   "outputs": [],
   "source": [
    "flowers_zip = '/content/drive/My Drive/flowers/flower_photos.zip'"
   ]
  },
  {
   "cell_type": "code",
   "execution_count": 8,
   "metadata": {
    "id": "IxMoTHVcqJaE"
   },
   "outputs": [],
   "source": [
    "z = zipfile.ZipFile(flowers_zip, 'r')\n",
    "z.extractall()"
   ]
  },
  {
   "cell_type": "markdown",
   "metadata": {
    "id": "JMifGJ55sJY2"
   },
   "source": [
    "## 1、 please read the flower photoes and add them to a list."
   ]
  },
  {
   "cell_type": "code",
   "execution_count": 9,
   "metadata": {
    "id": "glx9GqvSqXSr"
   },
   "outputs": [],
   "source": [
    "fp = 'flower_photos/'\n",
    "\n",
    "# Составляем лист путей до категорий в дирректории, если таковые существуют\n",
    "cat_imgs = [fp+x for x in os.listdir(fp) if os.path.isdir(fp+x)]\n",
    "data = []\n",
    "labels = []\n",
    "\n",
    "for num_cat, cat in enumerate(cat_imgs): # Итерируемся с нумерацией по категориям\n",
    "  for img in glob.glob(cat + '/*.jpg'):  # В каждой категории находим изображения\n",
    "    image = io.imread(img)               # Читаем jpg\n",
    "    data.append(image)                   # Добавляем в дату и лэйблы\n",
    "    labels.append(num_cat)"
   ]
  },
  {
   "cell_type": "code",
   "execution_count": 48,
   "metadata": {
    "colab": {
     "base_uri": "https://localhost:8080/"
    },
    "id": "l_MJ0R8FrcIA",
    "outputId": "e5f57520-3e53-4166-cd21-312879d78160"
   },
   "outputs": [
    {
     "data": {
      "text/plain": [
       "['flower_photos/roses',\n",
       " 'flower_photos/sunflowers',\n",
       " 'flower_photos/dandelion',\n",
       " 'flower_photos/tulips',\n",
       " 'flower_photos/daisy']"
      ]
     },
     "execution_count": 48,
     "metadata": {
      "tags": []
     },
     "output_type": "execute_result"
    }
   ],
   "source": [
    "cat_imgs"
   ]
  },
  {
   "cell_type": "code",
   "execution_count": 50,
   "metadata": {
    "id": "-cAA9XOGuNVv"
   },
   "outputs": [],
   "source": [
    "lab_dict = {0 : 'roses',\n",
    "            1 : 'sunflowers',\n",
    "            2 : 'dandelion',\n",
    "            3 : 'tulips',\n",
    "            4 : 'daisy'}"
   ]
  },
  {
   "cell_type": "markdown",
   "metadata": {
    "id": "wfBjdwscu04c"
   },
   "source": [
    "## 2、View the length of the previous generation list, take the last 11 elements to a new list."
   ]
  },
  {
   "cell_type": "code",
   "execution_count": 11,
   "metadata": {
    "colab": {
     "base_uri": "https://localhost:8080/"
    },
    "id": "CUWJZ5t3uPTb",
    "outputId": "9bd6fa40-8956-42bf-f94e-42955f9a6e18"
   },
   "outputs": [
    {
     "data": {
      "text/plain": [
       "3670"
      ]
     },
     "execution_count": 11,
     "metadata": {
      "tags": []
     },
     "output_type": "execute_result"
    }
   ],
   "source": [
    "len(data)"
   ]
  },
  {
   "cell_type": "code",
   "execution_count": 12,
   "metadata": {
    "id": "OLgCtTpyyAe6"
   },
   "outputs": [],
   "source": [
    "data_sh, labels_sh = shuffle(data, labels, random_state=0)"
   ]
  },
  {
   "cell_type": "code",
   "execution_count": 13,
   "metadata": {
    "id": "t2o2wcQCv895"
   },
   "outputs": [],
   "source": [
    "last11 = data_sh[-11:]\n",
    "last_labels11 = labels_sh[-11:]"
   ]
  },
  {
   "cell_type": "markdown",
   "metadata": {
    "id": "KrEBFOi5ywoX"
   },
   "source": [
    "## 3、Use skimage to read the nine images in the previous list, and unify the image size to (100,100,3), then save the data to an array."
   ]
  },
  {
   "cell_type": "code",
   "execution_count": 27,
   "metadata": {
    "id": "8iRp4lu-wbhX"
   },
   "outputs": [],
   "source": [
    "reduced_images = []\n",
    "\n",
    "for img in last11[:9]:\n",
    "    image = transform.resize(img, (100, 100))\n",
    "    reduced_images.append(image)\n",
    "\n",
    "reduced_images = np.array(reduced_images, dtype='float')\n",
    "reduced_labels = last_labels11[:9]"
   ]
  },
  {
   "cell_type": "markdown",
   "metadata": {
    "id": "G5_otPiuy-cj"
   },
   "source": [
    "## 4、Try to build a simply CNN and use it to train our flower photoes"
   ]
  },
  {
   "cell_type": "code",
   "execution_count": 25,
   "metadata": {
    "id": "zFblHJrYzZCb"
   },
   "outputs": [],
   "source": [
    "width, height, channels = 100, 100, 3\n",
    "classes = len(cat_imgs)\n",
    "input_shape = (width, height, channels)\n",
    "epochs = 100\n",
    "batch_size = 32\n",
    "optimizer = Adam()"
   ]
  },
  {
   "cell_type": "markdown",
   "metadata": {
    "id": "f60a-QFV6sLK"
   },
   "source": [
    "Build model"
   ]
  },
  {
   "cell_type": "code",
   "execution_count": 16,
   "metadata": {
    "id": "IhdeKAmwzm2W"
   },
   "outputs": [],
   "source": [
    "model = Sequential()\n",
    "model.add(Conv2D(32, (5, 5), padding='same', activation='relu', input_shape=input_shape))\n",
    "model.add(BatchNormalization())\n",
    "model.add(MaxPool2D((2, 2)))\n",
    "model.add(Dropout(0.25))\n",
    "\n",
    "model.add(Conv2D(64, (3, 3), padding='same', activation='relu'))\n",
    "model.add(BatchNormalization())\n",
    "model.add(Conv2D(64, (3, 3), padding='same', activation='relu'))\n",
    "model.add(BatchNormalization())\n",
    "model.add(MaxPool2D((2, 2)))\n",
    "model.add(Dropout(0.25))\n",
    "\n",
    "model.add(Conv2D(128, (3, 3), padding='same', activation='relu'))\n",
    "model.add(BatchNormalization())\n",
    "model.add(Conv2D(128, (3, 3), padding='same', activation='relu'))\n",
    "model.add(BatchNormalization())\n",
    "model.add(MaxPool2D((2, 2)))\n",
    "model.add(Dropout(0.25))\n",
    "\n",
    "model.add(Flatten())\n",
    "model.add(Dense(1024, activation='relu'))\n",
    "model.add(BatchNormalization())\n",
    "model.add(Dropout(0.5))\n",
    "\n",
    "model.add(Dense(classes, activation='softmax'))"
   ]
  },
  {
   "cell_type": "code",
   "execution_count": 17,
   "metadata": {
    "id": "SyZlLodJ168g"
   },
   "outputs": [],
   "source": [
    "from tensorflow.keras.preprocessing.image import img_to_array, ImageDataGenerator\n",
    "from tensorflow.keras.optimizers import Adam\n",
    "from sklearn.preprocessing import LabelBinarizer\n",
    "from sklearn.model_selection import train_test_split\n",
    "from sklearn.metrics import classification_report"
   ]
  },
  {
   "cell_type": "markdown",
   "metadata": {
    "id": "ExU09KHD6oRw"
   },
   "source": [
    "Normalize data"
   ]
  },
  {
   "cell_type": "code",
   "execution_count": 18,
   "metadata": {
    "id": "bvwIR0f83Rx4"
   },
   "outputs": [],
   "source": [
    "data_norm = []\n",
    "\n",
    "for im in data_sh:\n",
    "  img = transform.resize(im, (100, 100))\n",
    "  data_norm.append(img)\n",
    "\n",
    "data_norm = np.array(data_norm, dtype='float') / 255.0\n",
    "labels = np.array(labels_sh)\n",
    "\n",
    "lb = LabelBinarizer()\n",
    "labels = lb.fit_transform(labels)"
   ]
  },
  {
   "cell_type": "markdown",
   "metadata": {
    "id": "EkNLiKtv6cZC"
   },
   "source": [
    "Make train test data"
   ]
  },
  {
   "cell_type": "code",
   "execution_count": 19,
   "metadata": {
    "id": "rrQF6O7a4HZJ"
   },
   "outputs": [],
   "source": [
    "X_train, X_test, y_train, y_test = train_test_split(data_norm, labels, test_size=0.2, random_state=42)"
   ]
  },
  {
   "cell_type": "markdown",
   "metadata": {
    "id": "L5aSePAt6iW2"
   },
   "source": [
    "Augmentation"
   ]
  },
  {
   "cell_type": "code",
   "execution_count": 20,
   "metadata": {
    "id": "YakbZBlE5UvY"
   },
   "outputs": [],
   "source": [
    "aug = ImageDataGenerator(rotation_range=25, width_shift_range=0.1,\n",
    "                         height_shift_range=0.1, shear_range=0.2,\n",
    "                         zoom_range=0.2, horizontal_flip=True, fill_mode=\"nearest\")"
   ]
  },
  {
   "cell_type": "markdown",
   "metadata": {
    "id": "cdEQZ4AS6lAA"
   },
   "source": [
    "Compile model"
   ]
  },
  {
   "cell_type": "code",
   "execution_count": 21,
   "metadata": {
    "id": "lzvzZc2T5dxk"
   },
   "outputs": [],
   "source": [
    "model.compile(loss='categorical_crossentropy', optimizer = optimizer, metrics=['accuracy'])"
   ]
  },
  {
   "cell_type": "markdown",
   "metadata": {
    "id": "IkED--lF6v0R"
   },
   "source": [
    "Fit model"
   ]
  },
  {
   "cell_type": "code",
   "execution_count": 26,
   "metadata": {
    "colab": {
     "base_uri": "https://localhost:8080/"
    },
    "id": "xpYQyuAA6GsD",
    "outputId": "c7f9f9db-52c6-46f5-c83e-1eeb8ca96032"
   },
   "outputs": [
    {
     "name": "stdout",
     "output_type": "stream",
     "text": [
      "Epoch 1/100\n",
      "91/91 [==============================] - 8s 92ms/step - loss: 1.4995 - accuracy: 0.5152 - val_loss: 4.0510 - val_accuracy: 0.2452\n",
      "Epoch 2/100\n",
      "91/91 [==============================] - 8s 89ms/step - loss: 1.2709 - accuracy: 0.5541 - val_loss: 2.5732 - val_accuracy: 0.2452\n",
      "Epoch 3/100\n",
      "91/91 [==============================] - 8s 89ms/step - loss: 1.2336 - accuracy: 0.5680 - val_loss: 2.3798 - val_accuracy: 0.2452\n",
      "Epoch 4/100\n",
      "91/91 [==============================] - 8s 90ms/step - loss: 1.0844 - accuracy: 0.6112 - val_loss: 2.0855 - val_accuracy: 0.2616\n",
      "Epoch 5/100\n",
      "91/91 [==============================] - 8s 90ms/step - loss: 1.0238 - accuracy: 0.6236 - val_loss: 2.2411 - val_accuracy: 0.2466\n",
      "Epoch 6/100\n",
      "91/91 [==============================] - 8s 89ms/step - loss: 0.9826 - accuracy: 0.6346 - val_loss: 1.8943 - val_accuracy: 0.3610\n",
      "Epoch 7/100\n",
      "91/91 [==============================] - 8s 88ms/step - loss: 0.9561 - accuracy: 0.6560 - val_loss: 1.5416 - val_accuracy: 0.5109\n",
      "Epoch 8/100\n",
      "91/91 [==============================] - 8s 89ms/step - loss: 0.9229 - accuracy: 0.6667 - val_loss: 1.2189 - val_accuracy: 0.5777\n",
      "Epoch 9/100\n",
      "91/91 [==============================] - 8s 90ms/step - loss: 0.8744 - accuracy: 0.6715 - val_loss: 1.1312 - val_accuracy: 0.6267\n",
      "Epoch 10/100\n",
      "91/91 [==============================] - 8s 90ms/step - loss: 0.8436 - accuracy: 0.6808 - val_loss: 0.9585 - val_accuracy: 0.6608\n",
      "Epoch 11/100\n",
      "91/91 [==============================] - 8s 90ms/step - loss: 0.7877 - accuracy: 0.7021 - val_loss: 1.1043 - val_accuracy: 0.5845\n",
      "Epoch 12/100\n",
      "91/91 [==============================] - 8s 88ms/step - loss: 0.7755 - accuracy: 0.7166 - val_loss: 1.3560 - val_accuracy: 0.5845\n",
      "Epoch 13/100\n",
      "91/91 [==============================] - 8s 89ms/step - loss: 0.7634 - accuracy: 0.7173 - val_loss: 1.0436 - val_accuracy: 0.6512\n",
      "Epoch 14/100\n",
      "91/91 [==============================] - 8s 89ms/step - loss: 0.7527 - accuracy: 0.7111 - val_loss: 1.0183 - val_accuracy: 0.6866\n",
      "Epoch 15/100\n",
      "91/91 [==============================] - 8s 89ms/step - loss: 0.7035 - accuracy: 0.7390 - val_loss: 0.8738 - val_accuracy: 0.6975\n",
      "Epoch 16/100\n",
      "91/91 [==============================] - 8s 89ms/step - loss: 0.7143 - accuracy: 0.7317 - val_loss: 0.9269 - val_accuracy: 0.6567\n",
      "Epoch 17/100\n",
      "91/91 [==============================] - 8s 89ms/step - loss: 0.7018 - accuracy: 0.7397 - val_loss: 0.9963 - val_accuracy: 0.6458\n",
      "Epoch 18/100\n",
      "91/91 [==============================] - 8s 89ms/step - loss: 0.6703 - accuracy: 0.7476 - val_loss: 1.2316 - val_accuracy: 0.6322\n",
      "Epoch 19/100\n",
      "91/91 [==============================] - 8s 89ms/step - loss: 0.6547 - accuracy: 0.7531 - val_loss: 0.8629 - val_accuracy: 0.7016\n",
      "Epoch 20/100\n",
      "91/91 [==============================] - 8s 89ms/step - loss: 0.6146 - accuracy: 0.7717 - val_loss: 0.8698 - val_accuracy: 0.6907\n",
      "Epoch 21/100\n",
      "91/91 [==============================] - 8s 88ms/step - loss: 0.5966 - accuracy: 0.7717 - val_loss: 1.0032 - val_accuracy: 0.6730\n",
      "Epoch 22/100\n",
      "91/91 [==============================] - 8s 90ms/step - loss: 0.6372 - accuracy: 0.7617 - val_loss: 1.2398 - val_accuracy: 0.6281\n",
      "Epoch 23/100\n",
      "91/91 [==============================] - 8s 89ms/step - loss: 0.5901 - accuracy: 0.7779 - val_loss: 0.9548 - val_accuracy: 0.6894\n",
      "Epoch 24/100\n",
      "91/91 [==============================] - 8s 88ms/step - loss: 0.5997 - accuracy: 0.7693 - val_loss: 0.7954 - val_accuracy: 0.7207\n",
      "Epoch 25/100\n",
      "91/91 [==============================] - 8s 88ms/step - loss: 0.5852 - accuracy: 0.7813 - val_loss: 0.7905 - val_accuracy: 0.7234\n",
      "Epoch 26/100\n",
      "91/91 [==============================] - 8s 88ms/step - loss: 0.5369 - accuracy: 0.8013 - val_loss: 1.2434 - val_accuracy: 0.6567\n",
      "Epoch 27/100\n",
      "91/91 [==============================] - 8s 88ms/step - loss: 0.5332 - accuracy: 0.7933 - val_loss: 0.8869 - val_accuracy: 0.7044\n",
      "Epoch 28/100\n",
      "91/91 [==============================] - 8s 87ms/step - loss: 0.5661 - accuracy: 0.7951 - val_loss: 1.3719 - val_accuracy: 0.5954\n",
      "Epoch 29/100\n",
      "91/91 [==============================] - 8s 88ms/step - loss: 0.5243 - accuracy: 0.8099 - val_loss: 0.8212 - val_accuracy: 0.7071\n",
      "Epoch 30/100\n",
      "91/91 [==============================] - 8s 89ms/step - loss: 0.5180 - accuracy: 0.8006 - val_loss: 0.7646 - val_accuracy: 0.7411\n",
      "Epoch 31/100\n",
      "91/91 [==============================] - 8s 88ms/step - loss: 0.5513 - accuracy: 0.7924 - val_loss: 0.9953 - val_accuracy: 0.7044\n",
      "Epoch 32/100\n",
      "91/91 [==============================] - 8s 88ms/step - loss: 0.5226 - accuracy: 0.8037 - val_loss: 0.7707 - val_accuracy: 0.7316\n",
      "Epoch 33/100\n",
      "91/91 [==============================] - 8s 88ms/step - loss: 0.5084 - accuracy: 0.8058 - val_loss: 1.3497 - val_accuracy: 0.6471\n",
      "Epoch 34/100\n",
      "91/91 [==============================] - 8s 88ms/step - loss: 0.4639 - accuracy: 0.8209 - val_loss: 0.6213 - val_accuracy: 0.7916\n",
      "Epoch 35/100\n",
      "91/91 [==============================] - 8s 88ms/step - loss: 0.5167 - accuracy: 0.8154 - val_loss: 2.5761 - val_accuracy: 0.5136\n",
      "Epoch 36/100\n",
      "91/91 [==============================] - 8s 88ms/step - loss: 0.5213 - accuracy: 0.8065 - val_loss: 1.2388 - val_accuracy: 0.6022\n",
      "Epoch 37/100\n",
      "91/91 [==============================] - 8s 89ms/step - loss: 0.4788 - accuracy: 0.8216 - val_loss: 0.9196 - val_accuracy: 0.6935\n",
      "Epoch 38/100\n",
      "91/91 [==============================] - 8s 88ms/step - loss: 0.4251 - accuracy: 0.8409 - val_loss: 0.7562 - val_accuracy: 0.7466\n",
      "Epoch 39/100\n",
      "91/91 [==============================] - 8s 89ms/step - loss: 0.4090 - accuracy: 0.8457 - val_loss: 0.8973 - val_accuracy: 0.7452\n",
      "Epoch 40/100\n",
      "91/91 [==============================] - 8s 88ms/step - loss: 0.3984 - accuracy: 0.8488 - val_loss: 0.7987 - val_accuracy: 0.7602\n",
      "Epoch 41/100\n",
      "91/91 [==============================] - 8s 89ms/step - loss: 0.4298 - accuracy: 0.8368 - val_loss: 0.8457 - val_accuracy: 0.7452\n",
      "Epoch 42/100\n",
      "91/91 [==============================] - 8s 87ms/step - loss: 0.3869 - accuracy: 0.8557 - val_loss: 1.0908 - val_accuracy: 0.7125\n",
      "Epoch 43/100\n",
      "91/91 [==============================] - 8s 87ms/step - loss: 0.3975 - accuracy: 0.8509 - val_loss: 1.2541 - val_accuracy: 0.6744\n",
      "Epoch 44/100\n",
      "91/91 [==============================] - 8s 86ms/step - loss: 0.3975 - accuracy: 0.8461 - val_loss: 0.8631 - val_accuracy: 0.7520\n",
      "Epoch 45/100\n",
      "91/91 [==============================] - 8s 87ms/step - loss: 0.3911 - accuracy: 0.8502 - val_loss: 0.9227 - val_accuracy: 0.7343\n",
      "Epoch 46/100\n",
      "91/91 [==============================] - 8s 87ms/step - loss: 0.4521 - accuracy: 0.8316 - val_loss: 0.9754 - val_accuracy: 0.7575\n",
      "Epoch 47/100\n",
      "91/91 [==============================] - 8s 86ms/step - loss: 0.3664 - accuracy: 0.8626 - val_loss: 0.9019 - val_accuracy: 0.7507\n",
      "Epoch 48/100\n",
      "91/91 [==============================] - 8s 87ms/step - loss: 0.3950 - accuracy: 0.8502 - val_loss: 0.7818 - val_accuracy: 0.7602\n",
      "Epoch 49/100\n",
      "91/91 [==============================] - 8s 87ms/step - loss: 0.3505 - accuracy: 0.8702 - val_loss: 0.7508 - val_accuracy: 0.7534\n",
      "Epoch 50/100\n",
      "91/91 [==============================] - 8s 88ms/step - loss: 0.3173 - accuracy: 0.8881 - val_loss: 1.1137 - val_accuracy: 0.7030\n",
      "Epoch 51/100\n",
      "91/91 [==============================] - 8s 86ms/step - loss: 0.3887 - accuracy: 0.8602 - val_loss: 0.7831 - val_accuracy: 0.7629\n",
      "Epoch 52/100\n",
      "91/91 [==============================] - 8s 87ms/step - loss: 0.3522 - accuracy: 0.8698 - val_loss: 1.1376 - val_accuracy: 0.6907\n",
      "Epoch 53/100\n",
      "91/91 [==============================] - 8s 87ms/step - loss: 0.4643 - accuracy: 0.8354 - val_loss: 0.9004 - val_accuracy: 0.7575\n",
      "Epoch 54/100\n",
      "91/91 [==============================] - 8s 86ms/step - loss: 0.3907 - accuracy: 0.8540 - val_loss: 0.7572 - val_accuracy: 0.7847\n",
      "Epoch 55/100\n",
      "91/91 [==============================] - 8s 85ms/step - loss: 0.3188 - accuracy: 0.8778 - val_loss: 1.0267 - val_accuracy: 0.7262\n",
      "Epoch 56/100\n",
      "91/91 [==============================] - 8s 86ms/step - loss: 0.4512 - accuracy: 0.8361 - val_loss: 1.4427 - val_accuracy: 0.6308\n",
      "Epoch 57/100\n",
      "91/91 [==============================] - 8s 86ms/step - loss: 0.3950 - accuracy: 0.8537 - val_loss: 0.8902 - val_accuracy: 0.7316\n",
      "Epoch 58/100\n",
      "91/91 [==============================] - 8s 86ms/step - loss: 0.3366 - accuracy: 0.8736 - val_loss: 0.9595 - val_accuracy: 0.7262\n",
      "Epoch 59/100\n",
      "91/91 [==============================] - 8s 87ms/step - loss: 0.3248 - accuracy: 0.8822 - val_loss: 0.6709 - val_accuracy: 0.7847\n",
      "Epoch 60/100\n",
      "91/91 [==============================] - 8s 88ms/step - loss: 0.2989 - accuracy: 0.8888 - val_loss: 0.8186 - val_accuracy: 0.7793\n",
      "Epoch 61/100\n",
      "91/91 [==============================] - 8s 89ms/step - loss: 0.3826 - accuracy: 0.8592 - val_loss: 1.8396 - val_accuracy: 0.5613\n",
      "Epoch 62/100\n",
      "91/91 [==============================] - 8s 85ms/step - loss: 0.3699 - accuracy: 0.8691 - val_loss: 0.7585 - val_accuracy: 0.7861\n",
      "Epoch 63/100\n",
      "91/91 [==============================] - 8s 85ms/step - loss: 0.3078 - accuracy: 0.8881 - val_loss: 0.8695 - val_accuracy: 0.7616\n",
      "Epoch 64/100\n",
      "91/91 [==============================] - 8s 87ms/step - loss: 0.3006 - accuracy: 0.8891 - val_loss: 0.6356 - val_accuracy: 0.8093\n",
      "Epoch 65/100\n",
      "91/91 [==============================] - 8s 89ms/step - loss: 0.2719 - accuracy: 0.8946 - val_loss: 0.8331 - val_accuracy: 0.7684\n",
      "Epoch 66/100\n",
      "91/91 [==============================] - 8s 88ms/step - loss: 0.4732 - accuracy: 0.8352 - val_loss: 37.5388 - val_accuracy: 0.2452\n",
      "Epoch 67/100\n",
      "91/91 [==============================] - 8s 88ms/step - loss: 0.3113 - accuracy: 0.8860 - val_loss: 21.7203 - val_accuracy: 0.2439\n",
      "Epoch 68/100\n",
      "91/91 [==============================] - 8s 88ms/step - loss: 0.2976 - accuracy: 0.8881 - val_loss: 9.1227 - val_accuracy: 0.3106\n",
      "Epoch 69/100\n",
      "91/91 [==============================] - 8s 87ms/step - loss: 0.3120 - accuracy: 0.8812 - val_loss: 2.0951 - val_accuracy: 0.5736\n",
      "Epoch 70/100\n",
      "91/91 [==============================] - 8s 88ms/step - loss: 0.2835 - accuracy: 0.8840 - val_loss: 0.7786 - val_accuracy: 0.7766\n",
      "Epoch 71/100\n",
      "91/91 [==============================] - 8s 88ms/step - loss: 0.2753 - accuracy: 0.9015 - val_loss: 0.7674 - val_accuracy: 0.7752\n",
      "Epoch 72/100\n",
      "91/91 [==============================] - 8s 88ms/step - loss: 0.2335 - accuracy: 0.9125 - val_loss: 0.8370 - val_accuracy: 0.7752\n",
      "Epoch 73/100\n",
      "91/91 [==============================] - 8s 88ms/step - loss: 0.2439 - accuracy: 0.9105 - val_loss: 0.8368 - val_accuracy: 0.7807\n",
      "Epoch 74/100\n",
      "91/91 [==============================] - 8s 87ms/step - loss: 0.2499 - accuracy: 0.9067 - val_loss: 0.8512 - val_accuracy: 0.7834\n",
      "Epoch 75/100\n",
      "91/91 [==============================] - 8s 87ms/step - loss: 0.2538 - accuracy: 0.9060 - val_loss: 0.9234 - val_accuracy: 0.7561\n",
      "Epoch 76/100\n",
      "91/91 [==============================] - 8s 87ms/step - loss: 0.2336 - accuracy: 0.9136 - val_loss: 1.0015 - val_accuracy: 0.7602\n",
      "Epoch 77/100\n",
      "91/91 [==============================] - 8s 87ms/step - loss: 0.2822 - accuracy: 0.9053 - val_loss: 0.9420 - val_accuracy: 0.7589\n",
      "Epoch 78/100\n",
      "91/91 [==============================] - 8s 87ms/step - loss: 0.2756 - accuracy: 0.9019 - val_loss: 0.8257 - val_accuracy: 0.7670\n",
      "Epoch 79/100\n",
      "91/91 [==============================] - 8s 86ms/step - loss: 0.2353 - accuracy: 0.9174 - val_loss: 1.0213 - val_accuracy: 0.7643\n",
      "Epoch 80/100\n",
      "91/91 [==============================] - 8s 88ms/step - loss: 0.2446 - accuracy: 0.9067 - val_loss: 1.0513 - val_accuracy: 0.7643\n",
      "Epoch 81/100\n",
      "91/91 [==============================] - 8s 86ms/step - loss: 0.2238 - accuracy: 0.9146 - val_loss: 0.8881 - val_accuracy: 0.7834\n",
      "Epoch 82/100\n",
      "91/91 [==============================] - 8s 85ms/step - loss: 0.2132 - accuracy: 0.9167 - val_loss: 0.9116 - val_accuracy: 0.7766\n",
      "Epoch 83/100\n",
      "91/91 [==============================] - 8s 85ms/step - loss: 0.2811 - accuracy: 0.8974 - val_loss: 3.7505 - val_accuracy: 0.4332\n",
      "Epoch 84/100\n",
      "91/91 [==============================] - 8s 86ms/step - loss: 0.3394 - accuracy: 0.8757 - val_loss: 1.0352 - val_accuracy: 0.7452\n",
      "Epoch 85/100\n",
      "91/91 [==============================] - 8s 85ms/step - loss: 0.2808 - accuracy: 0.8963 - val_loss: 1.1718 - val_accuracy: 0.7480\n",
      "Epoch 86/100\n",
      "91/91 [==============================] - 8s 86ms/step - loss: 0.2528 - accuracy: 0.9081 - val_loss: 1.1223 - val_accuracy: 0.7057\n",
      "Epoch 87/100\n",
      "91/91 [==============================] - 8s 86ms/step - loss: 0.2386 - accuracy: 0.9125 - val_loss: 1.1639 - val_accuracy: 0.7493\n",
      "Epoch 88/100\n",
      "91/91 [==============================] - 8s 87ms/step - loss: 0.2056 - accuracy: 0.9201 - val_loss: 0.8148 - val_accuracy: 0.7752\n",
      "Epoch 89/100\n",
      "91/91 [==============================] - 8s 85ms/step - loss: 0.2230 - accuracy: 0.9208 - val_loss: 1.0024 - val_accuracy: 0.7452\n",
      "Epoch 90/100\n",
      "91/91 [==============================] - 8s 87ms/step - loss: 0.2246 - accuracy: 0.9201 - val_loss: 0.8725 - val_accuracy: 0.7861\n",
      "Epoch 91/100\n",
      "91/91 [==============================] - 8s 85ms/step - loss: 0.2844 - accuracy: 0.8922 - val_loss: 1.2528 - val_accuracy: 0.6826\n",
      "Epoch 92/100\n",
      "91/91 [==============================] - 8s 85ms/step - loss: 0.2381 - accuracy: 0.9205 - val_loss: 0.7871 - val_accuracy: 0.7888\n",
      "Epoch 93/100\n",
      "91/91 [==============================] - 8s 85ms/step - loss: 0.2427 - accuracy: 0.9112 - val_loss: 0.9142 - val_accuracy: 0.7629\n",
      "Epoch 94/100\n",
      "91/91 [==============================] - 8s 84ms/step - loss: 0.2554 - accuracy: 0.9056 - val_loss: 0.8231 - val_accuracy: 0.7943\n",
      "Epoch 95/100\n",
      "91/91 [==============================] - 8s 85ms/step - loss: 0.1986 - accuracy: 0.9284 - val_loss: 1.1897 - val_accuracy: 0.7248\n",
      "Epoch 96/100\n",
      "91/91 [==============================] - 8s 86ms/step - loss: 0.2201 - accuracy: 0.9215 - val_loss: 0.9283 - val_accuracy: 0.7766\n",
      "Epoch 97/100\n",
      "91/91 [==============================] - 8s 85ms/step - loss: 0.1848 - accuracy: 0.9304 - val_loss: 0.7650 - val_accuracy: 0.7902\n",
      "Epoch 98/100\n",
      "91/91 [==============================] - 8s 85ms/step - loss: 0.1827 - accuracy: 0.9356 - val_loss: 0.7668 - val_accuracy: 0.8147\n",
      "Epoch 99/100\n",
      "91/91 [==============================] - 8s 87ms/step - loss: 0.1864 - accuracy: 0.9346 - val_loss: 1.0820 - val_accuracy: 0.7452\n",
      "Epoch 100/100\n",
      "91/91 [==============================] - 8s 90ms/step - loss: 0.1904 - accuracy: 0.9353 - val_loss: 0.8084 - val_accuracy: 0.7847\n"
     ]
    }
   ],
   "source": [
    "H = model.fit(x=aug.flow(X_train, y_train, batch_size=batch_size),\n",
    "              validation_data=(X_test, y_test),\n",
    "              steps_per_epoch=len(X_train) // batch_size,\n",
    "              epochs=epochs, verbose=1)"
   ]
  },
  {
   "cell_type": "markdown",
   "metadata": {
    "id": "q6CztHCkmfgn"
   },
   "source": [
    "Plot training graph"
   ]
  },
  {
   "cell_type": "code",
   "execution_count": 65,
   "metadata": {
    "colab": {
     "base_uri": "https://localhost:8080/",
     "height": 299
    },
    "id": "Sr_eDfpJ8j0p",
    "outputId": "4c22af7a-67d1-45df-e6ad-01001b748291"
   },
   "outputs": [
    {
     "data": {
      "image/png": "[encoded data removed]",
      "text/plain": [
       "<Figure size 432x288 with 1 Axes>"
      ]
     },
     "metadata": {
      "tags": []
     },
     "output_type": "display_data"
    }
   ],
   "source": [
    "plt.style.use(\"ggplot\")\n",
    "plt.figure()\n",
    "N = epochs\n",
    "plt.plot(np.arange(0, N), H.history[\"loss\"], label=\"train_loss\")\n",
    "plt.plot(np.arange(0, N), H.history[\"val_loss\"], label=\"validate_loss\")\n",
    "plt.title(\"Training & Validate Loss\")\n",
    "plt.xlabel(\"Num of epochs\")\n",
    "plt.ylabel(\"Loss\")\n",
    "plt.legend(loc=\"upper left\")\n",
    "plt.show()"
   ]
  },
  {
   "cell_type": "code",
   "execution_count": 31,
   "metadata": {
    "colab": {
     "base_uri": "https://localhost:8080/",
     "height": 299
    },
    "id": "tKW7O2GMm9wH",
    "outputId": "1e5a9bab-990c-4d8d-95e7-665e9d854ff7"
   },
   "outputs": [
    {
     "data": {
      "image/png": "[encoded data removed]",
      "text/plain": [
       "<Figure size 432x288 with 1 Axes>"
      ]
     },
     "metadata": {
      "tags": []
     },
     "output_type": "display_data"
    }
   ],
   "source": [
    "plt.style.use(\"ggplot\")\n",
    "plt.figure()\n",
    "N = epochs\n",
    "plt.plot(np.arange(0, N), H.history[\"accuracy\"], label=\"train_accuracy\")\n",
    "plt.plot(np.arange(0, N), H.history[\"val_accuracy\"], label=\"validate_accuracy\")\n",
    "plt.title(\"Training & Validate Accuracy\")\n",
    "plt.xlabel(\"Num of epochs\")\n",
    "plt.ylabel(\"Accuracy\")\n",
    "plt.legend(loc=\"upper left\")\n",
    "plt.show()"
   ]
  },
  {
   "cell_type": "markdown",
   "metadata": {
    "id": "h0I9eNtbmdqc"
   },
   "source": [
    "Save model"
   ]
  },
  {
   "cell_type": "code",
   "execution_count": 37,
   "metadata": {
    "id": "F-6vIuNL8cTi"
   },
   "outputs": [],
   "source": [
    "model.save('flowers.model', save_format=\"h5\")\n",
    "\n",
    "f = open('lb.pickle', \"wb\")\n",
    "f.write(pickle.dumps(lb))\n",
    "f.close()"
   ]
  },
  {
   "cell_type": "markdown",
   "metadata": {
    "id": "w6qrvvmammET"
   },
   "source": [
    "Prediction on 9 images"
   ]
  },
  {
   "cell_type": "code",
   "execution_count": 82,
   "metadata": {
    "colab": {
     "base_uri": "https://localhost:8080/"
    },
    "id": "2j5YuvNh0deo",
    "outputId": "01e960a1-30df-4e0f-99d8-47024359f33a"
   },
   "outputs": [
    {
     "name": "stdout",
     "output_type": "stream",
     "text": [
      "dandelion: 98.69% (correct)\n",
      "roses: 98.55% (correct)\n",
      "sunflowers: 100.00% (correct)\n",
      "roses: 94.12% (not correct)\n",
      "dandelion: 99.82% (correct)\n",
      "sunflowers: 100.00% (correct)\n",
      "sunflowers: 96.39% (correct)\n",
      "daisy: 100.00% (correct)\n",
      "dandelion: 90.05% (correct)\n"
     ]
    }
   ],
   "source": [
    "for num, im in enumerate(reduced_images):\n",
    "  output = im.copy()                    # Создаем копию изображения\n",
    "\n",
    "  image = im.astype(\"float\") / 255.0    # Нормализуем изображение \n",
    "  image = np.expand_dims(image, axis=0) # Добавляем размерность (сюды, 100, 100, 3)\n",
    "\n",
    "  pred = model.predict(image)[0]        # Получаем шансы классов [2.198e-04 1.280e-02 9.868e-01 8.740e-05 1.753e-05]\n",
    "  idx = np.argmax(pred)                 # Ответ нейросетки в качестве индекса класса\n",
    "  ans = lab_dict[idx]                   # Ответ словом\n",
    "  confidence = pred[idx]                # Процент уверености в ответе\n",
    "  lab = lab_dict[reduced_labels[num]]   # Правильный ответ\n",
    "\n",
    "  correct = \"correct\" if str(ans) == str(lab) else \"not correct\"\n",
    "\n",
    "  answer = \"{}: {:.2f}% ({})\".format(ans, confidence * 100, correct)\n",
    "\n",
    "  print(answer)"
   ]
  },
  {
   "cell_type": "code",
   "execution_count": null,
   "metadata": {
    "id": "E5Gpxux_4HPP"
   },
   "outputs": [],
   "source": []
  }
 ],
 "metadata": {
  "accelerator": "GPU",
  "colab": {
   "collapsed_sections": [],
   "name": "the_fifth_day_2.ipynb",
   "provenance": [],
   "toc_visible": true
  },
  "kernelspec": {
   "display_name": "Python 3",
   "language": "python",
   "name": "python3"
  },
  "language_info": {
   "codemirror_mode": {
    "name": "ipython",
    "version": 3
   },
   "file_extension": ".py",
   "mimetype": "text/x-python",
   "name": "python",
   "nbconvert_exporter": "python",
   "pygments_lexer": "ipython3",
   "version": "3.8.3"
  }
 },
 "nbformat": 4,
 "nbformat_minor": 1
}
