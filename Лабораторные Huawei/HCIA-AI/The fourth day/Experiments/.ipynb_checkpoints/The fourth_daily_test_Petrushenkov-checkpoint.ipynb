{
 "cells": [
  {
   "cell_type": "markdown",
   "metadata": {},
   "source": [
    "### 1、Import tensorflow and use tensorflow to define a constant."
   ]
  },
  {
   "cell_type": "code",
   "execution_count": 1,
   "metadata": {},
   "outputs": [
    {
     "name": "stdout",
     "output_type": "stream",
     "text": [
      "WARNING:tensorflow:From /Users/administrator/opt/anaconda3/envs/Neural_NW/lib/python3.7/site-packages/tensorflow_core/python/compat/v2_compat.py:65: disable_resource_variables (from tensorflow.python.ops.variable_scope) is deprecated and will be removed in a future version.\n",
      "Instructions for updating:\n",
      "non-resource variables are not supported in the long term\n"
     ]
    }
   ],
   "source": [
    "import tensorflow.compat.v1 as tf\n",
    "tf.disable_v2_behavior()"
   ]
  },
  {
   "cell_type": "markdown",
   "metadata": {},
   "source": [
    "### 2、Use tensorflow to print 'Welcome to Huawei'."
   ]
  },
  {
   "cell_type": "code",
   "execution_count": 4,
   "metadata": {},
   "outputs": [],
   "source": [
    "welcome = tf.constant('Hello, TensorFlow!')"
   ]
  },
  {
   "cell_type": "code",
   "execution_count": 5,
   "metadata": {},
   "outputs": [
    {
     "name": "stdout",
     "output_type": "stream",
     "text": [
      "b'Hello, TensorFlow!'\n"
     ]
    }
   ],
   "source": [
    "sess = tf.Session()\n",
    "print(sess.run(welcome))\n",
    "sess.close()  "
   ]
  },
  {
   "cell_type": "markdown",
   "metadata": {},
   "source": [
    "### 3、Use tensorflow to define two numeric constants,then calculate them and print the result."
   ]
  },
  {
   "cell_type": "code",
   "execution_count": 6,
   "metadata": {},
   "outputs": [
    {
     "name": "stdout",
     "output_type": "stream",
     "text": [
      "11\n"
     ]
    }
   ],
   "source": [
    "a = tf.constant(5)\n",
    "b = tf.constant(6)\n",
    "\n",
    "with tf.Session() as sess:\n",
    "    print(sess.run(a + b))"
   ]
  },
  {
   "cell_type": "markdown",
   "metadata": {},
   "source": [
    "### 4、Randomly generate two matrices using tensorflow, calculate and print the result of their multiplication."
   ]
  },
  {
   "cell_type": "code",
   "execution_count": 7,
   "metadata": {},
   "outputs": [
    {
     "name": "stdout",
     "output_type": "stream",
     "text": [
      "[[ 7.7540064  3.1870089  5.0775146  1.9682337]\n",
      " [ 7.062966   3.2112277  5.521483   2.1982617]\n",
      " [13.402557   5.268369   2.913244   3.0117037]\n",
      " [10.333931   4.446779   2.276587   2.81242  ]]\n"
     ]
    }
   ],
   "source": [
    "sess = tf.InteractiveSession()\n",
    "\n",
    "random1 = tf.Variable(tf.random_normal([4, 3], mean=1.0, stddev=1.0))\n",
    "random2 = tf.Variable(tf.random_normal([3, 4], mean=1.0, stddev=1.0))\n",
    "\n",
    "tf.global_variables_initializer().run()\n",
    "\n",
    "mult = tf.matmul(random1, random2)\n",
    "print(sess.run(mult))\n",
    "sess.close()"
   ]
  },
  {
   "cell_type": "markdown",
   "metadata": {},
   "source": [
    "### 5、Try to use your own handwriting number to do image recognition"
   ]
  },
  {
   "cell_type": "markdown",
   "metadata": {},
   "source": [
    "Импортируем датасет, оболочку модели, слои и утилзы"
   ]
  },
  {
   "cell_type": "code",
   "execution_count": 2,
   "metadata": {
    "colab": {},
    "colab_type": "code",
    "id": "Yj-Pm2SNqZY0"
   },
   "outputs": [],
   "source": [
    "from keras.datasets import mnist # Импортируем датасет\n",
    "from keras.models import Model # стандартный класс для построения нашей модели\n",
    "from keras.layers import Input, Dense # используем начальный слой и след слои\n",
    "from keras.utils import np_utils # утилиты для one-hot encoding"
   ]
  },
  {
   "cell_type": "markdown",
   "metadata": {},
   "source": [
    "Задаем настройки нашей модели"
   ]
  },
  {
   "cell_type": "code",
   "execution_count": 3,
   "metadata": {
    "colab": {},
    "colab_type": "code",
    "id": "w_dKOR4OqeiL"
   },
   "outputs": [],
   "source": [
    "batch_size = 128 # наш размер батча\n",
    "num_epochs = 20 # количество итераций\n",
    "hidden_size = 512 # будет 512 нейронов в 2х скрытых слоях"
   ]
  },
  {
   "cell_type": "code",
   "execution_count": 4,
   "metadata": {
    "colab": {
     "base_uri": "https://localhost:8080/",
     "height": 51
    },
    "colab_type": "code",
    "id": "x8Yh2777FtlD",
    "outputId": "41f85ef5-a180-4c9d-de83-7eeaaa0d148f"
   },
   "outputs": [
    {
     "name": "stdout",
     "output_type": "stream",
     "text": [
      "Downloading data from https://storage.googleapis.com/tensorflow/tf-keras-datasets/mnist.npz\n",
      "11493376/11490434 [==============================] - 0s 0us/step\n"
     ]
    }
   ],
   "source": [
    "num_train = 60000\n",
    "num_test = 10000\n",
    "\n",
    "height, width, depth = 28, 28, 1 # делаем размерность 28 х 28 в grayscale\n",
    "num_classes = 10 # количество классов наших цифр\n",
    "\n",
    "(X_train, y_train), (X_test, y_test) = mnist.load_data() # разбиваем на train/test\n",
    "\n",
    "X_train = X_train.reshape(num_train, height * width) # растягиваем наш датасет в 1D\n",
    "X_test = X_test.reshape(num_test, height * width) # растягиваем наш датасет в 1D\n",
    "X_train = X_train.astype('float32') \n",
    "X_test = X_test.astype('float32')\n",
    "X_train /= 255 # Нормализуем данные\n",
    "X_test /= 255 # Нормализуем данные\n",
    "\n",
    "Y_train = np_utils.to_categorical(y_train, num_classes) # One-hot encode\n",
    "Y_test = np_utils.to_categorical(y_test, num_classes) # One-hot encode"
   ]
  },
  {
   "cell_type": "code",
   "execution_count": 5,
   "metadata": {
    "colab": {},
    "colab_type": "code",
    "id": "GnXnUxJKFvnk"
   },
   "outputs": [],
   "source": [
    "inp = Input(shape=(height * width,)) # Создаем первоначальный слой в количестве 784 нейронов\n",
    "hidden_1 = Dense(hidden_size, activation='relu')(inp) # ставим на первый слой активацию Relu\n",
    "hidden_2 = Dense(hidden_size, activation='relu')(hidden_1) # на второй слой Relu\n",
    "out = Dense(num_classes, activation='softmax')(hidden_2) # применяем на конце softmax для распознавания классов\n",
    "\n",
    "model = Model(inp, out) # Собираем модель"
   ]
  },
  {
   "cell_type": "code",
   "execution_count": 6,
   "metadata": {
    "colab": {},
    "colab_type": "code",
    "id": "jf4N08pqF0S7"
   },
   "outputs": [],
   "source": [
    "model.compile(loss='categorical_crossentropy', optimizer='adam', metrics=['accuracy'])"
   ]
  },
  {
   "cell_type": "code",
   "execution_count": 8,
   "metadata": {
    "colab": {
     "base_uri": "https://localhost:8080/",
     "height": 731
    },
    "colab_type": "code",
    "id": "dcxLRxwVHVdX",
    "outputId": "0898356e-0b59-417f-f0b0-9c93954a28cb"
   },
   "outputs": [
    {
     "name": "stdout",
     "output_type": "stream",
     "text": [
      "Epoch 1/20\n",
      "422/422 [==============================] - 2s 5ms/step - loss: 0.2343 - accuracy: 0.9308 - val_loss: 0.0950 - val_accuracy: 0.9705\n",
      "Epoch 2/20\n",
      "422/422 [==============================] - 2s 4ms/step - loss: 0.0838 - accuracy: 0.9739 - val_loss: 0.0847 - val_accuracy: 0.9760\n",
      "Epoch 3/20\n",
      "422/422 [==============================] - 2s 4ms/step - loss: 0.0545 - accuracy: 0.9833 - val_loss: 0.0787 - val_accuracy: 0.9775\n",
      "Epoch 4/20\n",
      "422/422 [==============================] - 2s 4ms/step - loss: 0.0367 - accuracy: 0.9883 - val_loss: 0.0756 - val_accuracy: 0.9783\n",
      "Epoch 5/20\n",
      "422/422 [==============================] - 2s 4ms/step - loss: 0.0262 - accuracy: 0.9915 - val_loss: 0.1097 - val_accuracy: 0.9703\n",
      "Epoch 6/20\n",
      "422/422 [==============================] - 2s 4ms/step - loss: 0.0236 - accuracy: 0.9921 - val_loss: 0.0709 - val_accuracy: 0.9835\n",
      "Epoch 7/20\n",
      "422/422 [==============================] - 2s 4ms/step - loss: 0.0165 - accuracy: 0.9943 - val_loss: 0.0778 - val_accuracy: 0.9803\n",
      "Epoch 8/20\n",
      "422/422 [==============================] - 2s 4ms/step - loss: 0.0157 - accuracy: 0.9945 - val_loss: 0.0806 - val_accuracy: 0.9818\n",
      "Epoch 9/20\n",
      "422/422 [==============================] - 2s 4ms/step - loss: 0.0172 - accuracy: 0.9941 - val_loss: 0.0919 - val_accuracy: 0.9782\n",
      "Epoch 10/20\n",
      "422/422 [==============================] - 2s 4ms/step - loss: 0.0177 - accuracy: 0.9939 - val_loss: 0.0903 - val_accuracy: 0.9790\n",
      "Epoch 11/20\n",
      "422/422 [==============================] - 2s 4ms/step - loss: 0.0112 - accuracy: 0.9964 - val_loss: 0.0931 - val_accuracy: 0.9805\n",
      "Epoch 12/20\n",
      "422/422 [==============================] - 2s 4ms/step - loss: 0.0087 - accuracy: 0.9972 - val_loss: 0.0986 - val_accuracy: 0.9802\n",
      "Epoch 13/20\n",
      "422/422 [==============================] - 2s 4ms/step - loss: 0.0109 - accuracy: 0.9963 - val_loss: 0.1073 - val_accuracy: 0.9792\n",
      "Epoch 14/20\n",
      "422/422 [==============================] - 2s 4ms/step - loss: 0.0093 - accuracy: 0.9966 - val_loss: 0.1027 - val_accuracy: 0.9813\n",
      "Epoch 15/20\n",
      "422/422 [==============================] - 2s 4ms/step - loss: 0.0127 - accuracy: 0.9958 - val_loss: 0.0869 - val_accuracy: 0.9822\n",
      "Epoch 16/20\n",
      "422/422 [==============================] - 2s 4ms/step - loss: 0.0088 - accuracy: 0.9971 - val_loss: 0.1130 - val_accuracy: 0.9820\n",
      "Epoch 17/20\n",
      "422/422 [==============================] - 2s 4ms/step - loss: 0.0070 - accuracy: 0.9978 - val_loss: 0.0885 - val_accuracy: 0.9833\n",
      "Epoch 18/20\n",
      "422/422 [==============================] - 2s 4ms/step - loss: 0.0040 - accuracy: 0.9985 - val_loss: 0.1118 - val_accuracy: 0.9818\n",
      "Epoch 19/20\n",
      "422/422 [==============================] - 2s 4ms/step - loss: 0.0098 - accuracy: 0.9972 - val_loss: 0.0918 - val_accuracy: 0.9830\n",
      "Epoch 20/20\n",
      "422/422 [==============================] - 2s 4ms/step - loss: 0.0076 - accuracy: 0.9977 - val_loss: 0.1174 - val_accuracy: 0.9817\n",
      "313/313 [==============================] - 1s 3ms/step - loss: 0.1166 - accuracy: 0.9807\n"
     ]
    },
    {
     "data": {
      "text/plain": [
       "[0.11657267808914185, 0.9807000160217285]"
      ]
     },
     "execution_count": 8,
     "metadata": {
      "tags": []
     },
     "output_type": "execute_result"
    }
   ],
   "source": [
    "model.fit(X_train, Y_train, batch_size=batch_size, epochs=num_epochs, verbose=1, validation_split=0.1)\n",
    "model.evaluate(X_test, Y_test, verbose=1) # Оцениваем нашу модель"
   ]
  },
  {
   "cell_type": "code",
   "execution_count": null,
   "metadata": {
    "colab": {},
    "colab_type": "code",
    "id": "YOqcOFHIHo05"
   },
   "outputs": [],
   "source": []
  }
 ],
 "metadata": {
  "accelerator": "GPU",
  "colab": {
   "name": "Untitled1.ipynb",
   "provenance": []
  },
  "kernelspec": {
   "display_name": "Python 3",
   "language": "python",
   "name": "python3"
  },
  "language_info": {
   "codemirror_mode": {
    "name": "ipython",
    "version": 3
   },
   "file_extension": ".py",
   "mimetype": "text/x-python",
   "name": "python",
   "nbconvert_exporter": "python",
   "pygments_lexer": "ipython3",
   "version": "3.7.9"
  }
 },
 "nbformat": 4,
 "nbformat_minor": 1
}
