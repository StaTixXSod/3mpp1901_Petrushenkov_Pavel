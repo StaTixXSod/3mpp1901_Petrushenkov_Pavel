{
 "cells": [
  {
   "cell_type": "markdown",
   "metadata": {},
   "source": [
    "### 1、Import tensorflow and use tensorflow to define a constant."
   ]
  },
  {
   "cell_type": "code",
   "execution_count": 1,
   "metadata": {},
   "outputs": [
    {
     "name": "stdout",
     "output_type": "stream",
     "text": [
      "WARNING:tensorflow:From /Users/administrator/opt/anaconda3/envs/handcontrol/lib/python3.7/site-packages/tensorflow_core/python/compat/v2_compat.py:65: disable_resource_variables (from tensorflow.python.ops.variable_scope) is deprecated and will be removed in a future version.\n",
      "Instructions for updating:\n",
      "non-resource variables are not supported in the long term\n"
     ]
    }
   ],
   "source": [
    "import tensorflow.compat.v1 as tf\n",
    "tf.disable_v2_behavior()"
   ]
  },
  {
   "cell_type": "markdown",
   "metadata": {},
   "source": [
    "### 2、Use tensorflow to print 'Welcome to Huawei'."
   ]
  },
  {
   "cell_type": "code",
   "execution_count": 2,
   "metadata": {},
   "outputs": [],
   "source": [
    "welcome = tf.constant('Welcome to Huawei')"
   ]
  },
  {
   "cell_type": "code",
   "execution_count": 3,
   "metadata": {},
   "outputs": [
    {
     "name": "stdout",
     "output_type": "stream",
     "text": [
      "b'Welcome to Huawei'\n"
     ]
    }
   ],
   "source": [
    "sess = tf.Session()\n",
    "print(sess.run(welcome))\n",
    "sess.close()  "
   ]
  },
  {
   "cell_type": "markdown",
   "metadata": {},
   "source": [
    "### 3、Use tensorflow to define two numeric constants,then calculate them and print the result."
   ]
  },
  {
   "cell_type": "code",
   "execution_count": 4,
   "metadata": {},
   "outputs": [
    {
     "name": "stdout",
     "output_type": "stream",
     "text": [
      "11\n"
     ]
    }
   ],
   "source": [
    "a = tf.constant(5)\n",
    "b = tf.constant(6)\n",
    "\n",
    "with tf.Session() as sess:\n",
    "    print(sess.run(a + b))"
   ]
  },
  {
   "cell_type": "markdown",
   "metadata": {},
   "source": [
    "### 4、Randomly generate two matrices using tensorflow, calculate and print the result of their multiplication."
   ]
  },
  {
   "cell_type": "code",
   "execution_count": 5,
   "metadata": {},
   "outputs": [
    {
     "name": "stdout",
     "output_type": "stream",
     "text": [
      "[[6.1242414 1.4868115 7.298416  4.4238605]\n",
      " [6.5779    2.8063903 5.14013   5.2800756]\n",
      " [7.731074  3.384617  5.1488037 5.2352395]\n",
      " [8.266962  4.8080864 3.6336565 7.2424107]]\n"
     ]
    }
   ],
   "source": [
    "sess = tf.InteractiveSession()\n",
    "\n",
    "random1 = tf.Variable(tf.random_normal([4, 3], mean=1.0, stddev=1.0))\n",
    "random2 = tf.Variable(tf.random_normal([3, 4], mean=1.0, stddev=1.0))\n",
    "\n",
    "tf.global_variables_initializer().run()\n",
    "\n",
    "mult = tf.matmul(random1, random2)\n",
    "print(sess.run(mult))\n",
    "sess.close()"
   ]
  },
  {
   "cell_type": "markdown",
   "metadata": {},
   "source": [
    "### 5、Try to use your own handwriting number to do image recognition"
   ]
  },
  {
   "cell_type": "markdown",
   "metadata": {},
   "source": [
    "Импортируем датасет, оболочку модели, слои и утилзы"
   ]
  },
  {
   "cell_type": "code",
   "execution_count": 6,
   "metadata": {
    "colab": {},
    "colab_type": "code",
    "id": "Yj-Pm2SNqZY0"
   },
   "outputs": [
    {
     "name": "stderr",
     "output_type": "stream",
     "text": [
      "Using TensorFlow backend.\n"
     ]
    }
   ],
   "source": [
    "from keras.datasets import mnist # Импортируем датасет\n",
    "from keras.models import Model # стандартный класс для построения нашей модели\n",
    "from keras.layers import Input, Dense # используем начальный слой и след слои\n",
    "from keras.utils import np_utils # утилиты для one-hot encoding"
   ]
  },
  {
   "cell_type": "markdown",
   "metadata": {},
   "source": [
    "Задаем настройки нашей модели"
   ]
  },
  {
   "cell_type": "code",
   "execution_count": 12,
   "metadata": {
    "colab": {},
    "colab_type": "code",
    "id": "w_dKOR4OqeiL"
   },
   "outputs": [],
   "source": [
    "batch_size = 128 # наш размер батча\n",
    "num_epochs = 10 # количество итераций\n",
    "hidden_size = 512 # будет 512 нейронов в 2х скрытых слоях"
   ]
  },
  {
   "cell_type": "code",
   "execution_count": 23,
   "metadata": {
    "colab": {
     "base_uri": "https://localhost:8080/",
     "height": 51
    },
    "colab_type": "code",
    "id": "x8Yh2777FtlD",
    "outputId": "41f85ef5-a180-4c9d-de83-7eeaaa0d148f"
   },
   "outputs": [],
   "source": [
    "num_train = 60000\n",
    "num_test = 10000\n",
    "\n",
    "height, width, depth = 28, 28, 1 # делаем размерность 28 х 28 в grayscale\n",
    "num_classes = 10 # количество классов наших цифр\n",
    "\n",
    "(X_train, y_train), (X_test, y_test) = mnist.load_data() # разбиваем на train/test\n",
    "\n",
    "X_test_pic = X_test\n",
    "X_train = X_train.reshape(num_train, height * width) # растягиваем наш датасет в 1D\n",
    "X_test = X_test.reshape(num_test, height * width) # растягиваем наш датасет в 1D\n",
    "X_train = X_train.astype('float32') \n",
    "X_test = X_test.astype('float32')\n",
    "X_train /= 255 # Нормализуем данные\n",
    "X_test /= 255 # Нормализуем данные\n",
    "\n",
    "Y_train = np_utils.to_categorical(y_train, num_classes) # One-hot encode\n",
    "Y_test = np_utils.to_categorical(y_test, num_classes) # One-hot encode"
   ]
  },
  {
   "cell_type": "code",
   "execution_count": 9,
   "metadata": {
    "colab": {},
    "colab_type": "code",
    "id": "GnXnUxJKFvnk"
   },
   "outputs": [
    {
     "name": "stdout",
     "output_type": "stream",
     "text": [
      "WARNING:tensorflow:From /Users/administrator/opt/anaconda3/envs/handcontrol/lib/python3.7/site-packages/tensorflow_core/python/ops/resource_variable_ops.py:1630: calling BaseResourceVariable.__init__ (from tensorflow.python.ops.resource_variable_ops) with constraint is deprecated and will be removed in a future version.\n",
      "Instructions for updating:\n",
      "If using Keras pass *_constraint arguments to layers.\n"
     ]
    }
   ],
   "source": [
    "inp = Input(shape=(height * width,)) # Создаем первоначальный слой в количестве 784 нейронов\n",
    "hidden_1 = Dense(hidden_size, activation='relu')(inp) # ставим на первый слой активацию Relu\n",
    "hidden_2 = Dense(hidden_size, activation='relu')(hidden_1) # на второй слой Relu\n",
    "out = Dense(num_classes, activation='softmax')(hidden_2) # применяем на конце softmax для распознавания классов\n",
    "\n",
    "model = Model(inp, out) # Собираем модель"
   ]
  },
  {
   "cell_type": "code",
   "execution_count": 10,
   "metadata": {
    "colab": {},
    "colab_type": "code",
    "id": "jf4N08pqF0S7"
   },
   "outputs": [],
   "source": [
    "model.compile(loss='categorical_crossentropy', optimizer='adam', metrics=['accuracy'])"
   ]
  },
  {
   "cell_type": "code",
   "execution_count": 13,
   "metadata": {
    "colab": {
     "base_uri": "https://localhost:8080/",
     "height": 731
    },
    "colab_type": "code",
    "id": "dcxLRxwVHVdX",
    "outputId": "0898356e-0b59-417f-f0b0-9c93954a28cb"
   },
   "outputs": [
    {
     "name": "stdout",
     "output_type": "stream",
     "text": [
      "Train on 54000 samples, validate on 6000 samples\n",
      "Epoch 1/10\n",
      "54000/54000 [==============================] - 9s 162us/step - loss: 0.0329 - accuracy: 0.9890 - val_loss: 0.0723 - val_accuracy: 0.9797\n",
      "Epoch 2/10\n",
      "54000/54000 [==============================] - 9s 159us/step - loss: 0.0242 - accuracy: 0.9920 - val_loss: 0.0810 - val_accuracy: 0.9800\n",
      "Epoch 3/10\n",
      "54000/54000 [==============================] - 9s 160us/step - loss: 0.0200 - accuracy: 0.9933 - val_loss: 0.0809 - val_accuracy: 0.9807\n",
      "Epoch 4/10\n",
      "54000/54000 [==============================] - 9s 160us/step - loss: 0.0187 - accuracy: 0.9940 - val_loss: 0.0795 - val_accuracy: 0.9808\n",
      "Epoch 5/10\n",
      "54000/54000 [==============================] - 9s 161us/step - loss: 0.0154 - accuracy: 0.9949 - val_loss: 0.0875 - val_accuracy: 0.9803\n",
      "Epoch 6/10\n",
      "54000/54000 [==============================] - 9s 161us/step - loss: 0.0125 - accuracy: 0.9959 - val_loss: 0.0802 - val_accuracy: 0.9813\n",
      "Epoch 7/10\n",
      "54000/54000 [==============================] - 9s 161us/step - loss: 0.0137 - accuracy: 0.9957 - val_loss: 0.0975 - val_accuracy: 0.9792\n",
      "Epoch 8/10\n",
      "54000/54000 [==============================] - 9s 166us/step - loss: 0.0111 - accuracy: 0.9960 - val_loss: 0.0914 - val_accuracy: 0.9823\n",
      "Epoch 9/10\n",
      "54000/54000 [==============================] - 9s 168us/step - loss: 0.0120 - accuracy: 0.9962 - val_loss: 0.0988 - val_accuracy: 0.9795\n",
      "Epoch 10/10\n",
      "54000/54000 [==============================] - 9s 158us/step - loss: 0.0096 - accuracy: 0.9967 - val_loss: 0.1057 - val_accuracy: 0.9790\n",
      "10000/10000 [==============================] - 1s 93us/step\n"
     ]
    },
    {
     "data": {
      "text/plain": [
       "[0.09010475794177827, 0.9800000190734863]"
      ]
     },
     "execution_count": 13,
     "metadata": {},
     "output_type": "execute_result"
    }
   ],
   "source": [
    "model.fit(X_train, Y_train, batch_size=batch_size, epochs=num_epochs, verbose=1, validation_split=0.1)\n",
    "model.evaluate(X_test, Y_test, verbose=1) # Оцениваем нашу модель"
   ]
  },
  {
   "cell_type": "code",
   "execution_count": 32,
   "metadata": {
    "colab": {},
    "colab_type": "code",
    "id": "YOqcOFHIHo05"
   },
   "outputs": [],
   "source": [
    "import matplotlib.pyplot as plt\n",
    "import numpy as np\n",
    "%matplotlib inline"
   ]
  },
  {
   "cell_type": "code",
   "execution_count": 25,
   "metadata": {},
   "outputs": [
    {
     "data": {
      "text/plain": [
       "<matplotlib.image.AxesImage at 0x7ffcd3141f10>"
      ]
     },
     "execution_count": 25,
     "metadata": {},
     "output_type": "execute_result"
    },
    {
     "data": {
      "image/png": "[encoded data removed]",
      "text/plain": [
       "<Figure size 432x288 with 1 Axes>"
      ]
     },
     "metadata": {
      "needs_background": "light"
     },
     "output_type": "display_data"
    }
   ],
   "source": [
    "plt.imshow(X_test_pic[0])"
   ]
  },
  {
   "cell_type": "code",
   "execution_count": 30,
   "metadata": {},
   "outputs": [
    {
     "data": {
      "text/plain": [
       "7"
      ]
     },
     "execution_count": 30,
     "metadata": {},
     "output_type": "execute_result"
    }
   ],
   "source": [
    "y_test[0]"
   ]
  },
  {
   "cell_type": "code",
   "execution_count": 34,
   "metadata": {},
   "outputs": [
    {
     "name": "stdout",
     "output_type": "stream",
     "text": [
      "10000/10000 [==============================] - 0s 46us/step\n",
      "The answer is:  7\n"
     ]
    }
   ],
   "source": [
    "pred = model.predict(X_test, batch_size=batch_size, verbose=1)\n",
    "idx = np.argmax(pred)\n",
    "print('The answer is: ', idx)"
   ]
  },
  {
   "cell_type": "code",
   "execution_count": null,
   "metadata": {},
   "outputs": [],
   "source": []
  }
 ],
 "metadata": {
  "accelerator": "GPU",
  "colab": {
   "name": "Untitled1.ipynb",
   "provenance": []
  },
  "kernelspec": {
   "display_name": "Python 3",
   "language": "python",
   "name": "python3"
  },
  "language_info": {
   "codemirror_mode": {
    "name": "ipython",
    "version": 3
   },
   "file_extension": ".py",
   "mimetype": "text/x-python",
   "name": "python",
   "nbconvert_exporter": "python",
   "pygments_lexer": "ipython3",
   "version": "3.7.7"
  }
 },
 "nbformat": 4,
 "nbformat_minor": 1
}
