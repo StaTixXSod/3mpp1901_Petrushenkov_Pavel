{
 "cells": [
  {
   "cell_type": "markdown",
   "metadata": {},
   "source": [
    "# 1\tHello, TensorFlow!\n",
    "This experiment introduces the function of sessions by outputting \"Hello, TensorFlow!\"."
   ]
  },
  {
   "cell_type": "markdown",
   "metadata": {},
   "source": [
    "1.1.2\tObjectives of the Experiment  \n",
    "\tUnderstand the definition of sessions.  \n",
    "\tUnderstand how to create a session.  "
   ]
  },
  {
   "cell_type": "markdown",
   "metadata": {},
   "source": [
    "1.1.3\tExperiment Content\n",
    "Two data flow mechanisms are involved in the interaction between a session and a graph.\n",
    "Feed mechanism: Transmit data into the graph by placeholders.\n",
    "Fetch mechanism: Retrieve the result of an operation in the graph.\n",
    "This experiment introduces the function of sessions by creating a session.\n",
    "Create a session and output \"Hello, TensorFlow!\" in the session."
   ]
  },
  {
   "cell_type": "markdown",
   "metadata": {},
   "source": [
    "# 1.2\tExperimental Process"
   ]
  },
  {
   "cell_type": "code",
   "execution_count": 1,
   "metadata": {},
   "outputs": [
    {
     "name": "stderr",
     "output_type": "stream",
     "text": [
      "D:\\APPs\\Anaconda\\lib\\site-packages\\h5py\\__init__.py:36: FutureWarning: Conversion of the second argument of issubdtype from `float` to `np.floating` is deprecated. In future, it will be treated as `np.float64 == np.dtype(float).type`.\n",
      "  from ._conv import register_converters as _register_converters\n"
     ]
    },
    {
     "name": "stdout",
     "output_type": "stream",
     "text": [
      "b'Hello, TensorFlow!'\n"
     ]
    }
   ],
   "source": [
    "#1.2.1\tSetting Encoding Declarations\n",
    "# -*- coding: utf-8 -*-\n",
    "#1.2.2\tImporting a Module\n",
    "import tensorflow as tf\n",
    "#1.2.3\tDefining Variables\n",
    "hello = tf.constant('Hello, TensorFlow!')  #Define a constant.\n",
    "#1.2.4\tCreating a Session\n",
    "sess = tf.Session()                            #Create a session.\n",
    "print (sess.run(hello))                        #Run the command session.run to get the result.\n",
    "#1.2.5\tClosing the Session\n",
    "sess.close()                                     #Close the session."
   ]
  },
  {
   "cell_type": "markdown",
   "metadata": {},
   "source": [
    "1.3\tInstance Description\n",
    "tf.constant defines a constant. The content after hello can only be returned by the session.run command.\n",
    " "
   ]
  },
  {
   "cell_type": "markdown",
   "metadata": {},
   "source": [
    "# 2\tSession"
   ]
  },
  {
   "cell_type": "markdown",
   "metadata": {},
   "source": [
    "2.1\tIntroduction to the Experiment  \n",
    "2.1.1\tAbout the Experiment  \n",
    "This experiment introduces the function of sessions by enabling a session using the withsession syntax.  \n",
    "2.1.2\tObjectives of the Experiment  \n",
    "\tUnderstand the definition of sessions. \n",
    "\tUnderstand how to use the withsession syntax to create a session.  \n",
    "2.1.3\tExperiment Content  \n",
    "The syntax withsession is the most commonly used one for enabling a session. It adopts the with syntax in Python which allows a session to close automatically upon termination of a program without requiring the close command.  "
   ]
  },
  {
   "cell_type": "code",
   "execution_count": 2,
   "metadata": {},
   "outputs": [
    {
     "name": "stdout",
     "output_type": "stream",
     "text": [
      "Add:  7\n",
      "Multiply:  12\n"
     ]
    }
   ],
   "source": [
    "#2.2\tExperimental Process\n",
    "#2.2.1\tSetting Encoding Declarations\n",
    "# -*- coding: utf-8 -*-\n",
    "#2.2.2\tImporting a Module\n",
    "import tensorflow as tf\n",
    "#2.2.3\tDefining Constants\n",
    "a = tf.constant(3)                     #Defining constant 3.\n",
    "b = tf.constant(4)                     #Defining constant 4.\n",
    "#2.2.4\tCreating a Session\n",
    "with tf.Session() as sess:           #Create a session.\n",
    "    print(\"Add:  %i\" % sess.run(a+b))     #Calculate and output the sum of the two constants\n",
    "\n",
    "    print (\"Multiply:  %i\" % sess.run(a*b))     #Calculate and output the product of the two constants."
   ]
  },
  {
   "cell_type": "markdown",
   "metadata": {},
   "source": [
    "2.3\tInstance Description\n",
    "Use the withsession syntax to create a session. Calculate and output the sum and product of two constants (3 and 4). "
   ]
  },
  {
   "cell_type": "markdown",
   "metadata": {},
   "source": [
    "# 3\tMatrix Multiplication"
   ]
  },
  {
   "cell_type": "markdown",
   "metadata": {},
   "source": [
    "3.1\tIntroduction to the Experiment  \n",
    "3.1.1\tAbout the Experiment  \n",
    "This experiment introduces the tensor of TensorFlow to help you understand the use of matrix multiplication functions.  \n",
    "3.1.2\tObjectives of the Experiment  \n",
    "\tUnderstand the tensor of TensorFlow.  \n",
    "\tUnderstand how to use TensorFlow to multiply matrixes.  \n",
    "3.1.3\tExperiment Content  \n",
    "In TensorFlow, you can use the tf.matmul() command to multiply matrixes. However, it cannot be used to multiply a matrix by a vector. This experiment introduces the matrix multiplication of TensorFlow.  "
   ]
  },
  {
   "cell_type": "code",
   "execution_count": 3,
   "metadata": {},
   "outputs": [
    {
     "name": "stdout",
     "output_type": "stream",
     "text": [
      "[[3.6379123]]\n"
     ]
    }
   ],
   "source": [
    "#3.2\tExperimental Process\n",
    "#3.2.1\tSetting Encoding Declarations\n",
    "# -*- coding: utf-8 -*-\n",
    "#3.2.2\tImporting a Module\n",
    "import tensorflow as tf\n",
    "#3.2.3\tStarting a TensorFlow Default Session\n",
    "#Tensorflow default session.\n",
    "sess = tf.InteractiveSession()\n",
    "#3.2.4\tCreating Matrix Variables\n",
    "#Create two matrix variables w1 and w2.\n",
    "#tf.random_normal(shape,\n",
    "#                 mean=0.0,\n",
    "#                 stddev=1.0,\n",
    "#                 dtype=dtypes.float32,\n",
    "#                 seed=None,\n",
    "#                 name=None)\n",
    "#A random normal distribution is generated.\n",
    "#shape stands for the matrix dimension. For example,\n",
    "#tf.random_normal([2,3],mean=1.0, stddev=1.0) is a matrix of two rows and three columns.\n",
    "#mean stands for an average. Its default value is 0.0. stddev stands for standard deviation. Its default value is 1.0.\n",
    "#seed stands for random seed. Its default value is None.\n",
    "w1 = tf.Variable(tf.random_normal([2,3],mean=1.0, stddev=1.0))\n",
    "w2 = tf.Variable(tf.random_normal([3,1],mean=1.0, stddev=1.0))\n",
    "#3.2.5\tDefining a Constant Matrix\n",
    "#Define a two-dimension constant matrix (not a one-dimensional array).\n",
    "x = tf.constant([[0.7, 0.9]])\n",
    "#3.2.6\tInitializing Global Variables\n",
    "#Initialize global variables. This step initializes variables w1 and w2 only as these two variables have not been initialized (tensors of them have been defined in previous steps).\n",
    "tf.global_variables_initializer().run()\n",
    "#3.2.7\tMatrix Multiplication\n",
    "#Multiply matrixes a= x*w1 For information about matrix multiplication, see linear algebra.\n",
    "a = tf.matmul(x ,w1)\n",
    "#Multiply matrixes y=a*w2\n",
    "y = tf.matmul(a, w2)\n",
    "#The output computation result is a two-dimension matrix of one row and one column.\n",
    "print(y.eval())"
   ]
  },
  {
   "cell_type": "markdown",
   "metadata": {},
   "source": [
    "3.3\tInstance Description  \n",
    "3.3.1\tInstance Description  \n",
    "Use the withsession syntax to create a session and multiply matrixes in the session.  \n",
    " "
   ]
  },
  {
   "cell_type": "markdown",
   "metadata": {},
   "source": [
    "# 4\tDefinition of Variables"
   ]
  },
  {
   "cell_type": "markdown",
   "metadata": {},
   "source": [
    "4.1\tIntroduction to the Experiment  \n",
    "4.1.1\tAbout the Experiment  \n",
    "In this experiment, you can understand the use of variables by creating variables (nodes) with the tf.Variable function.  \n",
    "4.1.2\tObjectives of the Experiment  \n",
    "\tUnderstand the tf.Variable and the get_variable functions. Use the get_variable function to get variables.  \n",
    "\tUnderstand the difference between the tf.Variable and the get_variable functions.  \n",
    "4.1.3\tExperiment Content  \n",
    "In this experiment, you can understand the use of the tf.Variable and the get_variable functions and the difference between them.  "
   ]
  },
  {
   "cell_type": "code",
   "execution_count": 4,
   "metadata": {},
   "outputs": [
    {
     "name": "stdout",
     "output_type": "stream",
     "text": [
      "var1: varname:0\n"
     ]
    }
   ],
   "source": [
    "#4.2\tExperimental Process\n",
    "#4.2.1\tSetting Encoding Declarations\n",
    "# -*- coding: utf-8 -*-\n",
    "#4.2.2\tImporting a Module\n",
    "import tensorflow as tf\n",
    "#4.2.3\tResetting the Computation Graph\n",
    "tf.reset_default_graph()\n",
    "#4.2.4\tDefining Variables\n",
    "var1 = tf.Variable(10.0 , name=\"varname\")\n",
    "var2 = tf.Variable(11.0 , name=\"varname\")\n",
    "var3 = tf.Variable(12.0 )\n",
    "var4 = tf.Variable(13.0 )\n",
    "#4.2.5\tDefining get_variable\n",
    "with tf.variable_scope(\"test1\"):\n",
    "    var5 = tf.get_variable(\"varname\",shape=[2],dtype=tf.float32)\n",
    "with tf.variable_scope(\"test2\"):\n",
    "    var6 = tf.get_variable(\"varname\",shape=[2],dtype=tf.float32)\n",
    "#4.2.6\tOutputting Variables\n",
    "print(\"var1:\",var1.name)   #print variable 1"
   ]
  },
  {
   "cell_type": "code",
   "execution_count": 5,
   "metadata": {},
   "outputs": [
    {
     "name": "stdout",
     "output_type": "stream",
     "text": [
      "var2: varname_1:0\n"
     ]
    }
   ],
   "source": [
    "print(\"var2:\",var2.name)   #print variable 2"
   ]
  },
  {
   "cell_type": "code",
   "execution_count": 6,
   "metadata": {},
   "outputs": [
    {
     "name": "stdout",
     "output_type": "stream",
     "text": [
      "var3: Variable:0\n"
     ]
    }
   ],
   "source": [
    "print(\"var3:\",var3.name)   #print variable 3"
   ]
  },
  {
   "cell_type": "code",
   "execution_count": 7,
   "metadata": {},
   "outputs": [
    {
     "name": "stdout",
     "output_type": "stream",
     "text": [
      "var4: Variable_1:0\n"
     ]
    }
   ],
   "source": [
    "print(\"var4:\",var4.name)   #print variable 4"
   ]
  },
  {
   "cell_type": "code",
   "execution_count": 8,
   "metadata": {},
   "outputs": [
    {
     "name": "stdout",
     "output_type": "stream",
     "text": [
      "var5: test1/varname:0\n"
     ]
    }
   ],
   "source": [
    "print(\"var5:\",var5.name)   #print get_variable 1"
   ]
  },
  {
   "cell_type": "code",
   "execution_count": 9,
   "metadata": {},
   "outputs": [
    {
     "name": "stdout",
     "output_type": "stream",
     "text": [
      "var6: test2/varname:0\n"
     ]
    }
   ],
   "source": [
    "print(\"var6:\",var6.name)   #print get_variable 2"
   ]
  },
  {
   "cell_type": "markdown",
   "metadata": {},
   "source": [
    "# 5 Visualization of TensorBoard"
   ]
  },
  {
   "cell_type": "markdown",
   "metadata": {},
   "source": [
    "Introduction to the Experiment  \n",
    "5.1\tAbout the Experiment  \n",
    "This experiment shows the visualization of TensorBoard.  \n",
    "5.2\tObjectives of the Experiment  \n",
    "Understand the virtualization tool TensorBoard.  \n",
    "5.3\tExperiment Content  \n",
    "TensorFlow provides a virtualization tool, that is, TensorBoard. This tool can show receipt data of the training process, including the scalar, picture, audio, computation graph, data distribution, column diagram, and embedded vector. You can observe the model structure and parameter variation in the training on the website. TensorBoard is a log display system. When you run a graph in a session, it aggregates all types of data needs and outputs them into log files. Enable TensorBoard to read the log files and enable the 6060 port to provide web services so that users can view data via a browser.  "
   ]
  },
  {
   "cell_type": "code",
   "execution_count": 10,
   "metadata": {},
   "outputs": [],
   "source": [
    "#5.4\tExperimental Process\n",
    "#5.4.1\tSetting Encoding Declarations\n",
    "# -*- coding: utf-8 -*-\n",
    "#5.4.2\tImporting a Module\n",
    "import tensorflow as tf\n",
    "import numpy as np\n",
    "import matplotlib.pyplot as plt\n",
    "\n",
    "plotdata = { \"batchsize\":[], \"loss\":[] }\n",
    "def moving_average(a, w=10):\n",
    "    if len(a) < w:\n",
    "        return a[:]\n",
    "    return [val if idx < w else sum(a[(idx-w):idx])/w for idx, val in enumerate(a)]"
   ]
  },
  {
   "cell_type": "code",
   "execution_count": 11,
   "metadata": {},
   "outputs": [],
   "source": [
    "#5.4.3\tGenerating Analog Data\n",
    "# Generate analog data.\n",
    "train_X = np.linspace(-1, 1, 100)\n",
    "train_Y = 2*train_X + np.random.randn(*train_X.shape)*0.3 # y=2x, but some noise is added.\n",
    "#5.4.4\tResetting the Computation Graph\n",
    "#Display the graph.\n",
    "# plt.plot(train_X, train_Y, 'ro', label='Original data')\n",
    "# plt.legend()\n",
    "plt.show()\n",
    "tf.reset_default_graph()"
   ]
  },
  {
   "cell_type": "code",
   "execution_count": 12,
   "metadata": {},
   "outputs": [],
   "source": [
    "#5.4.5\tCreating a Model\n",
    "#Create a model.\n",
    "#Placeholders\n",
    "X = tf.placeholder(\"float\")\n",
    "Y = tf.placeholder(\"float\")\n",
    "\n",
    "#Model parameters\n",
    "W = tf.Variable(tf.random_normal([1]), name=\"weight\")\n",
    "b = tf.Variable(tf.zeros([1]), name=\"bias\")"
   ]
  },
  {
   "cell_type": "code",
   "execution_count": 13,
   "metadata": {},
   "outputs": [
    {
     "data": {
      "text/plain": [
       "<tf.Tensor 'z:0' shape=() dtype=string>"
      ]
     },
     "execution_count": 13,
     "metadata": {},
     "output_type": "execute_result"
    }
   ],
   "source": [
    "#5.4.6\tCreating a Forward Structure\n",
    "#A forward structure\n",
    "z = tf.multiply(X, W)+ b\n",
    "tf.summary.histogram('z',z)#Display predicted values in a histogram."
   ]
  },
  {
   "cell_type": "code",
   "execution_count": 14,
   "metadata": {},
   "outputs": [],
   "source": [
    "#5.4.7\tReverse Optimization\n",
    "#Reverse optimization\n",
    "cost =tf.reduce_mean(tf.square(Y - z))\n",
    "tf.summary.scalar('loss_function', cost)#Show the loss by scalars.\n",
    "learning_rate = 0.01\n",
    "#Gradient descent\n",
    "optimizer = tf.train.GradientDescentOptimizer(learning_rate).minimize(cost)"
   ]
  },
  {
   "cell_type": "code",
   "execution_count": 15,
   "metadata": {},
   "outputs": [],
   "source": [
    "#5.4.8\tInitializing Variables\n",
    "#Initialize variables.\n",
    "init = tf.global_variables_initializer()\n",
    "\n",
    "#Set parameters.\n",
    "training_epochs = 20\n",
    "display_step = 2"
   ]
  },
  {
   "cell_type": "code",
   "execution_count": 16,
   "metadata": {},
   "outputs": [
    {
     "name": "stdout",
     "output_type": "stream",
     "text": [
      "Epoch: 1 cost= 0.07874475 W= [1.983545] b= [-0.01843948]\n",
      "Epoch: 3 cost= 0.07656274 W= [1.9380852] b= [-0.00628998]\n",
      "Epoch: 5 cost= 0.07625248 W= [1.9257543] b= [-0.00164719]\n",
      "Epoch: 7 cost= 0.07619585 W= [1.9225568] b= [-0.00042161]\n",
      "Epoch: 9 cost= 0.07618281 W= [1.9217296] b= [-0.00010426]\n",
      "Epoch: 11 cost= 0.076179564 W= [1.9215164] b= [-2.23713e-05]\n",
      "Epoch: 13 cost= 0.07617872 W= [1.9214605] b= [-9.406358e-07]\n",
      "Epoch: 15 cost= 0.076178506 W= [1.9214464] b= [4.367437e-06]\n",
      "Epoch: 17 cost= 0.07617845 W= [1.9214424] b= [5.962327e-06]\n",
      "Epoch: 19 cost= 0.07617843 W= [1.921442] b= [6.160699e-06]\n",
      " Finished!\n",
      "cost= 0.07617844 W= [1.9214419] b= [6.1965548e-06]\n",
      "cost: 0.07617844\n"
     ]
    },
    {
     "data": {
      "image/png": "[encoded data removed]",
      "text/plain": [
       "<Figure size 432x288 with 1 Axes>"
      ]
     },
     "metadata": {},
     "output_type": "display_data"
    }
   ],
   "source": [
    "#5.4.9\tStarting a Session\n",
    "#Start a session.\n",
    "with tf.Session() as sess:\n",
    "    sess.run(init)\n",
    "#Merge all summaries.\n",
    "    merged_summary_op = tf.summary.merge_all()\n",
    "#Create summary writer for file writing.\n",
    "    summary_writer = tf.summary.FileWriter('log/mnist_with_summaries',sess.graph)\n",
    "\n",
    "#5.4.10\tWriting Data to the Model\n",
    "#Write data to the model.\n",
    "    for epoch in range(training_epochs):\n",
    "        for (x, y) in zip(train_X, train_Y):\n",
    "            sess.run(optimizer, feed_dict={X: x, Y: y})\n",
    "\n",
    "#Generate a summary.\n",
    "            summary_str = sess.run(merged_summary_op,feed_dict={X: x, Y: y});\n",
    "            summary_writer.add_summary(summary_str, epoch);#Write summary to files.\n",
    "\n",
    "#Display all detailed information of training.\n",
    "        if epoch % display_step == 0:\n",
    "            loss = sess.run(cost, feed_dict={X: train_X, Y:train_Y})\n",
    "            print (\"Epoch:\", epoch+1, \"cost=\", loss,\"W=\", sess.run(W), \"b=\", sess.run(b))\n",
    "            if not (loss == \"NA\" ):\n",
    "                plotdata[\"batchsize\"].append(epoch)\n",
    "                plotdata[\"loss\"].append(loss)\n",
    "\n",
    "    print (\" Finished!\")\n",
    "    print (\"cost=\", sess.run(cost, feed_dict={X: train_X, Y: train_Y}), \"W=\", sess.run(W), \"b=\", sess.run(b))\n",
    "    print (\"cost:\",cost.eval({X: train_X, Y: train_Y}))\n",
    "\n",
    "#5.4.11\tGraphical Display\n",
    "#Visualized results:\n",
    "    plt.plot(train_X, train_Y, 'ro', label='Original data')\n",
    "    plt.plot(train_X, sess.run(W) * train_X + sess.run(b), label='Fitted line')\n",
    "plt.legend()\n",
    "plt.show()"
   ]
  },
  {
   "cell_type": "code",
   "execution_count": 17,
   "metadata": {},
   "outputs": [
    {
     "data": {
      "image/png": "[encoded data removed]",
      "text/plain": [
       "<Figure size 432x288 with 1 Axes>"
      ]
     },
     "metadata": {},
     "output_type": "display_data"
    }
   ],
   "source": [
    "plotdata[\"avgloss\"] = moving_average(plotdata[\"loss\"])\n",
    "plt.figure(1)\n",
    "plt.subplot(211)\n",
    "plt.plot(plotdata[\"batchsize\"], plotdata[\"avgloss\"], 'b--')\n",
    "plt.xlabel('Minibatch number')\n",
    "plt.ylabel('Loss')\n",
    "plt.title('Minibatch run vs. Training loss')\n",
    "plt.show()\n",
    "sess.close()\n",
    "#Test on model results:\n",
    "#print(\"x=0.2, z=\", sess.run(z, feed_dict={X: 0.2}))"
   ]
  },
  {
   "cell_type": "markdown",
   "metadata": {},
   "source": [
    "4.5\tInstance Description\n",
    "After running the code, the displayed result is the same as before, but there is a new folder log under the generated directory. This folder has a sub-folder mnist_with_summaries, which contains a file events.out.tfevents.1525835939. Click Start | Run. Enter cmd to launch a command-line process. Enter the following commands in the upper path of the summary log:\n",
    "tensorBoard -logdir D:\\Project\\HCNA-AI-ENG\\log\\mnist_with_summaries\n",
    "The following result is displayed:\n",
    "TensorBoard 1.8.0 at http://DWX536903:6006 (Press CTRL+C to quit)\n",
    "Enter the above URL in Chrome browser. The interface shown in Figure 5-2 is displayed.\n",
    "The Chrome browser is recommended.\n",
    "To start TensorBoard by commands, you need to access the upper path of the log first. Otherwise, you cannot find the created information on the website.\n",
    "\n",
    " "
   ]
  },
  {
   "cell_type": "markdown",
   "metadata": {},
   "source": [
    "# 3 Data Reading and Processing\n",
    "4.6\tIntroduction to the Experiment\n",
    "4.6.1\tAbout the Experiment\n",
    "The official website of TensorFlow provides three ways of data reading, including providing data, reading data from files, and preloading data. This experiment mainly adopts reading data from files.\n",
    "4.6.2\tObjectives of the Experiment\n",
    "Understand how TensorFlow reads data.\n",
    "Understand how to read data from files.\n",
    "4.6.3\tExperiment Content\n",
    "Preloading data and providing data apply to small amount of data. Running of mass data consumes much memory. In this condition, it is advised to read data from files. TensorFlow can read multiple types of files including CSV files, binary files, TFRecords files, and image files. In this experiment, TensorFlow reads CSV files."
   ]
  },
  {
   "cell_type": "code",
   "execution_count": 1,
   "metadata": {},
   "outputs": [
    {
     "name": "stderr",
     "output_type": "stream",
     "text": [
      "J:\\Anaconda\\software\\lib\\site-packages\\h5py\\__init__.py:36: FutureWarning: Conversion of the second argument of issubdtype from `float` to `np.floating` is deprecated. In future, it will be treated as `np.float64 == np.dtype(float).type`.\n",
      "  from ._conv import register_converters as _register_converters\n"
     ]
    },
    {
     "name": "stdout",
     "output_type": "stream",
     "text": [
      "WARNING:tensorflow:From <ipython-input-1-d99cf8031e5d>:7: string_input_producer (from tensorflow.python.training.input) is deprecated and will be removed in a future version.\n",
      "Instructions for updating:\n",
      "Queue-based input pipelines have been replaced by `tf.data`. Use `tf.data.Dataset.from_tensor_slices(string_tensor).shuffle(tf.shape(input_tensor, out_type=tf.int64)[0]).repeat(num_epochs)`. If `shuffle=False`, omit the `.shuffle(...)`.\n",
      "WARNING:tensorflow:From J:\\Anaconda\\software\\lib\\site-packages\\tensorflow\\python\\training\\input.py:276: input_producer (from tensorflow.python.training.input) is deprecated and will be removed in a future version.\n",
      "Instructions for updating:\n",
      "Queue-based input pipelines have been replaced by `tf.data`. Use `tf.data.Dataset.from_tensor_slices(input_tensor).shuffle(tf.shape(input_tensor, out_type=tf.int64)[0]).repeat(num_epochs)`. If `shuffle=False`, omit the `.shuffle(...)`.\n",
      "WARNING:tensorflow:From J:\\Anaconda\\software\\lib\\site-packages\\tensorflow\\python\\training\\input.py:188: limit_epochs (from tensorflow.python.training.input) is deprecated and will be removed in a future version.\n",
      "Instructions for updating:\n",
      "Queue-based input pipelines have been replaced by `tf.data`. Use `tf.data.Dataset.from_tensors(tensor).repeat(num_epochs)`.\n",
      "WARNING:tensorflow:From J:\\Anaconda\\software\\lib\\site-packages\\tensorflow\\python\\training\\input.py:197: QueueRunner.__init__ (from tensorflow.python.training.queue_runner_impl) is deprecated and will be removed in a future version.\n",
      "Instructions for updating:\n",
      "To construct input pipelines, use the `tf.data` module.\n",
      "WARNING:tensorflow:From J:\\Anaconda\\software\\lib\\site-packages\\tensorflow\\python\\training\\input.py:197: add_queue_runner (from tensorflow.python.training.queue_runner_impl) is deprecated and will be removed in a future version.\n",
      "Instructions for updating:\n",
      "To construct input pipelines, use the `tf.data` module.\n",
      "WARNING:tensorflow:From <ipython-input-1-d99cf8031e5d>:8: TextLineReader.__init__ (from tensorflow.python.ops.io_ops) is deprecated and will be removed in a future version.\n",
      "Instructions for updating:\n",
      "Queue-based input pipelines have been replaced by `tf.data`. Use `tf.data.TextLineDataset`.\n"
     ]
    }
   ],
   "source": [
    "#4.7\tExperimental Process\n",
    "#4.7.1\tSetting Encoding Declarations\n",
    "#coding:utf-8\n",
    "#4.7.2\tImporting a Module\n",
    "import tensorflow as tf\n",
    "#4.7.3\tReading Data from Files\n",
    "filename_queue = tf.train.string_input_producer([\"tf_read.csv\"])   #Read existing data.\n",
    "reader = tf.TextLineReader()"
   ]
  },
  {
   "cell_type": "markdown",
   "metadata": {},
   "source": [
    "There are 30 rows of data as follows in the file:\n",
    "-0.76\t15.67\t-0.12\t15.67\n",
    "-0.48\t12.52\t-0.06\t12.51\n",
    "1.33\t9.11\t0.12\t9.1\n",
    "-0.88\t20.35\t-0.18\t20.36\n",
    "-0.25\t3.99\t-0.01\t3.99\n",
    "-0.87\t26.25\t-0.23\t26.25\n",
    "-1.03\t2.87\t-0.03\t2.87\n",
    "-0.51\t7.81\t-0.04\t7.81\n",
    "-1.57\t14.46\t-0.23\t14.46\n",
    "-0.1\t10.02\t-0.01\t10.02\n",
    "-0.56\t8.92\t-0.05\t8.92\n",
    "-1.2\t4.1\t-0.05\t4.1\n",
    "-0.77\t5.15\t-0.04\t5.15\n",
    "-0.88\t4.48\t-0.04\t4.48\n",
    "-2.7\t10.82\t-0.3\t10.82\n",
    "-1.23\t2.4\t-0.03\t2.4\n",
    "-0.77\t5.16\t-0.04\t5.15\n",
    "-0.81\t6.15\t-0.05\t6.15\n",
    "-0.6\t5.01\t-0.03\t5\n",
    "-1.25\t4.75\t-0.06\t4.75\n",
    "-2.53\t7.31\t-0.19\t7.3\n",
    "-1.15\t16.39\t-0.19\t16.39\n",
    "-1.7\t5.19\t-0.09\t5.18\n",
    "-0.62\t3.23\t-0.02\t3.22\n",
    "-0.74\t17.43\t-0.13\t17.41\n",
    "-0.77\t15.41\t-0.12\t15.41\n",
    "0\t47\t0\t47.01\n",
    "0.25\t3.98\t0.01\t3.98\n",
    "-1.1\t9.01\t-0.1\t9.01\n",
    "-1.02\t3.87\t-0.04\t3.87"
   ]
  },
  {
   "cell_type": "code",
   "execution_count": 2,
   "metadata": {},
   "outputs": [],
   "source": [
    "#4.7.4\tGetting Queue Values\n",
    "#Get queue values.\n",
    "key, value = reader.read(filename_queue)\n",
    "#key represents the information of the read file and the number of rows.\n",
    "#value represents the raw strings read by row, which are sent to the decoder for decoding.\n",
    "#key represents the file information and the number of rows of the read data. value represents raw strings.\n",
    "record_defaults = [[1.], [1.], [1.], [1.]]#The data type here determines the type of data to be read, which should be in the list form.\n",
    "col1, col2, col3, col4 = tf.decode_csv(value, record_defaults=record_defaults)#Each parsed attribute is a scalar with the rank value of 0.\n",
    "features = tf.stack([col1, col2, col3])"
   ]
  },
  {
   "cell_type": "code",
   "execution_count": 3,
   "metadata": {},
   "outputs": [],
   "source": [
    "#4.7.5\tInitializing Variables\n",
    "init_op = tf.global_variables_initializer()\n",
    "local_init_op = tf.local_variables_initializer()"
   ]
  },
  {
   "cell_type": "code",
   "execution_count": null,
   "metadata": {},
   "outputs": [
    {
     "name": "stdout",
     "output_type": "stream",
     "text": [
      "WARNING:tensorflow:From <ipython-input-4-892d881a252f>:10: start_queue_runners (from tensorflow.python.training.queue_runner_impl) is deprecated and will be removed in a future version.\n",
      "Instructions for updating:\n",
      "To construct input pipelines, use the `tf.data` module.\n"
     ]
    }
   ],
   "source": [
    "#4.7.6\tStarting a Session\n",
    "with tf.Session() as sess:\n",
    "#Start a session and perform initialization.\n",
    "    sess.run(init_op)\n",
    "    sess.run(local_init_op)\n",
    "\n",
    "# Start populating the filename queue.Start a coordinator.\n",
    "    coord = tf.train.Coordinator()\n",
    "#Run the start_queue_runners to feed the queue.\n",
    "    threads = tf.train.start_queue_runners(coord=coord)\n",
    "#\n",
    "    try:\n",
    "        for i in range(30):\n",
    "            example, label = sess.run([features, col4])\n",
    "            print(example)\n",
    "            # print(label)\n",
    "    except tf.errors.OutOfRangeError:\n",
    "        print('Done !!!')\n",
    "#This exception appears when TensorFlow reads to the end of the file queue.\n",
    "    finally:       #Coordinator coord outputs signal for terminating all threads.\n",
    "        coord.request_stop()\n",
    "        print('all threads are asked to stop!')\n",
    "        coord.join(threads)\n",
    "        print('all threads are stopped!')\n",
    "\n",
    "#Run the coord.request_stop () command to terminate all threads. Run the coord.join (threads) to add threads to the main thread. Wait for the termination of threads."
   ]
  },
  {
   "cell_type": "markdown",
   "metadata": {},
   "source": [
    "4.8\tInstance Description\n",
    "This experiment selects functions based on the file type. To read data from CSV files, execute the TextLineReader and decode_csv operations. This experiment realizes data reading and processing by file operations.\n",
    " "
   ]
  },
  {
   "cell_type": "markdown",
   "metadata": {},
   "source": [
    "# 4 Graphic Operation\n",
    "4.9\tIntroduction to the Experiment  \n",
    "4.9.1\tAbout the Experiment  \n",
    "This experiment introduces operations of computation graph via several instances.  \n",
    "4.9.2\tObjectives of the Experiment  \n",
    "Understand graphic operations.  \n",
    "4.9.3\tExperiment Content  \n",
    "This experiment demonstrates how to create a graph and set it to the default graph. It uses the get_default_graph() function to get the current default graph and verifies the validity of its configurations.  \n",
    "This experiment shows how to get graph contents.  "
   ]
  },
  {
   "cell_type": "code",
   "execution_count": 1,
   "metadata": {},
   "outputs": [
    {
     "name": "stderr",
     "output_type": "stream",
     "text": [
      "J:\\Anaconda\\software\\lib\\site-packages\\h5py\\__init__.py:36: FutureWarning: Conversion of the second argument of issubdtype from `float` to `np.floating` is deprecated. In future, it will be treated as `np.float64 == np.dtype(float).type`.\n",
      "  from ._conv import register_converters as _register_converters\n"
     ]
    },
    {
     "name": "stdout",
     "output_type": "stream",
     "text": [
      "<tensorflow.python.framework.ops.Graph object at 0x000002641B0B50B8>\n",
      "<tensorflow.python.framework.ops.Graph object at 0x000002641B0B50B8>\n",
      "<tensorflow.python.framework.ops.Graph object at 0x000002641B433B00>\n"
     ]
    }
   ],
   "source": [
    "#4.10\tExperimental Process\n",
    "# -*- coding: utf-8 -*-\n",
    "import numpy as np\n",
    "import tensorflow as tf\n",
    "#4.10.1\tCreating a Graph\n",
    "# 1 The way of creating a graph\n",
    "c = tf.constant(0.0)\n",
    "g = tf.Graph()\n",
    "with g.as_default():\n",
    "  c1 = tf.constant(0.0)\n",
    "  print(c1.graph)\n",
    "  print(g)\n",
    "  print(c.graph)"
   ]
  },
  {
   "cell_type": "code",
   "execution_count": 2,
   "metadata": {},
   "outputs": [
    {
     "name": "stdout",
     "output_type": "stream",
     "text": [
      "<tensorflow.python.framework.ops.Graph object at 0x000002641B433B00>\n"
     ]
    }
   ],
   "source": [
    "g2 =  tf.get_default_graph()\n",
    "print(g2)"
   ]
  },
  {
   "cell_type": "code",
   "execution_count": 3,
   "metadata": {},
   "outputs": [
    {
     "name": "stdout",
     "output_type": "stream",
     "text": [
      "<tensorflow.python.framework.ops.Graph object at 0x00000264237F8CC0>\n"
     ]
    }
   ],
   "source": [
    "tf.reset_default_graph()\n",
    "g3 =  tf.get_default_graph()\n",
    "print(g3)"
   ]
  },
  {
   "cell_type": "code",
   "execution_count": 4,
   "metadata": {},
   "outputs": [
    {
     "name": "stdout",
     "output_type": "stream",
     "text": [
      "Const:0\n",
      "Tensor(\"Const:0\", shape=(), dtype=float32)\n"
     ]
    }
   ],
   "source": [
    "#4.10.2\tGetting the Tensor\n",
    "# 2.\t# 2 Get the tensor.\n",
    "print(c1.name)\n",
    "t = g.get_tensor_by_name(name = \"Const:0\")\n",
    "print(t)"
   ]
  },
  {
   "cell_type": "code",
   "execution_count": 5,
   "metadata": {},
   "outputs": [
    {
     "name": "stdout",
     "output_type": "stream",
     "text": [
      "exampleop:0 Tensor(\"exampleop:0\", shape=(1, 1), dtype=float32)\n",
      "Tensor(\"exampleop:0\", shape=(1, 1), dtype=float32)\n",
      "exampleop\n",
      "name: \"exampleop\"\n",
      "op: \"MatMul\"\n",
      "input: \"Const\"\n",
      "input: \"Const_1\"\n",
      "attr {\n",
      "  key: \"T\"\n",
      "  value {\n",
      "    type: DT_FLOAT\n",
      "  }\n",
      "}\n",
      "attr {\n",
      "  key: \"transpose_a\"\n",
      "  value {\n",
      "    b: false\n",
      "  }\n",
      "}\n",
      "attr {\n",
      "  key: \"transpose_b\"\n",
      "  value {\n",
      "    b: false\n",
      "  }\n",
      "}\n",
      "\n",
      "[[7.]]\n",
      "Tensor(\"exampleop:0\", shape=(1, 1), dtype=float32)\n"
     ]
    }
   ],
   "source": [
    "#4.10.3\tGetting an Operation\n",
    "# 3 Get an operation.\n",
    "a = tf.constant([[1.0, 2.0]])\n",
    "b = tf.constant([[1.0], [3.0]])\n",
    "\n",
    "tensor1 = tf.matmul(a, b, name='exampleop')\n",
    "print(tensor1.name,tensor1)\n",
    "test = g3.get_tensor_by_name(\"exampleop:0\")\n",
    "print(test)\n",
    "\n",
    "print(tensor1.op.name)\n",
    "testop = g3.get_operation_by_name(\"exampleop\")\n",
    "print(testop)\n",
    "\n",
    "\n",
    "with tf.Session() as sess:\n",
    "    test =  sess.run(test)\n",
    "    print(test)\n",
    "    test = tf.get_default_graph().get_tensor_by_name(\"exampleop:0\")\n",
    "    print (test)"
   ]
  },
  {
   "cell_type": "code",
   "execution_count": 6,
   "metadata": {},
   "outputs": [
    {
     "name": "stdout",
     "output_type": "stream",
     "text": [
      "[<tf.Operation 'Const' type=Const>]\n"
     ]
    }
   ],
   "source": [
    "#4.10.4\tGetting All Lists\n",
    "# 4 Get all lists.\n",
    "#Return the list of operating nodes in the graph.\n",
    "tt2 = g.get_operations()\n",
    "print(tt2)"
   ]
  },
  {
   "cell_type": "code",
   "execution_count": 7,
   "metadata": {},
   "outputs": [
    {
     "name": "stdout",
     "output_type": "stream",
     "text": [
      "Tensor(\"Const:0\", shape=(), dtype=float32)\n"
     ]
    }
   ],
   "source": [
    "#4.10.5\tGetting an Object\n",
    "# 5 Get an object.\n",
    "tt3 = g.as_graph_element(c1)\n",
    "print(tt3)"
   ]
  },
  {
   "cell_type": "markdown",
   "metadata": {},
   "source": [
    "4.11\tInstance Description\n",
    "To use the tf.reset_default_graph function, ensure that all the current graphs have been released. Otherwise, the system may report an error. You can find the corresponding elements by names. get_tensor_by_name allows you to get tensors in the graph.\n",
    "get_operation_by_name allows you to get node operations.\n",
    "get_operations allows you to get the list of elements.\n",
    "The tf.Graph.as_graph_element() function allows you to get elements by objects. After importing an object, you can get a tensor or an OP back. The as_graph_element function gets the real tensor object of c1 and assigns it to variable tt3.\n",
    "This experiment only introduces basic graphic operations.\n",
    " "
   ]
  },
  {
   "cell_type": "markdown",
   "metadata": {},
   "source": [
    "# Save and Use of Models\n",
    "4.12\tIntroduction to the Experiment  \n",
    "4.12.1\tAbout the Experiment  \n",
    "This experiment introduces how to save models and use the saved models. Generally, all trained models should be saved.  \n",
    "4.12.2\tObjectives of the Experiment  \n",
    "Understand how to save models.  \n",
    "Understand how to load and use models.  \n",
    "4.12.3\tExperiment Content  \n",
    "This experiment adds functions of saving and loading models based on previous experiments. After generating analog data in the file, add filling value of graph variables. Define the saver and the saving path before starting a session and save the model after the training in the session.  "
   ]
  },
  {
   "cell_type": "code",
   "execution_count": 3,
   "metadata": {},
   "outputs": [
    {
     "ename": "RemoteDisconnected",
     "evalue": "Remote end closed connection without response",
     "output_type": "error",
     "traceback": [
      "\u001b[1;31m---------------------------------------------------------------------------\u001b[0m",
      "\u001b[1;31mRemoteDisconnected\u001b[0m                        Traceback (most recent call last)",
      "\u001b[1;32m<ipython-input-3-86dbf7db94ae>\u001b[0m in \u001b[0;36m<module>\u001b[1;34m()\u001b[0m\n\u001b[0;32m      6\u001b[0m \u001b[1;31m#Import the mnist database.\u001b[0m\u001b[1;33m\u001b[0m\u001b[1;33m\u001b[0m\u001b[0m\n\u001b[0;32m      7\u001b[0m \u001b[1;32mfrom\u001b[0m \u001b[0mtensorflow\u001b[0m\u001b[1;33m.\u001b[0m\u001b[0mexamples\u001b[0m\u001b[1;33m.\u001b[0m\u001b[0mtutorials\u001b[0m\u001b[1;33m.\u001b[0m\u001b[0mmnist\u001b[0m \u001b[1;32mimport\u001b[0m \u001b[0minput_data\u001b[0m\u001b[1;33m\u001b[0m\u001b[0m\n\u001b[1;32m----> 8\u001b[1;33m \u001b[0mmnist\u001b[0m \u001b[1;33m=\u001b[0m \u001b[0minput_data\u001b[0m\u001b[1;33m.\u001b[0m\u001b[0mread_data_sets\u001b[0m\u001b[1;33m(\u001b[0m\u001b[1;34m\"MNIST_data/\"\u001b[0m\u001b[1;33m,\u001b[0m \u001b[0mone_hot\u001b[0m\u001b[1;33m=\u001b[0m\u001b[1;32mTrue\u001b[0m\u001b[1;33m)\u001b[0m\u001b[1;33m\u001b[0m\u001b[0m\n\u001b[0m\u001b[0;32m      9\u001b[0m \u001b[1;32mimport\u001b[0m \u001b[0mtensorflow\u001b[0m \u001b[1;32mas\u001b[0m \u001b[0mtf\u001b[0m\u001b[1;33m\u001b[0m\u001b[0m\n\u001b[0;32m     10\u001b[0m \u001b[1;32mimport\u001b[0m \u001b[0mos\u001b[0m\u001b[1;33m\u001b[0m\u001b[0m\n",
      "\u001b[1;32mJ:\\Anaconda\\software\\lib\\site-packages\\tensorflow\\python\\util\\deprecation.py\u001b[0m in \u001b[0;36mnew_func\u001b[1;34m(*args, **kwargs)\u001b[0m\n\u001b[0;32m    304\u001b[0m               \u001b[1;34m'in a future version'\u001b[0m \u001b[1;32mif\u001b[0m \u001b[0mdate\u001b[0m \u001b[1;32mis\u001b[0m \u001b[1;32mNone\u001b[0m \u001b[1;32melse\u001b[0m \u001b[1;33m(\u001b[0m\u001b[1;34m'after %s'\u001b[0m \u001b[1;33m%\u001b[0m \u001b[0mdate\u001b[0m\u001b[1;33m)\u001b[0m\u001b[1;33m,\u001b[0m\u001b[1;33m\u001b[0m\u001b[0m\n\u001b[0;32m    305\u001b[0m               instructions)\n\u001b[1;32m--> 306\u001b[1;33m       \u001b[1;32mreturn\u001b[0m \u001b[0mfunc\u001b[0m\u001b[1;33m(\u001b[0m\u001b[1;33m*\u001b[0m\u001b[0margs\u001b[0m\u001b[1;33m,\u001b[0m \u001b[1;33m**\u001b[0m\u001b[0mkwargs\u001b[0m\u001b[1;33m)\u001b[0m\u001b[1;33m\u001b[0m\u001b[0m\n\u001b[0m\u001b[0;32m    307\u001b[0m     return tf_decorator.make_decorator(\n\u001b[0;32m    308\u001b[0m         \u001b[0mfunc\u001b[0m\u001b[1;33m,\u001b[0m \u001b[0mnew_func\u001b[0m\u001b[1;33m,\u001b[0m \u001b[1;34m'deprecated'\u001b[0m\u001b[1;33m,\u001b[0m\u001b[1;33m\u001b[0m\u001b[0m\n",
      "\u001b[1;32mJ:\\Anaconda\\software\\lib\\site-packages\\tensorflow\\contrib\\learn\\python\\learn\\datasets\\mnist.py\u001b[0m in \u001b[0;36mread_data_sets\u001b[1;34m(train_dir, fake_data, one_hot, dtype, reshape, validation_size, seed, source_url)\u001b[0m\n\u001b[0;32m    258\u001b[0m \u001b[1;33m\u001b[0m\u001b[0m\n\u001b[0;32m    259\u001b[0m   local_file = base.maybe_download(TRAIN_IMAGES, train_dir,\n\u001b[1;32m--> 260\u001b[1;33m                                    source_url + TRAIN_IMAGES)\n\u001b[0m\u001b[0;32m    261\u001b[0m   \u001b[1;32mwith\u001b[0m \u001b[0mgfile\u001b[0m\u001b[1;33m.\u001b[0m\u001b[0mOpen\u001b[0m\u001b[1;33m(\u001b[0m\u001b[0mlocal_file\u001b[0m\u001b[1;33m,\u001b[0m \u001b[1;34m'rb'\u001b[0m\u001b[1;33m)\u001b[0m \u001b[1;32mas\u001b[0m \u001b[0mf\u001b[0m\u001b[1;33m:\u001b[0m\u001b[1;33m\u001b[0m\u001b[0m\n\u001b[0;32m    262\u001b[0m     \u001b[0mtrain_images\u001b[0m \u001b[1;33m=\u001b[0m \u001b[0mextract_images\u001b[0m\u001b[1;33m(\u001b[0m\u001b[0mf\u001b[0m\u001b[1;33m)\u001b[0m\u001b[1;33m\u001b[0m\u001b[0m\n",
      "\u001b[1;32mJ:\\Anaconda\\software\\lib\\site-packages\\tensorflow\\python\\util\\deprecation.py\u001b[0m in \u001b[0;36mnew_func\u001b[1;34m(*args, **kwargs)\u001b[0m\n\u001b[0;32m    304\u001b[0m               \u001b[1;34m'in a future version'\u001b[0m \u001b[1;32mif\u001b[0m \u001b[0mdate\u001b[0m \u001b[1;32mis\u001b[0m \u001b[1;32mNone\u001b[0m \u001b[1;32melse\u001b[0m \u001b[1;33m(\u001b[0m\u001b[1;34m'after %s'\u001b[0m \u001b[1;33m%\u001b[0m \u001b[0mdate\u001b[0m\u001b[1;33m)\u001b[0m\u001b[1;33m,\u001b[0m\u001b[1;33m\u001b[0m\u001b[0m\n\u001b[0;32m    305\u001b[0m               instructions)\n\u001b[1;32m--> 306\u001b[1;33m       \u001b[1;32mreturn\u001b[0m \u001b[0mfunc\u001b[0m\u001b[1;33m(\u001b[0m\u001b[1;33m*\u001b[0m\u001b[0margs\u001b[0m\u001b[1;33m,\u001b[0m \u001b[1;33m**\u001b[0m\u001b[0mkwargs\u001b[0m\u001b[1;33m)\u001b[0m\u001b[1;33m\u001b[0m\u001b[0m\n\u001b[0m\u001b[0;32m    307\u001b[0m     return tf_decorator.make_decorator(\n\u001b[0;32m    308\u001b[0m         \u001b[0mfunc\u001b[0m\u001b[1;33m,\u001b[0m \u001b[0mnew_func\u001b[0m\u001b[1;33m,\u001b[0m \u001b[1;34m'deprecated'\u001b[0m\u001b[1;33m,\u001b[0m\u001b[1;33m\u001b[0m\u001b[0m\n",
      "\u001b[1;32mJ:\\Anaconda\\software\\lib\\site-packages\\tensorflow\\contrib\\learn\\python\\learn\\datasets\\base.py\u001b[0m in \u001b[0;36mmaybe_download\u001b[1;34m(filename, work_directory, source_url)\u001b[0m\n\u001b[0;32m    250\u001b[0m   \u001b[0mfilepath\u001b[0m \u001b[1;33m=\u001b[0m \u001b[0mos\u001b[0m\u001b[1;33m.\u001b[0m\u001b[0mpath\u001b[0m\u001b[1;33m.\u001b[0m\u001b[0mjoin\u001b[0m\u001b[1;33m(\u001b[0m\u001b[0mwork_directory\u001b[0m\u001b[1;33m,\u001b[0m \u001b[0mfilename\u001b[0m\u001b[1;33m)\u001b[0m\u001b[1;33m\u001b[0m\u001b[0m\n\u001b[0;32m    251\u001b[0m   \u001b[1;32mif\u001b[0m \u001b[1;32mnot\u001b[0m \u001b[0mgfile\u001b[0m\u001b[1;33m.\u001b[0m\u001b[0mExists\u001b[0m\u001b[1;33m(\u001b[0m\u001b[0mfilepath\u001b[0m\u001b[1;33m)\u001b[0m\u001b[1;33m:\u001b[0m\u001b[1;33m\u001b[0m\u001b[0m\n\u001b[1;32m--> 252\u001b[1;33m     \u001b[0mtemp_file_name\u001b[0m\u001b[1;33m,\u001b[0m \u001b[0m_\u001b[0m \u001b[1;33m=\u001b[0m \u001b[0murlretrieve_with_retry\u001b[0m\u001b[1;33m(\u001b[0m\u001b[0msource_url\u001b[0m\u001b[1;33m)\u001b[0m\u001b[1;33m\u001b[0m\u001b[0m\n\u001b[0m\u001b[0;32m    253\u001b[0m     \u001b[0mgfile\u001b[0m\u001b[1;33m.\u001b[0m\u001b[0mCopy\u001b[0m\u001b[1;33m(\u001b[0m\u001b[0mtemp_file_name\u001b[0m\u001b[1;33m,\u001b[0m \u001b[0mfilepath\u001b[0m\u001b[1;33m)\u001b[0m\u001b[1;33m\u001b[0m\u001b[0m\n\u001b[0;32m    254\u001b[0m     \u001b[1;32mwith\u001b[0m \u001b[0mgfile\u001b[0m\u001b[1;33m.\u001b[0m\u001b[0mGFile\u001b[0m\u001b[1;33m(\u001b[0m\u001b[0mfilepath\u001b[0m\u001b[1;33m)\u001b[0m \u001b[1;32mas\u001b[0m \u001b[0mf\u001b[0m\u001b[1;33m:\u001b[0m\u001b[1;33m\u001b[0m\u001b[0m\n",
      "\u001b[1;32mJ:\\Anaconda\\software\\lib\\site-packages\\tensorflow\\python\\util\\deprecation.py\u001b[0m in \u001b[0;36mnew_func\u001b[1;34m(*args, **kwargs)\u001b[0m\n\u001b[0;32m    304\u001b[0m               \u001b[1;34m'in a future version'\u001b[0m \u001b[1;32mif\u001b[0m \u001b[0mdate\u001b[0m \u001b[1;32mis\u001b[0m \u001b[1;32mNone\u001b[0m \u001b[1;32melse\u001b[0m \u001b[1;33m(\u001b[0m\u001b[1;34m'after %s'\u001b[0m \u001b[1;33m%\u001b[0m \u001b[0mdate\u001b[0m\u001b[1;33m)\u001b[0m\u001b[1;33m,\u001b[0m\u001b[1;33m\u001b[0m\u001b[0m\n\u001b[0;32m    305\u001b[0m               instructions)\n\u001b[1;32m--> 306\u001b[1;33m       \u001b[1;32mreturn\u001b[0m \u001b[0mfunc\u001b[0m\u001b[1;33m(\u001b[0m\u001b[1;33m*\u001b[0m\u001b[0margs\u001b[0m\u001b[1;33m,\u001b[0m \u001b[1;33m**\u001b[0m\u001b[0mkwargs\u001b[0m\u001b[1;33m)\u001b[0m\u001b[1;33m\u001b[0m\u001b[0m\n\u001b[0m\u001b[0;32m    307\u001b[0m     return tf_decorator.make_decorator(\n\u001b[0;32m    308\u001b[0m         \u001b[0mfunc\u001b[0m\u001b[1;33m,\u001b[0m \u001b[0mnew_func\u001b[0m\u001b[1;33m,\u001b[0m \u001b[1;34m'deprecated'\u001b[0m\u001b[1;33m,\u001b[0m\u001b[1;33m\u001b[0m\u001b[0m\n",
      "\u001b[1;32mJ:\\Anaconda\\software\\lib\\site-packages\\tensorflow\\contrib\\learn\\python\\learn\\datasets\\base.py\u001b[0m in \u001b[0;36mwrapped_fn\u001b[1;34m(*args, **kwargs)\u001b[0m\n\u001b[0;32m    203\u001b[0m       \u001b[1;32mfor\u001b[0m \u001b[0mdelay\u001b[0m \u001b[1;32min\u001b[0m \u001b[0mdelays\u001b[0m\u001b[1;33m(\u001b[0m\u001b[1;33m)\u001b[0m\u001b[1;33m:\u001b[0m\u001b[1;33m\u001b[0m\u001b[0m\n\u001b[0;32m    204\u001b[0m         \u001b[1;32mtry\u001b[0m\u001b[1;33m:\u001b[0m\u001b[1;33m\u001b[0m\u001b[0m\n\u001b[1;32m--> 205\u001b[1;33m           \u001b[1;32mreturn\u001b[0m \u001b[0mfn\u001b[0m\u001b[1;33m(\u001b[0m\u001b[1;33m*\u001b[0m\u001b[0margs\u001b[0m\u001b[1;33m,\u001b[0m \u001b[1;33m**\u001b[0m\u001b[0mkwargs\u001b[0m\u001b[1;33m)\u001b[0m\u001b[1;33m\u001b[0m\u001b[0m\n\u001b[0m\u001b[0;32m    206\u001b[0m         \u001b[1;32mexcept\u001b[0m \u001b[0mException\u001b[0m \u001b[1;32mas\u001b[0m \u001b[0me\u001b[0m\u001b[1;33m:\u001b[0m  \u001b[1;31m# pylint: disable=broad-except\u001b[0m\u001b[1;33m\u001b[0m\u001b[0m\n\u001b[0;32m    207\u001b[0m           \u001b[1;32mif\u001b[0m \u001b[0mis_retriable\u001b[0m \u001b[1;32mis\u001b[0m \u001b[1;32mNone\u001b[0m\u001b[1;33m:\u001b[0m\u001b[1;33m\u001b[0m\u001b[0m\n",
      "\u001b[1;32mJ:\\Anaconda\\software\\lib\\site-packages\\tensorflow\\contrib\\learn\\python\\learn\\datasets\\base.py\u001b[0m in \u001b[0;36murlretrieve_with_retry\u001b[1;34m(url, filename)\u001b[0m\n\u001b[0;32m    231\u001b[0m \u001b[1;33m@\u001b[0m\u001b[0m_internal_retry\u001b[0m\u001b[1;33m(\u001b[0m\u001b[0minitial_delay\u001b[0m\u001b[1;33m=\u001b[0m\u001b[1;36m1.0\u001b[0m\u001b[1;33m,\u001b[0m \u001b[0mmax_delay\u001b[0m\u001b[1;33m=\u001b[0m\u001b[1;36m16.0\u001b[0m\u001b[1;33m,\u001b[0m \u001b[0mis_retriable\u001b[0m\u001b[1;33m=\u001b[0m\u001b[0m_is_retriable\u001b[0m\u001b[1;33m)\u001b[0m\u001b[1;33m\u001b[0m\u001b[0m\n\u001b[0;32m    232\u001b[0m \u001b[1;32mdef\u001b[0m \u001b[0murlretrieve_with_retry\u001b[0m\u001b[1;33m(\u001b[0m\u001b[0murl\u001b[0m\u001b[1;33m,\u001b[0m \u001b[0mfilename\u001b[0m\u001b[1;33m=\u001b[0m\u001b[1;32mNone\u001b[0m\u001b[1;33m)\u001b[0m\u001b[1;33m:\u001b[0m\u001b[1;33m\u001b[0m\u001b[0m\n\u001b[1;32m--> 233\u001b[1;33m   \u001b[1;32mreturn\u001b[0m \u001b[0murllib\u001b[0m\u001b[1;33m.\u001b[0m\u001b[0mrequest\u001b[0m\u001b[1;33m.\u001b[0m\u001b[0murlretrieve\u001b[0m\u001b[1;33m(\u001b[0m\u001b[0murl\u001b[0m\u001b[1;33m,\u001b[0m \u001b[0mfilename\u001b[0m\u001b[1;33m)\u001b[0m\u001b[1;33m\u001b[0m\u001b[0m\n\u001b[0m\u001b[0;32m    234\u001b[0m \u001b[1;33m\u001b[0m\u001b[0m\n\u001b[0;32m    235\u001b[0m \u001b[1;33m\u001b[0m\u001b[0m\n",
      "\u001b[1;32mJ:\\Anaconda\\software\\lib\\urllib\\request.py\u001b[0m in \u001b[0;36murlretrieve\u001b[1;34m(url, filename, reporthook, data)\u001b[0m\n\u001b[0;32m    246\u001b[0m     \u001b[0murl_type\u001b[0m\u001b[1;33m,\u001b[0m \u001b[0mpath\u001b[0m \u001b[1;33m=\u001b[0m \u001b[0msplittype\u001b[0m\u001b[1;33m(\u001b[0m\u001b[0murl\u001b[0m\u001b[1;33m)\u001b[0m\u001b[1;33m\u001b[0m\u001b[0m\n\u001b[0;32m    247\u001b[0m \u001b[1;33m\u001b[0m\u001b[0m\n\u001b[1;32m--> 248\u001b[1;33m     \u001b[1;32mwith\u001b[0m \u001b[0mcontextlib\u001b[0m\u001b[1;33m.\u001b[0m\u001b[0mclosing\u001b[0m\u001b[1;33m(\u001b[0m\u001b[0murlopen\u001b[0m\u001b[1;33m(\u001b[0m\u001b[0murl\u001b[0m\u001b[1;33m,\u001b[0m \u001b[0mdata\u001b[0m\u001b[1;33m)\u001b[0m\u001b[1;33m)\u001b[0m \u001b[1;32mas\u001b[0m \u001b[0mfp\u001b[0m\u001b[1;33m:\u001b[0m\u001b[1;33m\u001b[0m\u001b[0m\n\u001b[0m\u001b[0;32m    249\u001b[0m         \u001b[0mheaders\u001b[0m \u001b[1;33m=\u001b[0m \u001b[0mfp\u001b[0m\u001b[1;33m.\u001b[0m\u001b[0minfo\u001b[0m\u001b[1;33m(\u001b[0m\u001b[1;33m)\u001b[0m\u001b[1;33m\u001b[0m\u001b[0m\n\u001b[0;32m    250\u001b[0m \u001b[1;33m\u001b[0m\u001b[0m\n",
      "\u001b[1;32mJ:\\Anaconda\\software\\lib\\urllib\\request.py\u001b[0m in \u001b[0;36murlopen\u001b[1;34m(url, data, timeout, cafile, capath, cadefault, context)\u001b[0m\n\u001b[0;32m    221\u001b[0m     \u001b[1;32melse\u001b[0m\u001b[1;33m:\u001b[0m\u001b[1;33m\u001b[0m\u001b[0m\n\u001b[0;32m    222\u001b[0m         \u001b[0mopener\u001b[0m \u001b[1;33m=\u001b[0m \u001b[0m_opener\u001b[0m\u001b[1;33m\u001b[0m\u001b[0m\n\u001b[1;32m--> 223\u001b[1;33m     \u001b[1;32mreturn\u001b[0m \u001b[0mopener\u001b[0m\u001b[1;33m.\u001b[0m\u001b[0mopen\u001b[0m\u001b[1;33m(\u001b[0m\u001b[0murl\u001b[0m\u001b[1;33m,\u001b[0m \u001b[0mdata\u001b[0m\u001b[1;33m,\u001b[0m \u001b[0mtimeout\u001b[0m\u001b[1;33m)\u001b[0m\u001b[1;33m\u001b[0m\u001b[0m\n\u001b[0m\u001b[0;32m    224\u001b[0m \u001b[1;33m\u001b[0m\u001b[0m\n\u001b[0;32m    225\u001b[0m \u001b[1;32mdef\u001b[0m \u001b[0minstall_opener\u001b[0m\u001b[1;33m(\u001b[0m\u001b[0mopener\u001b[0m\u001b[1;33m)\u001b[0m\u001b[1;33m:\u001b[0m\u001b[1;33m\u001b[0m\u001b[0m\n",
      "\u001b[1;32mJ:\\Anaconda\\software\\lib\\urllib\\request.py\u001b[0m in \u001b[0;36mopen\u001b[1;34m(self, fullurl, data, timeout)\u001b[0m\n\u001b[0;32m    524\u001b[0m             \u001b[0mreq\u001b[0m \u001b[1;33m=\u001b[0m \u001b[0mmeth\u001b[0m\u001b[1;33m(\u001b[0m\u001b[0mreq\u001b[0m\u001b[1;33m)\u001b[0m\u001b[1;33m\u001b[0m\u001b[0m\n\u001b[0;32m    525\u001b[0m \u001b[1;33m\u001b[0m\u001b[0m\n\u001b[1;32m--> 526\u001b[1;33m         \u001b[0mresponse\u001b[0m \u001b[1;33m=\u001b[0m \u001b[0mself\u001b[0m\u001b[1;33m.\u001b[0m\u001b[0m_open\u001b[0m\u001b[1;33m(\u001b[0m\u001b[0mreq\u001b[0m\u001b[1;33m,\u001b[0m \u001b[0mdata\u001b[0m\u001b[1;33m)\u001b[0m\u001b[1;33m\u001b[0m\u001b[0m\n\u001b[0m\u001b[0;32m    527\u001b[0m \u001b[1;33m\u001b[0m\u001b[0m\n\u001b[0;32m    528\u001b[0m         \u001b[1;31m# post-process response\u001b[0m\u001b[1;33m\u001b[0m\u001b[1;33m\u001b[0m\u001b[0m\n",
      "\u001b[1;32mJ:\\Anaconda\\software\\lib\\urllib\\request.py\u001b[0m in \u001b[0;36m_open\u001b[1;34m(self, req, data)\u001b[0m\n\u001b[0;32m    542\u001b[0m         \u001b[0mprotocol\u001b[0m \u001b[1;33m=\u001b[0m \u001b[0mreq\u001b[0m\u001b[1;33m.\u001b[0m\u001b[0mtype\u001b[0m\u001b[1;33m\u001b[0m\u001b[0m\n\u001b[0;32m    543\u001b[0m         result = self._call_chain(self.handle_open, protocol, protocol +\n\u001b[1;32m--> 544\u001b[1;33m                                   '_open', req)\n\u001b[0m\u001b[0;32m    545\u001b[0m         \u001b[1;32mif\u001b[0m \u001b[0mresult\u001b[0m\u001b[1;33m:\u001b[0m\u001b[1;33m\u001b[0m\u001b[0m\n\u001b[0;32m    546\u001b[0m             \u001b[1;32mreturn\u001b[0m \u001b[0mresult\u001b[0m\u001b[1;33m\u001b[0m\u001b[0m\n",
      "\u001b[1;32mJ:\\Anaconda\\software\\lib\\urllib\\request.py\u001b[0m in \u001b[0;36m_call_chain\u001b[1;34m(self, chain, kind, meth_name, *args)\u001b[0m\n\u001b[0;32m    502\u001b[0m         \u001b[1;32mfor\u001b[0m \u001b[0mhandler\u001b[0m \u001b[1;32min\u001b[0m \u001b[0mhandlers\u001b[0m\u001b[1;33m:\u001b[0m\u001b[1;33m\u001b[0m\u001b[0m\n\u001b[0;32m    503\u001b[0m             \u001b[0mfunc\u001b[0m \u001b[1;33m=\u001b[0m \u001b[0mgetattr\u001b[0m\u001b[1;33m(\u001b[0m\u001b[0mhandler\u001b[0m\u001b[1;33m,\u001b[0m \u001b[0mmeth_name\u001b[0m\u001b[1;33m)\u001b[0m\u001b[1;33m\u001b[0m\u001b[0m\n\u001b[1;32m--> 504\u001b[1;33m             \u001b[0mresult\u001b[0m \u001b[1;33m=\u001b[0m \u001b[0mfunc\u001b[0m\u001b[1;33m(\u001b[0m\u001b[1;33m*\u001b[0m\u001b[0margs\u001b[0m\u001b[1;33m)\u001b[0m\u001b[1;33m\u001b[0m\u001b[0m\n\u001b[0m\u001b[0;32m    505\u001b[0m             \u001b[1;32mif\u001b[0m \u001b[0mresult\u001b[0m \u001b[1;32mis\u001b[0m \u001b[1;32mnot\u001b[0m \u001b[1;32mNone\u001b[0m\u001b[1;33m:\u001b[0m\u001b[1;33m\u001b[0m\u001b[0m\n\u001b[0;32m    506\u001b[0m                 \u001b[1;32mreturn\u001b[0m \u001b[0mresult\u001b[0m\u001b[1;33m\u001b[0m\u001b[0m\n",
      "\u001b[1;32mJ:\\Anaconda\\software\\lib\\urllib\\request.py\u001b[0m in \u001b[0;36mhttps_open\u001b[1;34m(self, req)\u001b[0m\n\u001b[0;32m   1359\u001b[0m         \u001b[1;32mdef\u001b[0m \u001b[0mhttps_open\u001b[0m\u001b[1;33m(\u001b[0m\u001b[0mself\u001b[0m\u001b[1;33m,\u001b[0m \u001b[0mreq\u001b[0m\u001b[1;33m)\u001b[0m\u001b[1;33m:\u001b[0m\u001b[1;33m\u001b[0m\u001b[0m\n\u001b[0;32m   1360\u001b[0m             return self.do_open(http.client.HTTPSConnection, req,\n\u001b[1;32m-> 1361\u001b[1;33m                 context=self._context, check_hostname=self._check_hostname)\n\u001b[0m\u001b[0;32m   1362\u001b[0m \u001b[1;33m\u001b[0m\u001b[0m\n\u001b[0;32m   1363\u001b[0m         \u001b[0mhttps_request\u001b[0m \u001b[1;33m=\u001b[0m \u001b[0mAbstractHTTPHandler\u001b[0m\u001b[1;33m.\u001b[0m\u001b[0mdo_request_\u001b[0m\u001b[1;33m\u001b[0m\u001b[0m\n",
      "\u001b[1;32mJ:\\Anaconda\\software\\lib\\urllib\\request.py\u001b[0m in \u001b[0;36mdo_open\u001b[1;34m(self, http_class, req, **http_conn_args)\u001b[0m\n\u001b[0;32m   1319\u001b[0m             \u001b[1;32mexcept\u001b[0m \u001b[0mOSError\u001b[0m \u001b[1;32mas\u001b[0m \u001b[0merr\u001b[0m\u001b[1;33m:\u001b[0m \u001b[1;31m# timeout error\u001b[0m\u001b[1;33m\u001b[0m\u001b[0m\n\u001b[0;32m   1320\u001b[0m                 \u001b[1;32mraise\u001b[0m \u001b[0mURLError\u001b[0m\u001b[1;33m(\u001b[0m\u001b[0merr\u001b[0m\u001b[1;33m)\u001b[0m\u001b[1;33m\u001b[0m\u001b[0m\n\u001b[1;32m-> 1321\u001b[1;33m             \u001b[0mr\u001b[0m \u001b[1;33m=\u001b[0m \u001b[0mh\u001b[0m\u001b[1;33m.\u001b[0m\u001b[0mgetresponse\u001b[0m\u001b[1;33m(\u001b[0m\u001b[1;33m)\u001b[0m\u001b[1;33m\u001b[0m\u001b[0m\n\u001b[0m\u001b[0;32m   1322\u001b[0m         \u001b[1;32mexcept\u001b[0m\u001b[1;33m:\u001b[0m\u001b[1;33m\u001b[0m\u001b[0m\n\u001b[0;32m   1323\u001b[0m             \u001b[0mh\u001b[0m\u001b[1;33m.\u001b[0m\u001b[0mclose\u001b[0m\u001b[1;33m(\u001b[0m\u001b[1;33m)\u001b[0m\u001b[1;33m\u001b[0m\u001b[0m\n",
      "\u001b[1;32mJ:\\Anaconda\\software\\lib\\http\\client.py\u001b[0m in \u001b[0;36mgetresponse\u001b[1;34m(self)\u001b[0m\n\u001b[0;32m   1329\u001b[0m         \u001b[1;32mtry\u001b[0m\u001b[1;33m:\u001b[0m\u001b[1;33m\u001b[0m\u001b[0m\n\u001b[0;32m   1330\u001b[0m             \u001b[1;32mtry\u001b[0m\u001b[1;33m:\u001b[0m\u001b[1;33m\u001b[0m\u001b[0m\n\u001b[1;32m-> 1331\u001b[1;33m                 \u001b[0mresponse\u001b[0m\u001b[1;33m.\u001b[0m\u001b[0mbegin\u001b[0m\u001b[1;33m(\u001b[0m\u001b[1;33m)\u001b[0m\u001b[1;33m\u001b[0m\u001b[0m\n\u001b[0m\u001b[0;32m   1332\u001b[0m             \u001b[1;32mexcept\u001b[0m \u001b[0mConnectionError\u001b[0m\u001b[1;33m:\u001b[0m\u001b[1;33m\u001b[0m\u001b[0m\n\u001b[0;32m   1333\u001b[0m                 \u001b[0mself\u001b[0m\u001b[1;33m.\u001b[0m\u001b[0mclose\u001b[0m\u001b[1;33m(\u001b[0m\u001b[1;33m)\u001b[0m\u001b[1;33m\u001b[0m\u001b[0m\n",
      "\u001b[1;32mJ:\\Anaconda\\software\\lib\\http\\client.py\u001b[0m in \u001b[0;36mbegin\u001b[1;34m(self)\u001b[0m\n\u001b[0;32m    295\u001b[0m         \u001b[1;31m# read until we get a non-100 response\u001b[0m\u001b[1;33m\u001b[0m\u001b[1;33m\u001b[0m\u001b[0m\n\u001b[0;32m    296\u001b[0m         \u001b[1;32mwhile\u001b[0m \u001b[1;32mTrue\u001b[0m\u001b[1;33m:\u001b[0m\u001b[1;33m\u001b[0m\u001b[0m\n\u001b[1;32m--> 297\u001b[1;33m             \u001b[0mversion\u001b[0m\u001b[1;33m,\u001b[0m \u001b[0mstatus\u001b[0m\u001b[1;33m,\u001b[0m \u001b[0mreason\u001b[0m \u001b[1;33m=\u001b[0m \u001b[0mself\u001b[0m\u001b[1;33m.\u001b[0m\u001b[0m_read_status\u001b[0m\u001b[1;33m(\u001b[0m\u001b[1;33m)\u001b[0m\u001b[1;33m\u001b[0m\u001b[0m\n\u001b[0m\u001b[0;32m    298\u001b[0m             \u001b[1;32mif\u001b[0m \u001b[0mstatus\u001b[0m \u001b[1;33m!=\u001b[0m \u001b[0mCONTINUE\u001b[0m\u001b[1;33m:\u001b[0m\u001b[1;33m\u001b[0m\u001b[0m\n\u001b[0;32m    299\u001b[0m                 \u001b[1;32mbreak\u001b[0m\u001b[1;33m\u001b[0m\u001b[0m\n",
      "\u001b[1;32mJ:\\Anaconda\\software\\lib\\http\\client.py\u001b[0m in \u001b[0;36m_read_status\u001b[1;34m(self)\u001b[0m\n\u001b[0;32m    264\u001b[0m             \u001b[1;31m# Presumably, the server closed the connection before\u001b[0m\u001b[1;33m\u001b[0m\u001b[1;33m\u001b[0m\u001b[0m\n\u001b[0;32m    265\u001b[0m             \u001b[1;31m# sending a valid response.\u001b[0m\u001b[1;33m\u001b[0m\u001b[1;33m\u001b[0m\u001b[0m\n\u001b[1;32m--> 266\u001b[1;33m             raise RemoteDisconnected(\"Remote end closed connection without\"\n\u001b[0m\u001b[0;32m    267\u001b[0m                                      \" response\")\n\u001b[0;32m    268\u001b[0m         \u001b[1;32mtry\u001b[0m\u001b[1;33m:\u001b[0m\u001b[1;33m\u001b[0m\u001b[0m\n",
      "\u001b[1;31mRemoteDisconnected\u001b[0m: Remote end closed connection without response"
     ]
    }
   ],
   "source": [
    "#4.13\tExperimental Process\n",
    "#4.13.1\tImporting a Dataset\n",
    "# -*- coding: utf-8 -*-\n",
    "#!/usr/bin/env python\n",
    "\n",
    "#Import the mnist database.\n",
    "from tensorflow.examples.tutorials.mnist import input_data\n",
    "mnist = input_data.read_data_sets(\"MNIST_data/\", one_hot=True)\n",
    "import tensorflow as tf\n",
    "import os"
   ]
  },
  {
   "cell_type": "code",
   "execution_count": null,
   "metadata": {},
   "outputs": [],
   "source": [
    "#4.13.2\tDefining Variables\n",
    "#Define an input variable.\n",
    "x = tf.placeholder(tf.float32, [None, 784])\n",
    "\n",
    "#Define parameters.\n",
    "W = tf.Variable(tf.zeros([784, 10]))\n",
    "b = tf.Variable(tf.zeros([10]))\n",
    "\n",
    "#Define an excitation function.\n",
    "y = tf.nn.softmax(tf.matmul(x, W) + b)\n",
    "\n",
    "#Define an output variable.\n",
    "y_ = tf.placeholder(tf.float32, [None, 10])\n",
    "\n",
    "#Define a cost function.\n",
    "cross_entropy = tf.reduce_mean(-tf.reduce_sum(y_ * tf.log(y), reduction_indices=[1]))\n",
    "\n",
    "#Define an optimization function.\n",
    "train_step = tf.train.GradientDescentOptimizer(0.5).minimize(cross_entropy)"
   ]
  },
  {
   "cell_type": "code",
   "execution_count": null,
   "metadata": {},
   "outputs": [],
   "source": [
    "#4.13.3\tInitializing Variables\n",
    "#Initialize variables.\n",
    "init = tf.global_variables_initializer()\n",
    "\n",
    "#Define a session.\n",
    "sess = tf.Session()\n",
    "#4.13.4\tRunning a Session\n",
    "#Initialize a session.\n",
    "sess.run(init)\n",
    "\n",
    "#Define the saver of the model.\n",
    "saver = tf.train.Saver()\n",
    "\n",
    "#Perform 1,000 rounds of training.\n",
    "for i in range(1000):\n",
    "    batch_xs, batch_ys = mnist.train.next_batch(100)\n",
    "    sess.run(train_step, feed_dict={x: batch_xs, y_:batch_ys})\n",
    "\n",
    "print(\"Training finished!\")\n",
    "#4.13.5\tCreating a Saving Directory for the Model\n",
    "#Create a saving directory for the model.\n",
    "model_dir = \"mnist_model\"\n",
    "model_name = \"ckp\"\n",
    "if not os.path.exists(model_dir):\n",
    "    os.mkdir(model_dir)\n",
    "#4.13.6\tSaving the Model\n",
    "#Save the model.\n",
    "saver.save(sess, os.path.join(model_dir, model_name))\n",
    "\n",
    "print(\"The model is saved!\")"
   ]
  },
  {
   "cell_type": "code",
   "execution_count": null,
   "metadata": {},
   "outputs": [],
   "source": [
    "#4.14\tUsing the Model\n",
    "#4.14.1\tImporting a Dataset\n",
    "# -*- coding: utf-8 -*-\n",
    "#!/usr/bin/env python\n",
    "\n",
    "#Import the mnist database.\n",
    "from tensorflow.examples.tutorials.mnist import input_data\n",
    "mnist=input_data.read_data_sets(\"MNIST_data\",one_hot=True)\n",
    "\n",
    "import tensorflow as tf\n",
    "#4.14.2\tCreating a Session\n",
    "#Create a session.\n",
    "sess = tf.Session()"
   ]
  },
  {
   "cell_type": "code",
   "execution_count": null,
   "metadata": {},
   "outputs": [],
   "source": [
    "#4.14.3\tDefining Variables\n",
    "#Define an input variable.\n",
    "x = tf.placeholder(tf.float32, [None, 784])\n",
    "\n",
    "#Define parameters.\n",
    "W = tf.Variable(tf.zeros([784, 10]))\n",
    "b = tf.Variable(tf.zeros([10]))\n",
    "\n",
    "#Define a model and an excitation function.\n",
    "y = tf.nn.softmax(tf.matmul(x, W) + b)\n",
    "\n",
    "#Define the saver of the model.\n",
    "saver = tf.train.Saver([W, b])"
   ]
  },
  {
   "cell_type": "code",
   "execution_count": null,
   "metadata": {},
   "outputs": [],
   "source": [
    "#4.14.4\tRestoring the Model\n",
    "#Restore the model.\n",
    "saver.restore(sess, \"mnist/ckp\")\n",
    "\n",
    "print(\"The model is restored!\")\n",
    "\n",
    "#Fetch a test image.\n",
    "idx=0\n",
    "img = mnist.test.images[idx]"
   ]
  },
  {
   "cell_type": "code",
   "execution_count": null,
   "metadata": {},
   "outputs": [],
   "source": [
    "#4.14.5\tComputing Results\n",
    "#Compute results based on the model.\n",
    "ret = sess.run(y, feed_dict = {x : img.reshape(1, 784)})\n",
    "\n",
    "print(\"The model result is computed!\")\n",
    "\n",
    "#Display the test results.\n",
    "print(\"predicted result: %d\"%(ret.argmax()))\n",
    "print(\"actual result: %d\"%(mnist.test.labels[idx].argmax()))"
   ]
  },
  {
   "cell_type": "markdown",
   "metadata": {},
   "source": [
    "4.15\tInstance Description\n",
    "This experiment saves models to facilitate later loading and use. \n",
    " "
   ]
  },
  {
   "cell_type": "markdown",
   "metadata": {},
   "source": [
    "# 6 Linear Regression:\n",
    "Housing Price Forecast  \n",
    "4.16\tIntroduction to the Experiment  \n",
    "4.16.1\tAbout the Experiment  \n",
    "This experiment is an instance of TensorFlow linear regression, that is, housing price forecast.  \n",
    "4.16.2\tObjectives of the Experiment  \n",
    "Understand the linear regression.  \n",
    "Understand how to use TensorFlow to make a prediction.  \n",
    "4.16.3\tExperiment Content  \n",
    "This experiment takes an instance to introduce how to use linear regression to predict the housing price and how to make such a prediction in TensorFlow. Commonly, the dataset of Boston housing price is used to predict the housing price. This experiment uses the dataset of Beijing housing price, which is more applicable to China.  "
   ]
  },
  {
   "cell_type": "code",
   "execution_count": 4,
   "metadata": {},
   "outputs": [
    {
     "ename": "FileNotFoundError",
     "evalue": "File b'bj_housing2.csv' does not exist",
     "output_type": "error",
     "traceback": [
      "\u001b[1;31m---------------------------------------------------------------------------\u001b[0m",
      "\u001b[1;31mFileNotFoundError\u001b[0m                         Traceback (most recent call last)",
      "\u001b[1;32m<ipython-input-4-1be3ac6c64fc>\u001b[0m in \u001b[0;36m<module>\u001b[1;34m()\u001b[0m\n\u001b[0;32m     13\u001b[0m \u001b[1;31m#The data in this experiment comes from the bj_housing2.csv file under the https://github.com/cunxi1992/boston_housing directory.\u001b[0m\u001b[1;33m\u001b[0m\u001b[1;33m\u001b[0m\u001b[0m\n\u001b[0;32m     14\u001b[0m \u001b[1;31m#Read data:\u001b[0m\u001b[1;33m\u001b[0m\u001b[1;33m\u001b[0m\u001b[0m\n\u001b[1;32m---> 15\u001b[1;33m \u001b[0mtrain\u001b[0m \u001b[1;33m=\u001b[0m \u001b[0mpd\u001b[0m\u001b[1;33m.\u001b[0m\u001b[0mread_csv\u001b[0m\u001b[1;33m(\u001b[0m\u001b[1;34m\"bj_housing2.csv\"\u001b[0m\u001b[1;33m)\u001b[0m\u001b[1;33m\u001b[0m\u001b[0m\n\u001b[0m\u001b[0;32m     16\u001b[0m \u001b[1;31m#4.17.4 Defining Parameters\u001b[0m\u001b[1;33m\u001b[0m\u001b[1;33m\u001b[0m\u001b[0m\n\u001b[0;32m     17\u001b[0m \u001b[0mtrain\u001b[0m \u001b[1;33m=\u001b[0m \u001b[0mtrain\u001b[0m\u001b[1;33m[\u001b[0m\u001b[0mtrain\u001b[0m\u001b[1;33m[\u001b[0m\u001b[1;34m'Area'\u001b[0m\u001b[1;33m]\u001b[0m \u001b[1;33m<\u001b[0m \u001b[1;36m12000\u001b[0m\u001b[1;33m]\u001b[0m\u001b[1;33m\u001b[0m\u001b[0m\n",
      "\u001b[1;32mJ:\\Anaconda\\software\\lib\\site-packages\\pandas\\io\\parsers.py\u001b[0m in \u001b[0;36mparser_f\u001b[1;34m(filepath_or_buffer, sep, delimiter, header, names, index_col, usecols, squeeze, prefix, mangle_dupe_cols, dtype, engine, converters, true_values, false_values, skipinitialspace, skiprows, nrows, na_values, keep_default_na, na_filter, verbose, skip_blank_lines, parse_dates, infer_datetime_format, keep_date_col, date_parser, dayfirst, iterator, chunksize, compression, thousands, decimal, lineterminator, quotechar, quoting, escapechar, comment, encoding, dialect, tupleize_cols, error_bad_lines, warn_bad_lines, skipfooter, doublequote, delim_whitespace, low_memory, memory_map, float_precision)\u001b[0m\n\u001b[0;32m    676\u001b[0m                     skip_blank_lines=skip_blank_lines)\n\u001b[0;32m    677\u001b[0m \u001b[1;33m\u001b[0m\u001b[0m\n\u001b[1;32m--> 678\u001b[1;33m         \u001b[1;32mreturn\u001b[0m \u001b[0m_read\u001b[0m\u001b[1;33m(\u001b[0m\u001b[0mfilepath_or_buffer\u001b[0m\u001b[1;33m,\u001b[0m \u001b[0mkwds\u001b[0m\u001b[1;33m)\u001b[0m\u001b[1;33m\u001b[0m\u001b[0m\n\u001b[0m\u001b[0;32m    679\u001b[0m \u001b[1;33m\u001b[0m\u001b[0m\n\u001b[0;32m    680\u001b[0m     \u001b[0mparser_f\u001b[0m\u001b[1;33m.\u001b[0m\u001b[0m__name__\u001b[0m \u001b[1;33m=\u001b[0m \u001b[0mname\u001b[0m\u001b[1;33m\u001b[0m\u001b[0m\n",
      "\u001b[1;32mJ:\\Anaconda\\software\\lib\\site-packages\\pandas\\io\\parsers.py\u001b[0m in \u001b[0;36m_read\u001b[1;34m(filepath_or_buffer, kwds)\u001b[0m\n\u001b[0;32m    438\u001b[0m \u001b[1;33m\u001b[0m\u001b[0m\n\u001b[0;32m    439\u001b[0m     \u001b[1;31m# Create the parser.\u001b[0m\u001b[1;33m\u001b[0m\u001b[1;33m\u001b[0m\u001b[0m\n\u001b[1;32m--> 440\u001b[1;33m     \u001b[0mparser\u001b[0m \u001b[1;33m=\u001b[0m \u001b[0mTextFileReader\u001b[0m\u001b[1;33m(\u001b[0m\u001b[0mfilepath_or_buffer\u001b[0m\u001b[1;33m,\u001b[0m \u001b[1;33m**\u001b[0m\u001b[0mkwds\u001b[0m\u001b[1;33m)\u001b[0m\u001b[1;33m\u001b[0m\u001b[0m\n\u001b[0m\u001b[0;32m    441\u001b[0m \u001b[1;33m\u001b[0m\u001b[0m\n\u001b[0;32m    442\u001b[0m     \u001b[1;32mif\u001b[0m \u001b[0mchunksize\u001b[0m \u001b[1;32mor\u001b[0m \u001b[0miterator\u001b[0m\u001b[1;33m:\u001b[0m\u001b[1;33m\u001b[0m\u001b[0m\n",
      "\u001b[1;32mJ:\\Anaconda\\software\\lib\\site-packages\\pandas\\io\\parsers.py\u001b[0m in \u001b[0;36m__init__\u001b[1;34m(self, f, engine, **kwds)\u001b[0m\n\u001b[0;32m    785\u001b[0m             \u001b[0mself\u001b[0m\u001b[1;33m.\u001b[0m\u001b[0moptions\u001b[0m\u001b[1;33m[\u001b[0m\u001b[1;34m'has_index_names'\u001b[0m\u001b[1;33m]\u001b[0m \u001b[1;33m=\u001b[0m \u001b[0mkwds\u001b[0m\u001b[1;33m[\u001b[0m\u001b[1;34m'has_index_names'\u001b[0m\u001b[1;33m]\u001b[0m\u001b[1;33m\u001b[0m\u001b[0m\n\u001b[0;32m    786\u001b[0m \u001b[1;33m\u001b[0m\u001b[0m\n\u001b[1;32m--> 787\u001b[1;33m         \u001b[0mself\u001b[0m\u001b[1;33m.\u001b[0m\u001b[0m_make_engine\u001b[0m\u001b[1;33m(\u001b[0m\u001b[0mself\u001b[0m\u001b[1;33m.\u001b[0m\u001b[0mengine\u001b[0m\u001b[1;33m)\u001b[0m\u001b[1;33m\u001b[0m\u001b[0m\n\u001b[0m\u001b[0;32m    788\u001b[0m \u001b[1;33m\u001b[0m\u001b[0m\n\u001b[0;32m    789\u001b[0m     \u001b[1;32mdef\u001b[0m \u001b[0mclose\u001b[0m\u001b[1;33m(\u001b[0m\u001b[0mself\u001b[0m\u001b[1;33m)\u001b[0m\u001b[1;33m:\u001b[0m\u001b[1;33m\u001b[0m\u001b[0m\n",
      "\u001b[1;32mJ:\\Anaconda\\software\\lib\\site-packages\\pandas\\io\\parsers.py\u001b[0m in \u001b[0;36m_make_engine\u001b[1;34m(self, engine)\u001b[0m\n\u001b[0;32m   1012\u001b[0m     \u001b[1;32mdef\u001b[0m \u001b[0m_make_engine\u001b[0m\u001b[1;33m(\u001b[0m\u001b[0mself\u001b[0m\u001b[1;33m,\u001b[0m \u001b[0mengine\u001b[0m\u001b[1;33m=\u001b[0m\u001b[1;34m'c'\u001b[0m\u001b[1;33m)\u001b[0m\u001b[1;33m:\u001b[0m\u001b[1;33m\u001b[0m\u001b[0m\n\u001b[0;32m   1013\u001b[0m         \u001b[1;32mif\u001b[0m \u001b[0mengine\u001b[0m \u001b[1;33m==\u001b[0m \u001b[1;34m'c'\u001b[0m\u001b[1;33m:\u001b[0m\u001b[1;33m\u001b[0m\u001b[0m\n\u001b[1;32m-> 1014\u001b[1;33m             \u001b[0mself\u001b[0m\u001b[1;33m.\u001b[0m\u001b[0m_engine\u001b[0m \u001b[1;33m=\u001b[0m \u001b[0mCParserWrapper\u001b[0m\u001b[1;33m(\u001b[0m\u001b[0mself\u001b[0m\u001b[1;33m.\u001b[0m\u001b[0mf\u001b[0m\u001b[1;33m,\u001b[0m \u001b[1;33m**\u001b[0m\u001b[0mself\u001b[0m\u001b[1;33m.\u001b[0m\u001b[0moptions\u001b[0m\u001b[1;33m)\u001b[0m\u001b[1;33m\u001b[0m\u001b[0m\n\u001b[0m\u001b[0;32m   1015\u001b[0m         \u001b[1;32melse\u001b[0m\u001b[1;33m:\u001b[0m\u001b[1;33m\u001b[0m\u001b[0m\n\u001b[0;32m   1016\u001b[0m             \u001b[1;32mif\u001b[0m \u001b[0mengine\u001b[0m \u001b[1;33m==\u001b[0m \u001b[1;34m'python'\u001b[0m\u001b[1;33m:\u001b[0m\u001b[1;33m\u001b[0m\u001b[0m\n",
      "\u001b[1;32mJ:\\Anaconda\\software\\lib\\site-packages\\pandas\\io\\parsers.py\u001b[0m in \u001b[0;36m__init__\u001b[1;34m(self, src, **kwds)\u001b[0m\n\u001b[0;32m   1706\u001b[0m         \u001b[0mkwds\u001b[0m\u001b[1;33m[\u001b[0m\u001b[1;34m'usecols'\u001b[0m\u001b[1;33m]\u001b[0m \u001b[1;33m=\u001b[0m \u001b[0mself\u001b[0m\u001b[1;33m.\u001b[0m\u001b[0musecols\u001b[0m\u001b[1;33m\u001b[0m\u001b[0m\n\u001b[0;32m   1707\u001b[0m \u001b[1;33m\u001b[0m\u001b[0m\n\u001b[1;32m-> 1708\u001b[1;33m         \u001b[0mself\u001b[0m\u001b[1;33m.\u001b[0m\u001b[0m_reader\u001b[0m \u001b[1;33m=\u001b[0m \u001b[0mparsers\u001b[0m\u001b[1;33m.\u001b[0m\u001b[0mTextReader\u001b[0m\u001b[1;33m(\u001b[0m\u001b[0msrc\u001b[0m\u001b[1;33m,\u001b[0m \u001b[1;33m**\u001b[0m\u001b[0mkwds\u001b[0m\u001b[1;33m)\u001b[0m\u001b[1;33m\u001b[0m\u001b[0m\n\u001b[0m\u001b[0;32m   1709\u001b[0m \u001b[1;33m\u001b[0m\u001b[0m\n\u001b[0;32m   1710\u001b[0m         \u001b[0mpassed_names\u001b[0m \u001b[1;33m=\u001b[0m \u001b[0mself\u001b[0m\u001b[1;33m.\u001b[0m\u001b[0mnames\u001b[0m \u001b[1;32mis\u001b[0m \u001b[1;32mNone\u001b[0m\u001b[1;33m\u001b[0m\u001b[0m\n",
      "\u001b[1;32mpandas\\_libs\\parsers.pyx\u001b[0m in \u001b[0;36mpandas._libs.parsers.TextReader.__cinit__\u001b[1;34m()\u001b[0m\n",
      "\u001b[1;32mpandas\\_libs\\parsers.pyx\u001b[0m in \u001b[0;36mpandas._libs.parsers.TextReader._setup_parser_source\u001b[1;34m()\u001b[0m\n",
      "\u001b[1;31mFileNotFoundError\u001b[0m: File b'bj_housing2.csv' does not exist"
     ]
    }
   ],
   "source": [
    "#4.17\tExperimental Process\n",
    "#4.17.1\tSetting Encoding Declarations\n",
    "# coding:utf-8\n",
    "#4.17.2\tImporting a Module\n",
    "#Load the database required for this project.\n",
    "from __future__ import print_function, division\n",
    "import tensorflow as tf\n",
    "import pandas as pd\n",
    "import numpy as np\n",
    "import matplotlib.pyplot as plt\n",
    "import seaborn\n",
    "#4.17.3\tImporting Data\n",
    "#The data in this experiment comes from the bj_housing2.csv file under the https://github.com/cunxi1992/boston_housing directory.\n",
    "#Read data:\n",
    "train = pd.read_csv(\"bj_housing2.csv\")\n",
    "#4.17.4\tDefining Parameters\n",
    "train = train[train['Area'] < 12000]\n",
    "train_X = train['Area'].values.reshape(-1, 1)\n",
    "train_Y = train['Value'].values.reshape(-1, 1)\n",
    "n_samples = train_X.shape[0]\n",
    "\n",
    "#Define parameters and set the learning rate.\n",
    "learning_rate = 2\n",
    "#Set the times of training.\n",
    "training_epochs = 1000\n",
    "#Set the frequency of display.\n",
    "display_step = 50\n",
    "#4.17.5\tDefining Placeholders\n",
    "#Define the X and Y placeholders.\n",
    "X = tf.placeholder(tf.float32)\n",
    "Y = tf.placeholder(tf.float32)\n",
    "\n",
    "#Use learning parameters defined by variables.\n",
    "W = tf.Variable(np.random.randn(), name=\"weight\", dtype=tf.float32)\n",
    "b = tf.Variable(np.random.randn(), name=\"bias\", dtype=tf.float32)"
   ]
  },
  {
   "cell_type": "code",
   "execution_count": null,
   "metadata": {},
   "outputs": [],
   "source": [
    "#4.17.6\tCreating a Structure of Forward Propagation\n",
    "#Create a structure of forward propagation.\n",
    "pred = tf.add(tf.multiply(W, X), b)\n",
    "#Loss function\n",
    "cost = tf.reduce_sum(tf.pow(pred-Y, 2)) / (2 * n_samples)\n",
    "#Use the gradient descent optimizer.\n",
    "optimizer = tf.train.AdamOptimizer(learning_rate).minimize(cost)\n",
    "#4.17.7\tInitializing Variables\n",
    "#Enable Init.\n",
    "init = tf.global_variables_initializer()\n",
    "\n",
    "#Start a session and initialize variables.\n",
    "with tf.Session() as sess:\n",
    "sess.run(init)\n",
    "#4.17.8\tEnabling Circulation\n",
    "#Enable circulation to start training.\n",
    "    for epoch in range(training_epochs):\n",
    "        for (x, y) in zip(train_X, train_Y):\n",
    "            sess.run(optimizer, feed_dict={X: x, Y: y})\n",
    "#Display all detailed information of training.\n",
    "        if (epoch + 1) % display_step == 0:\n",
    "            c = sess.run(cost, feed_dict={X: train_X, Y: train_Y})\n",
    "            print(\"Epoch:\", '%04d' % (epoch + 1), \"cost=\", \"{:.3f}\".format(c), \"W=\", sess.run(W), \"b=\", sess.run(b))    #Display all detailed information of training.\n",
    "\n",
    "    print(\"Optimization Finished!\")\n",
    "    training_cost = sess.run(cost, feed_dict={X: train_X, Y: train_Y})\n",
    "    print(\"Training cost=\", training_cost, \"W=\", sess.run(W), \"b=\", sess.run(b), '\\n')\n",
    "#4.17.9\tDisplaying Training Results\n",
    "#Display training results.\n",
    "    plt.plot(train_X, train_Y, 'ro', label=\"Original data\")\n",
    "    plt.plot(train_X, sess.run(W) * train_X + sess.run(b), label=\"Fitted line\")\n",
    "    plt.legend()\n",
    "plt.show()"
   ]
  },
  {
   "cell_type": "markdown",
   "metadata": {},
   "source": [
    "4.18\tInstance Description\n",
    "This experiment uses the dataset of Beijing housing price to predict the housing price of Beijing and realize the application of TensorFlow linear regression."
   ]
  }
 ],
 "metadata": {
  "kernelspec": {
   "display_name": "Python 3",
   "language": "python",
   "name": "python3"
  },
  "language_info": {
   "codemirror_mode": {
    "name": "ipython",
    "version": 3
   },
   "file_extension": ".py",
   "mimetype": "text/x-python",
   "name": "python",
   "nbconvert_exporter": "python",
   "pygments_lexer": "ipython3",
   "version": "3.6.5"
  }
 },
 "nbformat": 4,
 "nbformat_minor": 2
}
