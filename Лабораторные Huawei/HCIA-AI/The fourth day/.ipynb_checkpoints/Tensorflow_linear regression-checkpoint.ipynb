{
 "cells": [
  {
   "cell_type": "markdown",
   "metadata": {},
   "source": [
    "#  Hello, Tensorflow！"
   ]
  },
  {
   "cell_type": "code",
   "execution_count": 1,
   "metadata": {},
   "outputs": [],
   "source": [
    "# -*- coding:utf-8 -*- "
   ]
  },
  {
   "cell_type": "code",
   "execution_count": 2,
   "metadata": {},
   "outputs": [
    {
     "name": "stderr",
     "output_type": "stream",
     "text": [
      "D:\\APPs\\Anaconda\\lib\\site-packages\\h5py\\__init__.py:36: FutureWarning: Conversion of the second argument of issubdtype from `float` to `np.floating` is deprecated. In future, it will be treated as `np.float64 == np.dtype(float).type`.\n",
      "  from ._conv import register_converters as _register_converters\n"
     ]
    }
   ],
   "source": [
    "import  tensorflow as tf"
   ]
  },
  {
   "cell_type": "code",
   "execution_count": 3,
   "metadata": {},
   "outputs": [],
   "source": [
    "import os"
   ]
  },
  {
   "cell_type": "code",
   "execution_count": 4,
   "metadata": {},
   "outputs": [],
   "source": [
    "os.environ['TF_CPP_MIN_LOG_LEVEL'] = '2'"
   ]
  },
  {
   "cell_type": "code",
   "execution_count": 5,
   "metadata": {},
   "outputs": [],
   "source": [
    "hello = tf.constant(\"Hello, TF\")"
   ]
  },
  {
   "cell_type": "code",
   "execution_count": 6,
   "metadata": {},
   "outputs": [
    {
     "name": "stdout",
     "output_type": "stream",
     "text": [
      "Tensor(\"Const:0\", shape=(), dtype=string)\n"
     ]
    }
   ],
   "source": [
    "print(hello)"
   ]
  },
  {
   "cell_type": "code",
   "execution_count": 7,
   "metadata": {},
   "outputs": [],
   "source": [
    "sess = tf.Session()"
   ]
  },
  {
   "cell_type": "code",
   "execution_count": 8,
   "metadata": {},
   "outputs": [
    {
     "name": "stdout",
     "output_type": "stream",
     "text": [
      "b'Hello, TF'\n"
     ]
    }
   ],
   "source": [
    "print(sess.run(hello))"
   ]
  },
  {
   "cell_type": "code",
   "execution_count": 9,
   "metadata": {},
   "outputs": [],
   "source": [
    "sess.close()"
   ]
  },
  {
   "cell_type": "code",
   "execution_count": 10,
   "metadata": {},
   "outputs": [],
   "source": [
    "a = tf.constant(5)\n",
    "b = tf.constant(7)"
   ]
  },
  {
   "cell_type": "code",
   "execution_count": 11,
   "metadata": {},
   "outputs": [],
   "source": [
    "c = a * b\n",
    "d = a + b\n",
    "e = a * d"
   ]
  },
  {
   "cell_type": "markdown",
   "metadata": {},
   "source": [
    "# fetch feed"
   ]
  },
  {
   "cell_type": "code",
   "execution_count": 12,
   "metadata": {},
   "outputs": [
    {
     "name": "stdout",
     "output_type": "stream",
     "text": [
      "Tensor(\"mul:0\", shape=(), dtype=int32)\n"
     ]
    }
   ],
   "source": [
    "print(c)"
   ]
  },
  {
   "cell_type": "code",
   "execution_count": 13,
   "metadata": {},
   "outputs": [
    {
     "name": "stdout",
     "output_type": "stream",
     "text": [
      "<class 'tensorflow.python.framework.ops.Tensor'>\n"
     ]
    }
   ],
   "source": [
    "print(type(c))"
   ]
  },
  {
   "cell_type": "code",
   "execution_count": 14,
   "metadata": {},
   "outputs": [
    {
     "name": "stdout",
     "output_type": "stream",
     "text": [
      "[48, 14, 84]\n"
     ]
    }
   ],
   "source": [
    "with tf.Session() as sess:\n",
    "    print(sess.run([c,d,e] , feed_dict={a:6,b:8}))"
   ]
  },
  {
   "cell_type": "markdown",
   "metadata": {},
   "source": [
    "# linear regression "
   ]
  },
  {
   "cell_type": "code",
   "execution_count": 15,
   "metadata": {},
   "outputs": [],
   "source": [
    "from __future__ import print_function, division"
   ]
  },
  {
   "cell_type": "code",
   "execution_count": 16,
   "metadata": {},
   "outputs": [],
   "source": [
    "import tensorflow as tf\n",
    "import pandas as pd\n",
    "import numpy as np"
   ]
  },
  {
   "cell_type": "code",
   "execution_count": 17,
   "metadata": {},
   "outputs": [
    {
     "name": "stdout",
     "output_type": "stream",
     "text": [
      "9959\n"
     ]
    }
   ],
   "source": [
    "# import data\n",
    "train = pd.read_csv(r\"bj_housing.csv\")\n",
    "train = train[train['Area'] < 300]\n",
    "print(len(train))"
   ]
  },
  {
   "cell_type": "code",
   "execution_count": 18,
   "metadata": {},
   "outputs": [
    {
     "name": "stdout",
     "output_type": "stream",
     "text": [
      "   Area  Value  Room  Living  School  Year  Floor\n",
      "0   128    370     3       1       1  2004     21\n",
      "1    68    330     1       2       1  2000      6\n",
      "2   125    355     3       2       0  2003      5\n",
      "3   129    278     2       2       0  2005     16\n",
      "4   118    340     3       2       0  2003      6\n"
     ]
    }
   ],
   "source": [
    "print(train.head())"
   ]
  },
  {
   "cell_type": "code",
   "execution_count": 19,
   "metadata": {},
   "outputs": [],
   "source": [
    "train_X = train['Area'].values.reshape(-1,1)\n",
    "train_Y = train['Value'].values.reshape(-1,1)"
   ]
  },
  {
   "cell_type": "code",
   "execution_count": 20,
   "metadata": {},
   "outputs": [],
   "source": [
    "n_samples = train_X.shape[0]\n",
    "learning_rate = 2\n",
    "# set learning rate\n",
    "training_epochs = 100\n",
    "# set display_step\n",
    "display_step = 10"
   ]
  },
  {
   "cell_type": "code",
   "execution_count": 21,
   "metadata": {},
   "outputs": [],
   "source": [
    "X = tf.placeholder(tf.float32)\n",
    "Y = tf.placeholder(tf.float32)\n",
    "\n",
    "W = tf.Variable(np.random.randn(),name = \"weight\", dtype = tf.float32)\n",
    "b = tf.Variable(np.random.randn(), name = \"bias\", dtype = tf.float32)\n",
    "\n",
    "#pred = W * X + b\n",
    "pred = tf.add(tf.multiply(W,X),b)"
   ]
  },
  {
   "cell_type": "code",
   "execution_count": 22,
   "metadata": {},
   "outputs": [],
   "source": [
    "cost = tf.reduce_sum(tf.pow(pred - Y, 2))/(2*n_samples)\n",
    "optimizer = tf.train.AdamOptimizer(learning_rate).minimize(cost)"
   ]
  },
  {
   "cell_type": "code",
   "execution_count": 23,
   "metadata": {},
   "outputs": [],
   "source": [
    "init = tf.global_variables_initializer()"
   ]
  },
  {
   "cell_type": "code",
   "execution_count": 24,
   "metadata": {},
   "outputs": [
    {
     "name": "stdout",
     "output_type": "stream",
     "text": [
      "Epoch: 0001 cost= 34763.867 W= 1.4793404 b= -0.11632013\n",
      "Epoch: 0011 cost= 16420.193 W= 2.6008 b= 0.9538104\n",
      "Epoch: 0021 cost= 15562.888 W= 4.6675024 b= 2.9382975\n",
      "Epoch: 0031 cost= 11987.479 W= 3.158553 b= 1.3305845\n",
      "Epoch: 0041 cost= 10642.907 W= 3.6812887 b= 1.741411\n",
      "Epoch: 0051 cost= 10867.473 W= 3.8909345 b= 1.8282442\n",
      "Epoch: 0061 cost= 10664.477 W= 3.614269 b= 1.4201329\n",
      "Epoch: 0071 cost= 10670.262 W= 3.6071866 b= 1.2749636\n",
      "Epoch: 0081 cost= 10643.098 W= 3.6933894 b= 1.2181672\n",
      "Epoch: 0091 cost= 10646.745 W= 3.713404 b= 1.0918065\n",
      "Optimization Finished!\n",
      "--------------------------------------------------\n",
      "Training cost =  10642.468 W= 3.689138 b= 0.93404883 \n",
      "\n"
     ]
    }
   ],
   "source": [
    "with tf.Session() as sess:\n",
    "    sess.run(init)\n",
    "    for epoch in range(training_epochs):\n",
    "        sess.run(optimizer, feed_dict = {X: train_X, Y:train_Y})\n",
    "        if (epoch)%display_step ==  0:\n",
    "            c = sess.run(cost, feed_dict= {X: train_X, Y:train_Y})\n",
    "            print(\"Epoch:\", '%04d' % (epoch + 1), \"cost=\", \"{:.3f}\".format(c), \"W=\", sess.run(W), \"b=\", sess.run(b))\n",
    "    print(\"Optimization Finished!\")\n",
    "    print(\"--------------------------------------------------\")\n",
    "    training_cost = sess.run(cost, feed_dict = {X: train_X, Y:train_Y})\n",
    "    w_final = sess.run(W)\n",
    "    b_final = sess.run(b)\n",
    "    print(\"Training cost = \", training_cost , \"W=\", w_final, \"b=\",b_final,'\\n')  "
   ]
  },
  {
   "cell_type": "code",
   "execution_count": 26,
   "metadata": {},
   "outputs": [
    {
     "data": {
      "image/png": "[encoded data removed]",
      "text/plain": [
       "<Figure size 432x288 with 1 Axes>"
      ]
     },
     "metadata": {},
     "output_type": "display_data"
    }
   ],
   "source": [
    "import matplotlib.pyplot as plt\n",
    "# show the plot \n",
    "plt.plot(train_X, train_Y, 'ro', label=\"Original data\") \n",
    "plt.plot(train_X, w_final * train_X + b_final, label=\"Fitted line\") \n",
    "plt.legend()\n",
    "plt.show() "
   ]
  }
 ],
 "metadata": {
  "kernelspec": {
   "display_name": "Python 3",
   "language": "python",
   "name": "python3"
  },
  "language_info": {
   "codemirror_mode": {
    "name": "ipython",
    "version": 3
   },
   "file_extension": ".py",
   "mimetype": "text/x-python",
   "name": "python",
   "nbconvert_exporter": "python",
   "pygments_lexer": "ipython3",
   "version": "3.6.5"
  }
 },
 "nbformat": 4,
 "nbformat_minor": 2
}
