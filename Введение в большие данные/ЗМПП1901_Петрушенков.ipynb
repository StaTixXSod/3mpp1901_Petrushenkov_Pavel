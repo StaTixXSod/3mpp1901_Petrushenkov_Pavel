{
 "cells": [
  {
   "cell_type": "markdown",
   "metadata": {},
   "source": [
    "# Машинное обучение\n",
    "\n",
    "Практическое задание 1 посвящено изучению основных библиотек для анализа данных, а также линейных моделей и методов их обучения. Вы научитесь:\n",
    " * применять библиотеки NumPy и Pandas для осуществления желаемых преобразований;\n",
    " * подготавливать данные для обучения линейных моделей;\n",
    " * обучать линейную, Lasso и Ridge-регрессии при помощи модуля scikit-learn;\n",
    " * реализовывать обычный и стохастический градиентные спуски;\n",
    " * обучать линейную регрессию для произвольного функционала качества."
   ]
  },
  {
   "cell_type": "markdown",
   "metadata": {},
   "source": [
    "## Библиотеки для анализа данных\n",
    "\n",
    "### NumPy\n",
    "\n",
    "Во всех заданиях данного раздела запрещено использовать циклы  и list comprehensions. Под вектором и матрицей в данных заданиях понимается одномерный и двумерный numpy.array соответственно."
   ]
  },
  {
   "cell_type": "code",
   "execution_count": 82,
   "metadata": {},
   "outputs": [],
   "source": [
    "import numpy as np"
   ]
  },
  {
   "cell_type": "markdown",
   "metadata": {},
   "source": [
    "Реализуйте функцию, возвращающую максимальный элемент в векторе x среди элементов, перед которыми стоит нулевой. Для x = np.array([6, 2, 0, 3, 0, 0, 5, 7, 0]) ответом является 5. Если нулевых элементов нет, функция должна возвращать None.\n"
   ]
  },
  {
   "cell_type": "code",
   "execution_count": 84,
   "metadata": {},
   "outputs": [
    {
     "name": "stdout",
     "output_type": "stream",
     "text": [
      "5\n"
     ]
    }
   ],
   "source": [
    "def max_element(x):\n",
    "    if any(x == 0):\n",
    "        inds_of_zero = np.where(x==0)\n",
    "        our_inds = inds_of_zero[0]+1\n",
    "        if any(our_inds > len(x)-1):\n",
    "            our_inds = our_inds[:-1]\n",
    "            res = x[our_inds].max()\n",
    "            return res\n",
    "        else:\n",
    "            res = x[our_inds].max()\n",
    "            return res\n",
    "    else:\n",
    "        return None\n",
    "arr=np.array([6, 2, 0, 3, 0, 0, 5, 7, 0]);\n",
    "print(max_element(arr))"
   ]
  },
  {
   "cell_type": "markdown",
   "metadata": {},
   "source": [
    "Реализуйте функцию, принимающую на вход матрицу и некоторое число и возвращающую ближайший к числу элемент матрицы. Например: для X = np.arange(0,10).reshape((2, 5)) и v = 3.6 ответом будет 4."
   ]
  },
  {
   "cell_type": "code",
   "execution_count": 86,
   "metadata": {},
   "outputs": [
    {
     "name": "stdout",
     "output_type": "stream",
     "text": [
      "4\n"
     ]
    }
   ],
   "source": [
    "def nearest_value(X, v):\n",
    "    substract_arr = abs(X - v)\n",
    "    min_inds = substract_arr.argmin()\n",
    "    X = X.flatten()\n",
    "    return X[min_inds]\n",
    "\n",
    "x = np.arange(0,10).reshape((2, 5)) \n",
    "v = 3.6\n",
    "print(nearest_value(x, v))"
   ]
  },
  {
   "cell_type": "markdown",
   "metadata": {},
   "source": [
    "Реализуйте функцию scale(X), которая принимает на вход матрицу и масштабирует каждый ее столбец (вычитает выборочное среднее и делит на стандартное отклонение). Убедитесь, что в функции не будет происходить деления на ноль. Протестируйте на случайной матрице (для её генерации можно использовать, например, функцию [numpy.random.randint](http://docs.scipy.org/doc/numpy/reference/generated/numpy.random.randint.html))."
   ]
  },
  {
   "cell_type": "code",
   "execution_count": 98,
   "metadata": {},
   "outputs": [
    {
     "name": "stdout",
     "output_type": "stream",
     "text": [
      "[[-0.96241971  0.81649658  1.66151488]\n",
      " [ 0.36415881 -1.22474487  0.22302213]\n",
      " [ 0.67629493 -0.69402209 -1.0147507 ]]\n"
     ]
    }
   ],
   "source": [
    "def scale(X):\n",
    "    means = np.mean(X, axis=1)\n",
    "    stds = np.std(X, axis=1)\n",
    "    return ((X - means)/stds)\n",
    "mtx = np.random.randint(0, 100, size = (3, 3)) \n",
    "print(scale(mtx))"
   ]
  },
  {
   "cell_type": "markdown",
   "metadata": {},
   "source": [
    " Реализуйте функцию, которая для заданной матрицы находит:\n",
    " - определитель\n",
    " - след\n",
    " - наименьший и наибольший элементы\n",
    " - норму Фробениуса\n",
    " - собственные числа\n",
    " - обратную матрицу\n",
    "\n",
    "Для тестирования сгенерируйте матрицу с элементами из нормального распределения $\\mathcal{N}$(10,1)"
   ]
  },
  {
   "cell_type": "code",
   "execution_count": 105,
   "metadata": {},
   "outputs": [
    {
     "name": "stdout",
     "output_type": "stream",
     "text": [
      "Определитель:  -0.48529387935463225 \n",
      "След:  -0.19244480193565794 \n",
      "MIN/MAX:  -0.6801831885104209 / 0.4999732065468236 \n",
      "Норма Фробениуса:  1.0221655089328598 \n",
      "Собственные числа: \n",
      " (array([ 0.60702196, -0.79946676]), array([[ 0.97269988, -0.36206467],\n",
      "       [ 0.23206667,  0.93215298]])) \n",
      "Обратная матрица: \n",
      " [[ 1.40159029  1.03024833]\n",
      " [ 0.63281514 -1.00503717]]\n"
     ]
    },
    {
     "data": {
      "text/plain": [
       "[-0.48529387935463225,\n",
       " -0.19244480193565794,\n",
       " -0.6801831885104209,\n",
       " 0.4999732065468236,\n",
       " 1.0221655089328598,\n",
       " (array([ 0.60702196, -0.79946676]), array([[ 0.97269988, -0.36206467],\n",
       "         [ 0.23206667,  0.93215298]])),\n",
       " array([[ 1.40159029,  1.03024833],\n",
       "        [ 0.63281514, -1.00503717]])]"
      ]
     },
     "execution_count": 105,
     "metadata": {},
     "output_type": "execute_result"
    }
   ],
   "source": [
    "def get_stats(X):\n",
    "    parameters = []\n",
    "    determinition = np.linalg.det(X)\n",
    "    trace = np.trace(X)\n",
    "    MIN = X.min()\n",
    "    MAX = X.max()\n",
    "    norm_frob = np.linalg.norm(X, 'fro')\n",
    "    self_num = np.linalg.eig(X)\n",
    "    inverted = np.linalg.inv(X)\n",
    "    parameters.extend([determinition, trace, MIN, MAX, norm_frob, self_num, inverted])\n",
    "    print('Определитель: ', determinition, '\\n'\n",
    "     'След: ', trace, '\\n'\n",
    "     'MIN/MAX: ', MIN, '/', MAX, '\\n'\n",
    "     'Норма Фробениуса: ', norm_frob, '\\n'\n",
    "     'Собственные числа: ' '\\n', self_num, '\\n'\n",
    "     'Обратная матрица: ' '\\n', inverted)\n",
    "    return parameters\n",
    "\n",
    "X = np.random.randn(2, 2)\n",
    "get_stats(X)"
   ]
  },
  {
   "cell_type": "markdown",
   "metadata": {},
   "source": [
    "Повторите 100 раз следующий эксперимент: сгенерируйте две матрицы размера 10×10 из стандартного нормального распределения, перемножьте их (как матрицы) и найдите максимальный элемент. Какое среднее значение по экспериментам у максимальных элементов? 95-процентная квантиль?"
   ]
  },
  {
   "cell_type": "code",
   "execution_count": 106,
   "metadata": {},
   "outputs": [
    {
     "name": "stdout",
     "output_type": "stream",
     "text": [
      "Среднее значение у максимальных элементов 189.1814311606545\n"
     ]
    },
    {
     "data": {
      "image/png": "[encoded data removed]",
      "text/plain": [
       "<Figure size 432x288 with 1 Axes>"
      ]
     },
     "metadata": {},
     "output_type": "display_data"
    }
   ],
   "source": [
    "matrix1 = np.random.normal(3, 2.5, size=(10, 10))\n",
    "matrix2 = np.random.normal(3, 2.5, size=(10, 10))\n",
    "matrix = matrix1.dot(matrix2)\n",
    "import matplotlib.pyplot as plt\n",
    "import seaborn as sns\n",
    "sns.set_style('darkgrid')\n",
    "sns.distplot(matrix[0])\n",
    "nums = []\n",
    "for exp_num in range(100):\n",
    "    matrix1 = np.random.normal(3, 2.5, size=(10, 10))\n",
    "    matrix2 = np.random.normal(3, 2.5, size=(10, 10))\n",
    "    nums.append(np.max(matrix1.dot(matrix2)))\n",
    "    \n",
    "print('Среднее значение у максимальных элементов',np.average(nums))"
   ]
  },
  {
   "cell_type": "markdown",
   "metadata": {},
   "source": [
    "### Pandas\n",
    "\n",
    "![](https://metrouk2.files.wordpress.com/2015/10/panda.jpg)\n",
    "\n",
    "#### Ответьте на вопросы о данных по авиарейсам в США за январь-апрель 2008 года.\n",
    "\n",
    "[Данные](https://www.dropbox.com/s/dvfitn93obn0rql/2008.csv?dl=0) и их [описание](http://stat-computing.org/dataexpo/2009/the-data.html)"
   ]
  },
  {
   "cell_type": "code",
   "execution_count": 100,
   "metadata": {},
   "outputs": [],
   "source": [
    "import pandas as pd\n",
    "%matplotlib inline"
   ]
  },
  {
   "cell_type": "code",
   "execution_count": 101,
   "metadata": {},
   "outputs": [],
   "source": [
    "df = pd.read_csv('2008.csv')\n",
    "df_jan_apr = df[df['Month'] < 5]"
   ]
  },
  {
   "cell_type": "markdown",
   "metadata": {},
   "source": [
    "Какая из причин отмены рейса (`CancellationCode`) была самой частой? (расшифровки кодов можно найти в описании данных)"
   ]
  },
  {
   "cell_type": "code",
   "execution_count": 102,
   "metadata": {},
   "outputs": [
    {
     "name": "stdout",
     "output_type": "stream",
     "text": [
      "MAX value code:  A\n"
     ]
    },
    {
     "data": {
      "image/png": "[encoded data removed]",
      "text/plain": [
       "<Figure size 432x288 with 1 Axes>"
      ]
     },
     "metadata": {
      "needs_background": "light"
     },
     "output_type": "display_data"
    }
   ],
   "source": [
    "J_A = df_jan_apr['CancellationCode'].dropna()\n",
    "J_A.value_counts()\n",
    "J_A.value_counts().plot(kind='bar')\n",
    "print('MAX value code: ', J_A.value_counts().idxmax())\n",
    "#### Ответ: carrier"
   ]
  },
  {
   "cell_type": "markdown",
   "metadata": {},
   "source": [
    " Найдите среднее, минимальное и максимальное расстояние, пройденное самолетом."
   ]
  },
  {
   "cell_type": "code",
   "execution_count": 103,
   "metadata": {},
   "outputs": [
    {
     "data": {
      "text/plain": [
       "50%     576.0\n",
       "min      31.0\n",
       "max    4962.0\n",
       "Name: Distance, dtype: float64"
      ]
     },
     "execution_count": 103,
     "metadata": {},
     "output_type": "execute_result"
    }
   ],
   "source": [
    "df_jan_apr['Distance'].describe()[['50%', 'min', 'max']]"
   ]
  },
  {
   "cell_type": "markdown",
   "metadata": {},
   "source": [
    " Не выглядит ли подозрительным минимальное пройденное расстояние? В какие дни и на каких рейсах оно было? Какое расстояние было пройдено этими же рейсами в другие дни?"
   ]
  },
  {
   "cell_type": "code",
   "execution_count": 104,
   "metadata": {},
   "outputs": [],
   "source": [
    "min_dist = df_jan_apr[df_jan_apr['Distance']==df_jan_apr['Distance'].describe()['min']]"
   ]
  },
  {
   "cell_type": "code",
   "execution_count": 105,
   "metadata": {},
   "outputs": [
    {
     "data": {
      "text/html": [
       "<div>\n",
       "<style scoped>\n",
       "    .dataframe tbody tr th:only-of-type {\n",
       "        vertical-align: middle;\n",
       "    }\n",
       "\n",
       "    .dataframe tbody tr th {\n",
       "        vertical-align: top;\n",
       "    }\n",
       "\n",
       "    .dataframe thead th {\n",
       "        text-align: right;\n",
       "    }\n",
       "</style>\n",
       "<table border=\"1\" class=\"dataframe\">\n",
       "  <thead>\n",
       "    <tr style=\"text-align: right;\">\n",
       "      <th></th>\n",
       "      <th>Month</th>\n",
       "      <th>DayofMonth</th>\n",
       "      <th>DayOfWeek</th>\n",
       "      <th>UniqueCarrier</th>\n",
       "      <th>FlightNum</th>\n",
       "    </tr>\n",
       "  </thead>\n",
       "  <tbody>\n",
       "    <tr>\n",
       "      <td>27534</td>\n",
       "      <td>3</td>\n",
       "      <td>11</td>\n",
       "      <td>2</td>\n",
       "      <td>AS</td>\n",
       "      <td>64</td>\n",
       "    </tr>\n",
       "    <tr>\n",
       "      <td>48112</td>\n",
       "      <td>2</td>\n",
       "      <td>28</td>\n",
       "      <td>4</td>\n",
       "      <td>AS</td>\n",
       "      <td>64</td>\n",
       "    </tr>\n",
       "  </tbody>\n",
       "</table>\n",
       "</div>"
      ],
      "text/plain": [
       "       Month  DayofMonth  DayOfWeek UniqueCarrier  FlightNum\n",
       "27534      3          11          2            AS         64\n",
       "48112      2          28          4            AS         64"
      ]
     },
     "execution_count": 105,
     "metadata": {},
     "output_type": "execute_result"
    }
   ],
   "source": [
    "min_dist[['Month', 'DayofMonth', 'DayOfWeek', 'UniqueCarrier', 'FlightNum']]"
   ]
  },
  {
   "cell_type": "code",
   "execution_count": 106,
   "metadata": {},
   "outputs": [
    {
     "data": {
      "text/html": [
       "<div>\n",
       "<style scoped>\n",
       "    .dataframe tbody tr th:only-of-type {\n",
       "        vertical-align: middle;\n",
       "    }\n",
       "\n",
       "    .dataframe tbody tr th {\n",
       "        vertical-align: top;\n",
       "    }\n",
       "\n",
       "    .dataframe thead th {\n",
       "        text-align: right;\n",
       "    }\n",
       "</style>\n",
       "<table border=\"1\" class=\"dataframe\">\n",
       "  <thead>\n",
       "    <tr style=\"text-align: right;\">\n",
       "      <th></th>\n",
       "      <th>Code</th>\n",
       "      <th>Description</th>\n",
       "    </tr>\n",
       "  </thead>\n",
       "  <tbody>\n",
       "    <tr>\n",
       "      <td>221</td>\n",
       "      <td>AS</td>\n",
       "      <td>Alaska Airlines Inc.</td>\n",
       "    </tr>\n",
       "  </tbody>\n",
       "</table>\n",
       "</div>"
      ],
      "text/plain": [
       "    Code           Description\n",
       "221   AS  Alaska Airlines Inc."
      ]
     },
     "execution_count": 106,
     "metadata": {},
     "output_type": "execute_result"
    }
   ],
   "source": [
    "carriers = pd.read_csv('carriers.csv')\n",
    "carriers[carriers['Code']=='AS']"
   ]
  },
  {
   "cell_type": "code",
   "execution_count": 107,
   "metadata": {},
   "outputs": [
    {
     "data": {
      "text/html": [
       "<div>\n",
       "<style scoped>\n",
       "    .dataframe tbody tr th:only-of-type {\n",
       "        vertical-align: middle;\n",
       "    }\n",
       "\n",
       "    .dataframe tbody tr th {\n",
       "        vertical-align: top;\n",
       "    }\n",
       "\n",
       "    .dataframe thead th {\n",
       "        text-align: right;\n",
       "    }\n",
       "</style>\n",
       "<table border=\"1\" class=\"dataframe\">\n",
       "  <thead>\n",
       "    <tr style=\"text-align: right;\">\n",
       "      <th></th>\n",
       "      <th>mean</th>\n",
       "      <th>amax</th>\n",
       "    </tr>\n",
       "    <tr>\n",
       "      <th>FlightNum</th>\n",
       "      <th></th>\n",
       "      <th></th>\n",
       "    </tr>\n",
       "  </thead>\n",
       "  <tbody>\n",
       "    <tr>\n",
       "      <td>64</td>\n",
       "      <td>748.128205</td>\n",
       "      <td>2381</td>\n",
       "    </tr>\n",
       "  </tbody>\n",
       "</table>\n",
       "</div>"
      ],
      "text/plain": [
       "                 mean  amax\n",
       "FlightNum                  \n",
       "64         748.128205  2381"
      ]
     },
     "execution_count": 107,
     "metadata": {},
     "output_type": "execute_result"
    }
   ],
   "source": [
    "flights64_65 = df[(df['FlightNum']==64)] # Среднее расстояние, пройденное этим же рейсом в другие дни\n",
    "flights64_65.groupby('FlightNum')['Distance'].agg([np.mean, np.max])"
   ]
  },
  {
   "cell_type": "markdown",
   "metadata": {},
   "source": [
    "Из какого аэропорта было произведено больше всего вылетов? В каком городе он находится?"
   ]
  },
  {
   "cell_type": "code",
   "execution_count": 108,
   "metadata": {},
   "outputs": [
    {
     "data": {
      "text/plain": [
       "880    Atlanta\n",
       "Name: city, dtype: object"
      ]
     },
     "execution_count": 108,
     "metadata": {},
     "output_type": "execute_result"
    }
   ],
   "source": [
    "airports = pd.read_csv('airports.csv')\n",
    "airports[airports['iata']==df_jan_apr['Origin'].value_counts().idxmax()]['city']"
   ]
  },
  {
   "cell_type": "markdown",
   "metadata": {},
   "source": [
    "Найдите для каждого аэропорта среднее время полета (`AirTime`) по всем вылетевшим из него рейсам. Какой аэропорт имеет наибольшее значение этого показателя?"
   ]
  },
  {
   "cell_type": "code",
   "execution_count": 109,
   "metadata": {},
   "outputs": [
    {
     "data": {
      "text/plain": [
       "Origin\n",
       "ABE    88.375000\n",
       "ABI    37.153846\n",
       "ABQ    90.868613\n",
       "ABY    37.666667\n",
       "ACT    30.142857\n",
       "         ...    \n",
       "WRG    24.500000\n",
       "XNA    90.431818\n",
       "YAK    35.000000\n",
       "YKM    77.000000\n",
       "YUM    46.071429\n",
       "Name: AirTime, Length: 280, dtype: float64"
      ]
     },
     "execution_count": 109,
     "metadata": {},
     "output_type": "execute_result"
    }
   ],
   "source": [
    "df_jan_apr.groupby('Origin')['AirTime'].agg(np.mean)"
   ]
  },
  {
   "cell_type": "code",
   "execution_count": 110,
   "metadata": {},
   "outputs": [
    {
     "name": "stdout",
     "output_type": "stream",
     "text": [
      "Максимальное среднее значение полета у аэропорта:  PSE\n",
      "Полное название аэропорта:  2674    Ponce\n",
      "Name: city, dtype: object\n"
     ]
    }
   ],
   "source": [
    "print('Максимальное среднее значение полета у аэропорта: ', df_jan_apr.groupby('Origin')['AirTime'].agg(np.mean).idxmax())\n",
    "print('Полное название аэропорта: ',airports[airports['iata']==df_jan_apr.groupby('Origin')['AirTime'].agg(np.mean).idxmax()]['city'])"
   ]
  },
  {
   "cell_type": "markdown",
   "metadata": {},
   "source": [
    "Найдите аэропорт, у которого наибольшая доля задержанных (`DepDelay > 0`) рейсов. Исключите при этом из рассмотрения аэропорты, из которых было отправлено меньше 1000 рейсов (используйте функцию `filter` после `groupby`)."
   ]
  },
  {
   "cell_type": "code",
   "execution_count": 111,
   "metadata": {},
   "outputs": [
    {
     "data": {
      "text/plain": [
       "2531    Chicago O'Hare International\n",
       "Name: airport, dtype: object"
      ]
     },
     "execution_count": 111,
     "metadata": {},
     "output_type": "execute_result"
    }
   ],
   "source": [
    "most = df_jan_apr[\"Origin\"].value_counts() > 1000\n",
    "fin = most[most==True].index.tolist()\n",
    "over1000 = df_jan_apr[df_jan_apr['Origin'].isin(fin)]\n",
    "over1001 = over1000[over1000['DepDelay'] > 0]\n",
    "over1001.groupby('Origin')['DepDelay'].sum()\n",
    "airports[airports['iata']==over1001.groupby('Origin')['DepDelay'].sum().idxmax()]['airport']"
   ]
  },
  {
   "cell_type": "markdown",
   "metadata": {},
   "source": [
    "## Линейная регрессия\n",
    "\n",
    "В этой части мы разберемся с линейной регрессией, способами её обучения и измерением качества ее прогнозов. \n",
    "\n",
    "Будем рассматривать датасет из предыдущей части задания для предсказания времени задержки отправления рейса в минутах (DepDelay). Отметим, что под задержкой подразумевается не только опоздание рейса относительно планируемого времени вылета, но и отправление до планируемого времени.\n",
    "\n",
    "### Подготовка данных\n",
    "\n",
    "**12. (0.5 балла)** Считайте выборку из файла при помощи функции pd.read_csv и ответьте на следующие вопросы:\n",
    "   - Имеются ли в данных пропущенные значения?\n",
    "   - Сколько всего пропущенных элементов в таблице \"объект-признак\"?\n",
    "   - Сколько объектов имеют хотя бы один пропуск?\n",
    "   - Сколько признаков имеют хотя бы одно пропущенное значение?"
   ]
  },
  {
   "cell_type": "code",
   "execution_count": 1,
   "metadata": {
    "scrolled": true
   },
   "outputs": [],
   "source": [
    "import pandas as pd\n",
    "import numpy as np\n",
    "import matplotlib.pyplot as plt\n",
    "import seaborn as sns"
   ]
  },
  {
   "cell_type": "code",
   "execution_count": 2,
   "metadata": {},
   "outputs": [],
   "source": [
    "sns.set_style('whitegrid')\n",
    "sns.set_context('talk')"
   ]
  },
  {
   "cell_type": "code",
   "execution_count": 3,
   "metadata": {},
   "outputs": [],
   "source": [
    "df = pd.read_csv('2008.csv')"
   ]
  },
  {
   "cell_type": "code",
   "execution_count": 4,
   "metadata": {},
   "outputs": [
    {
     "name": "stdout",
     "output_type": "stream",
     "text": [
      "Имеются ли в данных пропущенные значения?: Да\n",
      "Сколько всего пропущенных элементов в таблице \"объект-признак\"?: 355215\n",
      "Сколько объектов имеют хотя бы один пропуск?: True    70000\n",
      "dtype: int64\n",
      "Сколько признаков имеют хотя бы одно пропущенное значение?:  16\n"
     ]
    }
   ],
   "source": [
    "allnans = df.isna().sum().sum()\n",
    "colnan  = (df.isna().sum() > 0).value_counts()[1]\n",
    "objnan  = ((df.isna().sum(axis=1))>0).value_counts()\n",
    "# Судя по всему во всем датафрейме в каждой строке есть хотя бы одно пропущенное значение\n",
    "        \n",
    "print('Имеются ли в данных пропущенные значения?:', 'Да')\n",
    "print('Сколько всего пропущенных элементов в таблице \"объект-признак\"?:', allnans)\n",
    "print('Сколько объектов имеют хотя бы один пропуск?:', objnan)\n",
    "print('Сколько признаков имеют хотя бы одно пропущенное значение?: ', colnan)"
   ]
  },
  {
   "cell_type": "markdown",
   "metadata": {},
   "source": [
    "Как вы понимаете, также не имеет смысла рассматривать при решении поставленной задачи объекты с пропущенным значением целевой переменной. В связи с этим ответьте на следующие вопросы и выполните соответствующие действия:\n",
    "- Имеются ли пропущенные значения в целевой переменной?\n",
    "- Проанализируйте объекты с пропущенными значениями целевой переменной. Чем вызвано это явление? Что их объединяет? Можно ли в связи с этим, на ваш взгляд, исключить какие-то признаки из рассмотрения? Обоснуйте свою точку зрения.\n",
    "\n",
    "Исключите из выборки объекты **с пропущенным значением целевой переменной и со значением целевой переменной, равным 0**, а также при необходимости исключите признаки в соответствии с вашим ответом на последний вопрос из списка и выделите целевую переменную в отдельный вектор, исключив её из матрицы \"объект-признак\"."
   ]
  },
  {
   "cell_type": "code",
   "execution_count": 5,
   "metadata": {},
   "outputs": [
    {
     "name": "stdout",
     "output_type": "stream",
     "text": [
      "Имеются ли пропущенные значения в целевой переменной?  1399 пропущенных значений\n"
     ]
    }
   ],
   "source": [
    "print('Имеются ли пропущенные значения в целевой переменной? ', df['DepDelay'].isnull().sum(), str('пропущенных значений'))"
   ]
  },
  {
   "cell_type": "code",
   "execution_count": 6,
   "metadata": {},
   "outputs": [
    {
     "name": "stdout",
     "output_type": "stream",
     "text": [
      "<class 'pandas.core.frame.DataFrame'>\n",
      "Int64Index: 1399 entries, 11 to 69949\n",
      "Data columns (total 29 columns):\n",
      "Year                 1399 non-null int64\n",
      "Month                1399 non-null int64\n",
      "DayofMonth           1399 non-null int64\n",
      "DayOfWeek            1399 non-null int64\n",
      "DepTime              0 non-null float64\n",
      "CRSDepTime           1399 non-null int64\n",
      "ArrTime              0 non-null float64\n",
      "CRSArrTime           1399 non-null int64\n",
      "UniqueCarrier        1399 non-null object\n",
      "FlightNum            1399 non-null int64\n",
      "TailNum              579 non-null object\n",
      "ActualElapsedTime    0 non-null float64\n",
      "CRSElapsedTime       1395 non-null float64\n",
      "AirTime              0 non-null float64\n",
      "ArrDelay             0 non-null float64\n",
      "DepDelay             0 non-null float64\n",
      "Origin               1399 non-null object\n",
      "Dest                 1399 non-null object\n",
      "Distance             1399 non-null int64\n",
      "TaxiIn               0 non-null float64\n",
      "TaxiOut              0 non-null float64\n",
      "Cancelled            1399 non-null int64\n",
      "CancellationCode     1399 non-null object\n",
      "Diverted             1399 non-null int64\n",
      "CarrierDelay         0 non-null float64\n",
      "WeatherDelay         0 non-null float64\n",
      "NASDelay             0 non-null float64\n",
      "SecurityDelay        0 non-null float64\n",
      "LateAircraftDelay    0 non-null float64\n",
      "dtypes: float64(14), int64(10), object(5)\n",
      "memory usage: 327.9+ KB\n"
     ]
    }
   ],
   "source": [
    "NAN_depdelay = df[df['DepDelay'].isnull()]\n",
    "NAN_depdelay.info()"
   ]
  },
  {
   "cell_type": "markdown",
   "metadata": {},
   "source": [
    "Вообщем там где DepDelay имеет NAN значения, столько же пропущенных значений присутсвует и в некоторых других признаках.\n",
    "Объединяет их то что пропущенные значения относятся в основном к значениям с Delay такие как: CarrierDelay, WeatherDelay и т.д.\n",
    "Таким образом мы можем спокойно дропнуть пропущенные значения объектов в DepDelay."
   ]
  },
  {
   "cell_type": "code",
   "execution_count": 7,
   "metadata": {},
   "outputs": [],
   "source": [
    "df = df.dropna(subset=['DepDelay'], axis=0)\n",
    "df = df[df['DepDelay'] != 0]\n",
    "\n",
    "#Чтобы применить функцию преобразования в часы и минуты, избавимся также от NAN значений в данных признаках\n",
    "df = df.dropna(subset=['DepTime', 'CRSDepTime', 'ArrTime', 'CRSArrTime'], axis=0)\n",
    "\n",
    "#y = df[['DepDelay']]\n",
    "y = df['DepDelay']"
   ]
  },
  {
   "cell_type": "markdown",
   "metadata": {},
   "source": [
    "**13. (0.5 балла)** Обратите внимание, что признаки DepTime, CRSDepTime, ArrTime, CRSArrTime приведены в формате hhmm, в связи с чем будет не вполне корректно рассматривать их как вещественные.\n",
    "\n",
    "Преобразуйте каждый признак FeatureName из указанных в пару новых признаков FeatureName\\_Hour, FeatureName\\_Minute, разделив каждое из значений на часы и минуты. Не забудьте при этом исключить исходный признак из выборки. В случае, если значение признака отсутствует, значения двух новых признаков, его заменяющих, также должны отсутствовать. \n",
    "\n",
    "Например, признак DepTime необходимо заменить на пару признаков DepTime_Hour, DepTime_Minute. При этом, например, значение 155 исходного признака будет преобразовано в значения 1 и 55 признаков DepTime_Hour, DepTime_Minute соответственно."
   ]
  },
  {
   "cell_type": "code",
   "execution_count": 8,
   "metadata": {},
   "outputs": [],
   "source": [
    "def transform_to_hour(col):\n",
    "    s = []\n",
    "    for i in df[col]:\n",
    "        if np.isnan(i):\n",
    "            s.append(np.nan)\n",
    "        else:\n",
    "            if len(str(int(i))) > 2:\n",
    "                s.append(int(str(int(i))[0:len(str(int(i)))-2]))\n",
    "            else: s.append(0)\n",
    "    df['{}_Hour'.format(col)] = s\n",
    "\n",
    "def transform_to_min(col):\n",
    "    s = []\n",
    "    for i in df[col]:\n",
    "        if np.isnan(i):\n",
    "            s.append(np.nan)\n",
    "        else:\n",
    "            s.append(int(str(int(i))[len(str(int(i)))-2:]))\n",
    "    df['{}_Minute'.format(col)] = s\n",
    "    \n",
    "    \n",
    "transform_to_hour('DepTime')\n",
    "transform_to_min('DepTime')\n",
    "\n",
    "transform_to_hour('CRSDepTime')\n",
    "transform_to_min('CRSDepTime')\n",
    "\n",
    "transform_to_hour('ArrTime')\n",
    "transform_to_min('ArrTime')\n",
    "\n",
    "transform_to_hour('CRSArrTime')\n",
    "transform_to_min('CRSArrTime')\n",
    "\n",
    "df = df.drop(['DepTime', 'CRSDepTime', 'ArrTime', 'CRSArrTime'], axis=1)"
   ]
  },
  {
   "cell_type": "markdown",
   "metadata": {},
   "source": [
    "**14. (0.5 балла)** Некоторые из признаков, отличных от целевой переменной, могут оказывать чересчур значимое влияние на прогноз, поскольку по своему смыслу содержат большую долю информации о значении целевой переменной. Изучите описание датасета и исключите признаки, сильно коррелирующие с ответами. Ваш выбор признаков для исключения из выборки обоснуйте. Кроме того, исключите признаки TailNum и Year."
   ]
  },
  {
   "cell_type": "code",
   "execution_count": 9,
   "metadata": {},
   "outputs": [
    {
     "data": {
      "text/html": [
       "<div>\n",
       "<style scoped>\n",
       "    .dataframe tbody tr th:only-of-type {\n",
       "        vertical-align: middle;\n",
       "    }\n",
       "\n",
       "    .dataframe tbody tr th {\n",
       "        vertical-align: top;\n",
       "    }\n",
       "\n",
       "    .dataframe thead th {\n",
       "        text-align: right;\n",
       "    }\n",
       "</style>\n",
       "<table border=\"1\" class=\"dataframe\">\n",
       "  <thead>\n",
       "    <tr style=\"text-align: right;\">\n",
       "      <th></th>\n",
       "      <th>Year</th>\n",
       "      <th>Month</th>\n",
       "      <th>DayofMonth</th>\n",
       "      <th>DayOfWeek</th>\n",
       "      <th>FlightNum</th>\n",
       "      <th>ActualElapsedTime</th>\n",
       "      <th>CRSElapsedTime</th>\n",
       "      <th>AirTime</th>\n",
       "      <th>ArrDelay</th>\n",
       "      <th>DepDelay</th>\n",
       "      <th>...</th>\n",
       "      <th>SecurityDelay</th>\n",
       "      <th>LateAircraftDelay</th>\n",
       "      <th>DepTime_Hour</th>\n",
       "      <th>DepTime_Minute</th>\n",
       "      <th>CRSDepTime_Hour</th>\n",
       "      <th>CRSDepTime_Minute</th>\n",
       "      <th>ArrTime_Hour</th>\n",
       "      <th>ArrTime_Minute</th>\n",
       "      <th>CRSArrTime_Hour</th>\n",
       "      <th>CRSArrTime_Minute</th>\n",
       "    </tr>\n",
       "  </thead>\n",
       "  <tbody>\n",
       "    <tr>\n",
       "      <td>Year</td>\n",
       "      <td>NaN</td>\n",
       "      <td>NaN</td>\n",
       "      <td>NaN</td>\n",
       "      <td>NaN</td>\n",
       "      <td>NaN</td>\n",
       "      <td>NaN</td>\n",
       "      <td>NaN</td>\n",
       "      <td>NaN</td>\n",
       "      <td>NaN</td>\n",
       "      <td>NaN</td>\n",
       "      <td>...</td>\n",
       "      <td>NaN</td>\n",
       "      <td>NaN</td>\n",
       "      <td>NaN</td>\n",
       "      <td>NaN</td>\n",
       "      <td>NaN</td>\n",
       "      <td>NaN</td>\n",
       "      <td>NaN</td>\n",
       "      <td>NaN</td>\n",
       "      <td>NaN</td>\n",
       "      <td>NaN</td>\n",
       "    </tr>\n",
       "    <tr>\n",
       "      <td>Month</td>\n",
       "      <td>NaN</td>\n",
       "      <td>1.000000</td>\n",
       "      <td>-0.004919</td>\n",
       "      <td>-0.010830</td>\n",
       "      <td>0.006224</td>\n",
       "      <td>-0.014230</td>\n",
       "      <td>-0.005554</td>\n",
       "      <td>-0.012840</td>\n",
       "      <td>-0.041950</td>\n",
       "      <td>-0.029353</td>\n",
       "      <td>...</td>\n",
       "      <td>0.008620</td>\n",
       "      <td>0.017445</td>\n",
       "      <td>-0.009363</td>\n",
       "      <td>0.002433</td>\n",
       "      <td>-0.007234</td>\n",
       "      <td>0.011447</td>\n",
       "      <td>-0.002887</td>\n",
       "      <td>-0.001491</td>\n",
       "      <td>0.002728</td>\n",
       "      <td>-0.005542</td>\n",
       "    </tr>\n",
       "    <tr>\n",
       "      <td>DayofMonth</td>\n",
       "      <td>NaN</td>\n",
       "      <td>-0.004919</td>\n",
       "      <td>1.000000</td>\n",
       "      <td>0.015477</td>\n",
       "      <td>0.009766</td>\n",
       "      <td>-0.008110</td>\n",
       "      <td>-0.007126</td>\n",
       "      <td>-0.007842</td>\n",
       "      <td>0.006479</td>\n",
       "      <td>0.008777</td>\n",
       "      <td>...</td>\n",
       "      <td>-0.007752</td>\n",
       "      <td>0.009641</td>\n",
       "      <td>0.001605</td>\n",
       "      <td>0.006120</td>\n",
       "      <td>0.002224</td>\n",
       "      <td>-0.000978</td>\n",
       "      <td>-0.001435</td>\n",
       "      <td>-0.006125</td>\n",
       "      <td>0.000656</td>\n",
       "      <td>0.000891</td>\n",
       "    </tr>\n",
       "    <tr>\n",
       "      <td>DayOfWeek</td>\n",
       "      <td>NaN</td>\n",
       "      <td>-0.010830</td>\n",
       "      <td>0.015477</td>\n",
       "      <td>1.000000</td>\n",
       "      <td>-0.005926</td>\n",
       "      <td>0.010330</td>\n",
       "      <td>0.012959</td>\n",
       "      <td>0.011541</td>\n",
       "      <td>0.002943</td>\n",
       "      <td>0.008467</td>\n",
       "      <td>...</td>\n",
       "      <td>0.005031</td>\n",
       "      <td>0.007566</td>\n",
       "      <td>0.005990</td>\n",
       "      <td>-0.000598</td>\n",
       "      <td>0.005715</td>\n",
       "      <td>-0.000763</td>\n",
       "      <td>0.005762</td>\n",
       "      <td>-0.000901</td>\n",
       "      <td>0.006145</td>\n",
       "      <td>0.000784</td>\n",
       "    </tr>\n",
       "    <tr>\n",
       "      <td>FlightNum</td>\n",
       "      <td>NaN</td>\n",
       "      <td>0.006224</td>\n",
       "      <td>0.009766</td>\n",
       "      <td>-0.005926</td>\n",
       "      <td>1.000000</td>\n",
       "      <td>-0.324021</td>\n",
       "      <td>-0.331305</td>\n",
       "      <td>-0.336906</td>\n",
       "      <td>0.027777</td>\n",
       "      <td>0.021709</td>\n",
       "      <td>...</td>\n",
       "      <td>0.009387</td>\n",
       "      <td>-0.022415</td>\n",
       "      <td>-0.003909</td>\n",
       "      <td>-0.006843</td>\n",
       "      <td>-0.011679</td>\n",
       "      <td>-0.002678</td>\n",
       "      <td>-0.019202</td>\n",
       "      <td>0.001697</td>\n",
       "      <td>-0.031448</td>\n",
       "      <td>0.018681</td>\n",
       "    </tr>\n",
       "    <tr>\n",
       "      <td>ActualElapsedTime</td>\n",
       "      <td>NaN</td>\n",
       "      <td>-0.014230</td>\n",
       "      <td>-0.008110</td>\n",
       "      <td>0.010330</td>\n",
       "      <td>-0.324021</td>\n",
       "      <td>1.000000</td>\n",
       "      <td>0.979979</td>\n",
       "      <td>0.984401</td>\n",
       "      <td>0.089451</td>\n",
       "      <td>0.041946</td>\n",
       "      <td>...</td>\n",
       "      <td>0.002250</td>\n",
       "      <td>-0.085353</td>\n",
       "      <td>-0.017290</td>\n",
       "      <td>0.000991</td>\n",
       "      <td>-0.016923</td>\n",
       "      <td>0.009981</td>\n",
       "      <td>0.033067</td>\n",
       "      <td>0.000021</td>\n",
       "      <td>0.052552</td>\n",
       "      <td>0.005242</td>\n",
       "    </tr>\n",
       "    <tr>\n",
       "      <td>CRSElapsedTime</td>\n",
       "      <td>NaN</td>\n",
       "      <td>-0.005554</td>\n",
       "      <td>-0.007126</td>\n",
       "      <td>0.012959</td>\n",
       "      <td>-0.331305</td>\n",
       "      <td>0.979979</td>\n",
       "      <td>1.000000</td>\n",
       "      <td>0.988293</td>\n",
       "      <td>0.010358</td>\n",
       "      <td>0.033961</td>\n",
       "      <td>...</td>\n",
       "      <td>0.003952</td>\n",
       "      <td>-0.041558</td>\n",
       "      <td>-0.014360</td>\n",
       "      <td>0.001281</td>\n",
       "      <td>-0.011778</td>\n",
       "      <td>0.011823</td>\n",
       "      <td>0.034166</td>\n",
       "      <td>0.002003</td>\n",
       "      <td>0.057892</td>\n",
       "      <td>0.005095</td>\n",
       "    </tr>\n",
       "    <tr>\n",
       "      <td>AirTime</td>\n",
       "      <td>NaN</td>\n",
       "      <td>-0.012840</td>\n",
       "      <td>-0.007842</td>\n",
       "      <td>0.011541</td>\n",
       "      <td>-0.336906</td>\n",
       "      <td>0.984401</td>\n",
       "      <td>0.988293</td>\n",
       "      <td>1.000000</td>\n",
       "      <td>0.031206</td>\n",
       "      <td>0.025237</td>\n",
       "      <td>...</td>\n",
       "      <td>0.004590</td>\n",
       "      <td>-0.060884</td>\n",
       "      <td>-0.023179</td>\n",
       "      <td>0.001006</td>\n",
       "      <td>-0.020695</td>\n",
       "      <td>0.011579</td>\n",
       "      <td>0.026744</td>\n",
       "      <td>0.000545</td>\n",
       "      <td>0.045576</td>\n",
       "      <td>0.002669</td>\n",
       "    </tr>\n",
       "    <tr>\n",
       "      <td>ArrDelay</td>\n",
       "      <td>NaN</td>\n",
       "      <td>-0.041950</td>\n",
       "      <td>0.006479</td>\n",
       "      <td>0.002943</td>\n",
       "      <td>0.027777</td>\n",
       "      <td>0.089451</td>\n",
       "      <td>0.010358</td>\n",
       "      <td>0.031206</td>\n",
       "      <td>1.000000</td>\n",
       "      <td>0.933526</td>\n",
       "      <td>...</td>\n",
       "      <td>0.008990</td>\n",
       "      <td>0.509705</td>\n",
       "      <td>0.181565</td>\n",
       "      <td>-0.016460</td>\n",
       "      <td>0.119652</td>\n",
       "      <td>0.017466</td>\n",
       "      <td>0.062637</td>\n",
       "      <td>0.002412</td>\n",
       "      <td>0.115969</td>\n",
       "      <td>0.009064</td>\n",
       "    </tr>\n",
       "    <tr>\n",
       "      <td>DepDelay</td>\n",
       "      <td>NaN</td>\n",
       "      <td>-0.029353</td>\n",
       "      <td>0.008777</td>\n",
       "      <td>0.008467</td>\n",
       "      <td>0.021709</td>\n",
       "      <td>0.041946</td>\n",
       "      <td>0.033961</td>\n",
       "      <td>0.025237</td>\n",
       "      <td>0.933526</td>\n",
       "      <td>1.000000</td>\n",
       "      <td>...</td>\n",
       "      <td>0.010668</td>\n",
       "      <td>0.553806</td>\n",
       "      <td>0.203472</td>\n",
       "      <td>-0.017047</td>\n",
       "      <td>0.140416</td>\n",
       "      <td>0.022270</td>\n",
       "      <td>0.070181</td>\n",
       "      <td>0.006171</td>\n",
       "      <td>0.135523</td>\n",
       "      <td>0.009172</td>\n",
       "    </tr>\n",
       "    <tr>\n",
       "      <td>Distance</td>\n",
       "      <td>NaN</td>\n",
       "      <td>-0.006042</td>\n",
       "      <td>-0.007322</td>\n",
       "      <td>0.014413</td>\n",
       "      <td>-0.350234</td>\n",
       "      <td>0.965089</td>\n",
       "      <td>0.983477</td>\n",
       "      <td>0.983222</td>\n",
       "      <td>0.003952</td>\n",
       "      <td>0.024078</td>\n",
       "      <td>...</td>\n",
       "      <td>0.006950</td>\n",
       "      <td>-0.037445</td>\n",
       "      <td>-0.016628</td>\n",
       "      <td>-0.000288</td>\n",
       "      <td>-0.011692</td>\n",
       "      <td>0.014938</td>\n",
       "      <td>0.024635</td>\n",
       "      <td>0.002774</td>\n",
       "      <td>0.047310</td>\n",
       "      <td>0.005150</td>\n",
       "    </tr>\n",
       "    <tr>\n",
       "      <td>TaxiIn</td>\n",
       "      <td>NaN</td>\n",
       "      <td>0.007768</td>\n",
       "      <td>-0.002673</td>\n",
       "      <td>0.001024</td>\n",
       "      <td>-0.005973</td>\n",
       "      <td>0.154726</td>\n",
       "      <td>0.100990</td>\n",
       "      <td>0.082090</td>\n",
       "      <td>0.117087</td>\n",
       "      <td>0.020640</td>\n",
       "      <td>...</td>\n",
       "      <td>0.000476</td>\n",
       "      <td>-0.046780</td>\n",
       "      <td>-0.046532</td>\n",
       "      <td>-0.001050</td>\n",
       "      <td>-0.052721</td>\n",
       "      <td>-0.013244</td>\n",
       "      <td>0.001059</td>\n",
       "      <td>-0.009682</td>\n",
       "      <td>-0.012198</td>\n",
       "      <td>-0.002818</td>\n",
       "    </tr>\n",
       "    <tr>\n",
       "      <td>TaxiOut</td>\n",
       "      <td>NaN</td>\n",
       "      <td>-0.014258</td>\n",
       "      <td>-0.002556</td>\n",
       "      <td>-0.005460</td>\n",
       "      <td>0.002369</td>\n",
       "      <td>0.264840</td>\n",
       "      <td>0.140140</td>\n",
       "      <td>0.105578</td>\n",
       "      <td>0.319716</td>\n",
       "      <td>0.100504</td>\n",
       "      <td>...</td>\n",
       "      <td>-0.008832</td>\n",
       "      <td>-0.097731</td>\n",
       "      <td>0.051476</td>\n",
       "      <td>0.000707</td>\n",
       "      <td>0.041631</td>\n",
       "      <td>-0.001179</td>\n",
       "      <td>0.043886</td>\n",
       "      <td>0.001425</td>\n",
       "      <td>0.059801</td>\n",
       "      <td>0.018408</td>\n",
       "    </tr>\n",
       "    <tr>\n",
       "      <td>Cancelled</td>\n",
       "      <td>NaN</td>\n",
       "      <td>NaN</td>\n",
       "      <td>NaN</td>\n",
       "      <td>NaN</td>\n",
       "      <td>NaN</td>\n",
       "      <td>NaN</td>\n",
       "      <td>NaN</td>\n",
       "      <td>NaN</td>\n",
       "      <td>NaN</td>\n",
       "      <td>NaN</td>\n",
       "      <td>...</td>\n",
       "      <td>NaN</td>\n",
       "      <td>NaN</td>\n",
       "      <td>NaN</td>\n",
       "      <td>NaN</td>\n",
       "      <td>NaN</td>\n",
       "      <td>NaN</td>\n",
       "      <td>NaN</td>\n",
       "      <td>NaN</td>\n",
       "      <td>NaN</td>\n",
       "      <td>NaN</td>\n",
       "    </tr>\n",
       "    <tr>\n",
       "      <td>Diverted</td>\n",
       "      <td>NaN</td>\n",
       "      <td>0.025516</td>\n",
       "      <td>0.000208</td>\n",
       "      <td>-0.007381</td>\n",
       "      <td>-0.001448</td>\n",
       "      <td>NaN</td>\n",
       "      <td>0.011220</td>\n",
       "      <td>NaN</td>\n",
       "      <td>NaN</td>\n",
       "      <td>-0.002425</td>\n",
       "      <td>...</td>\n",
       "      <td>NaN</td>\n",
       "      <td>NaN</td>\n",
       "      <td>0.000768</td>\n",
       "      <td>-0.003711</td>\n",
       "      <td>0.000485</td>\n",
       "      <td>0.001421</td>\n",
       "      <td>-0.009086</td>\n",
       "      <td>0.004349</td>\n",
       "      <td>0.002327</td>\n",
       "      <td>0.006542</td>\n",
       "    </tr>\n",
       "    <tr>\n",
       "      <td>CarrierDelay</td>\n",
       "      <td>NaN</td>\n",
       "      <td>-0.008286</td>\n",
       "      <td>0.008789</td>\n",
       "      <td>0.015026</td>\n",
       "      <td>0.076525</td>\n",
       "      <td>-0.039599</td>\n",
       "      <td>-0.004071</td>\n",
       "      <td>-0.017756</td>\n",
       "      <td>0.501776</td>\n",
       "      <td>0.532696</td>\n",
       "      <td>...</td>\n",
       "      <td>-0.013359</td>\n",
       "      <td>-0.139685</td>\n",
       "      <td>-0.015873</td>\n",
       "      <td>-0.010054</td>\n",
       "      <td>-0.073943</td>\n",
       "      <td>-0.020738</td>\n",
       "      <td>-0.073006</td>\n",
       "      <td>0.008268</td>\n",
       "      <td>-0.067815</td>\n",
       "      <td>0.003963</td>\n",
       "    </tr>\n",
       "    <tr>\n",
       "      <td>WeatherDelay</td>\n",
       "      <td>NaN</td>\n",
       "      <td>0.017684</td>\n",
       "      <td>0.002709</td>\n",
       "      <td>-0.012198</td>\n",
       "      <td>0.060002</td>\n",
       "      <td>-0.011799</td>\n",
       "      <td>-0.018638</td>\n",
       "      <td>-0.024191</td>\n",
       "      <td>0.254704</td>\n",
       "      <td>0.238872</td>\n",
       "      <td>...</td>\n",
       "      <td>-0.006283</td>\n",
       "      <td>-0.039146</td>\n",
       "      <td>0.021972</td>\n",
       "      <td>-0.005184</td>\n",
       "      <td>0.007648</td>\n",
       "      <td>-0.006072</td>\n",
       "      <td>-0.043228</td>\n",
       "      <td>0.011214</td>\n",
       "      <td>0.015905</td>\n",
       "      <td>0.001877</td>\n",
       "    </tr>\n",
       "    <tr>\n",
       "      <td>NASDelay</td>\n",
       "      <td>NaN</td>\n",
       "      <td>0.000651</td>\n",
       "      <td>0.008594</td>\n",
       "      <td>0.000053</td>\n",
       "      <td>0.013833</td>\n",
       "      <td>0.183883</td>\n",
       "      <td>0.043392</td>\n",
       "      <td>0.061818</td>\n",
       "      <td>0.370920</td>\n",
       "      <td>0.171591</td>\n",
       "      <td>...</td>\n",
       "      <td>-0.012667</td>\n",
       "      <td>-0.142288</td>\n",
       "      <td>-0.004054</td>\n",
       "      <td>-0.001930</td>\n",
       "      <td>-0.039952</td>\n",
       "      <td>-0.010783</td>\n",
       "      <td>0.022341</td>\n",
       "      <td>0.004407</td>\n",
       "      <td>-0.004435</td>\n",
       "      <td>0.011456</td>\n",
       "    </tr>\n",
       "    <tr>\n",
       "      <td>SecurityDelay</td>\n",
       "      <td>NaN</td>\n",
       "      <td>0.008620</td>\n",
       "      <td>-0.007752</td>\n",
       "      <td>0.005031</td>\n",
       "      <td>0.009387</td>\n",
       "      <td>0.002250</td>\n",
       "      <td>0.003952</td>\n",
       "      <td>0.004590</td>\n",
       "      <td>0.008990</td>\n",
       "      <td>0.010668</td>\n",
       "      <td>...</td>\n",
       "      <td>1.000000</td>\n",
       "      <td>-0.013749</td>\n",
       "      <td>-0.007682</td>\n",
       "      <td>-0.001091</td>\n",
       "      <td>-0.012255</td>\n",
       "      <td>-0.011749</td>\n",
       "      <td>-0.002659</td>\n",
       "      <td>0.004993</td>\n",
       "      <td>-0.013556</td>\n",
       "      <td>-0.001348</td>\n",
       "    </tr>\n",
       "    <tr>\n",
       "      <td>LateAircraftDelay</td>\n",
       "      <td>NaN</td>\n",
       "      <td>0.017445</td>\n",
       "      <td>0.009641</td>\n",
       "      <td>0.007566</td>\n",
       "      <td>-0.022415</td>\n",
       "      <td>-0.085353</td>\n",
       "      <td>-0.041558</td>\n",
       "      <td>-0.060884</td>\n",
       "      <td>0.509705</td>\n",
       "      <td>0.553806</td>\n",
       "      <td>...</td>\n",
       "      <td>-0.013749</td>\n",
       "      <td>1.000000</td>\n",
       "      <td>0.205894</td>\n",
       "      <td>0.006873</td>\n",
       "      <td>0.194631</td>\n",
       "      <td>0.029836</td>\n",
       "      <td>-0.002913</td>\n",
       "      <td>0.011328</td>\n",
       "      <td>0.150937</td>\n",
       "      <td>0.013136</td>\n",
       "    </tr>\n",
       "    <tr>\n",
       "      <td>DepTime_Hour</td>\n",
       "      <td>NaN</td>\n",
       "      <td>-0.009363</td>\n",
       "      <td>0.001605</td>\n",
       "      <td>0.005990</td>\n",
       "      <td>-0.003909</td>\n",
       "      <td>-0.017290</td>\n",
       "      <td>-0.014360</td>\n",
       "      <td>-0.023179</td>\n",
       "      <td>0.181565</td>\n",
       "      <td>0.203472</td>\n",
       "      <td>...</td>\n",
       "      <td>-0.007682</td>\n",
       "      <td>0.205894</td>\n",
       "      <td>1.000000</td>\n",
       "      <td>-0.076974</td>\n",
       "      <td>0.959687</td>\n",
       "      <td>0.088738</td>\n",
       "      <td>0.706969</td>\n",
       "      <td>0.008245</td>\n",
       "      <td>0.788214</td>\n",
       "      <td>0.029065</td>\n",
       "    </tr>\n",
       "    <tr>\n",
       "      <td>DepTime_Minute</td>\n",
       "      <td>NaN</td>\n",
       "      <td>0.002433</td>\n",
       "      <td>0.006120</td>\n",
       "      <td>-0.000598</td>\n",
       "      <td>-0.006843</td>\n",
       "      <td>0.000991</td>\n",
       "      <td>0.001281</td>\n",
       "      <td>0.001006</td>\n",
       "      <td>-0.016460</td>\n",
       "      <td>-0.017047</td>\n",
       "      <td>...</td>\n",
       "      <td>-0.001091</td>\n",
       "      <td>0.006873</td>\n",
       "      <td>-0.076974</td>\n",
       "      <td>1.000000</td>\n",
       "      <td>-0.036793</td>\n",
       "      <td>0.255512</td>\n",
       "      <td>-0.019308</td>\n",
       "      <td>0.013563</td>\n",
       "      <td>-0.018822</td>\n",
       "      <td>0.003200</td>\n",
       "    </tr>\n",
       "    <tr>\n",
       "      <td>CRSDepTime_Hour</td>\n",
       "      <td>NaN</td>\n",
       "      <td>-0.007234</td>\n",
       "      <td>0.002224</td>\n",
       "      <td>0.005715</td>\n",
       "      <td>-0.011679</td>\n",
       "      <td>-0.016923</td>\n",
       "      <td>-0.011778</td>\n",
       "      <td>-0.020695</td>\n",
       "      <td>0.119652</td>\n",
       "      <td>0.140416</td>\n",
       "      <td>...</td>\n",
       "      <td>-0.012255</td>\n",
       "      <td>0.194631</td>\n",
       "      <td>0.959687</td>\n",
       "      <td>-0.036793</td>\n",
       "      <td>1.000000</td>\n",
       "      <td>0.047894</td>\n",
       "      <td>0.685465</td>\n",
       "      <td>0.008590</td>\n",
       "      <td>0.786167</td>\n",
       "      <td>0.028591</td>\n",
       "    </tr>\n",
       "    <tr>\n",
       "      <td>CRSDepTime_Minute</td>\n",
       "      <td>NaN</td>\n",
       "      <td>0.011447</td>\n",
       "      <td>-0.000978</td>\n",
       "      <td>-0.000763</td>\n",
       "      <td>-0.002678</td>\n",
       "      <td>0.009981</td>\n",
       "      <td>0.011823</td>\n",
       "      <td>0.011579</td>\n",
       "      <td>0.017466</td>\n",
       "      <td>0.022270</td>\n",
       "      <td>...</td>\n",
       "      <td>-0.011749</td>\n",
       "      <td>0.029836</td>\n",
       "      <td>0.088738</td>\n",
       "      <td>0.255512</td>\n",
       "      <td>0.047894</td>\n",
       "      <td>1.000000</td>\n",
       "      <td>0.079174</td>\n",
       "      <td>0.014155</td>\n",
       "      <td>0.083932</td>\n",
       "      <td>0.022515</td>\n",
       "    </tr>\n",
       "    <tr>\n",
       "      <td>ArrTime_Hour</td>\n",
       "      <td>NaN</td>\n",
       "      <td>-0.002887</td>\n",
       "      <td>-0.001435</td>\n",
       "      <td>0.005762</td>\n",
       "      <td>-0.019202</td>\n",
       "      <td>0.033067</td>\n",
       "      <td>0.034166</td>\n",
       "      <td>0.026744</td>\n",
       "      <td>0.062637</td>\n",
       "      <td>0.070181</td>\n",
       "      <td>...</td>\n",
       "      <td>-0.002659</td>\n",
       "      <td>-0.002913</td>\n",
       "      <td>0.706969</td>\n",
       "      <td>-0.019308</td>\n",
       "      <td>0.685465</td>\n",
       "      <td>0.079174</td>\n",
       "      <td>1.000000</td>\n",
       "      <td>-0.022279</td>\n",
       "      <td>0.852284</td>\n",
       "      <td>0.008675</td>\n",
       "    </tr>\n",
       "    <tr>\n",
       "      <td>ArrTime_Minute</td>\n",
       "      <td>NaN</td>\n",
       "      <td>-0.001491</td>\n",
       "      <td>-0.006125</td>\n",
       "      <td>-0.000901</td>\n",
       "      <td>0.001697</td>\n",
       "      <td>0.000021</td>\n",
       "      <td>0.002003</td>\n",
       "      <td>0.000545</td>\n",
       "      <td>0.002412</td>\n",
       "      <td>0.006171</td>\n",
       "      <td>...</td>\n",
       "      <td>0.004993</td>\n",
       "      <td>0.011328</td>\n",
       "      <td>0.008245</td>\n",
       "      <td>0.013563</td>\n",
       "      <td>0.008590</td>\n",
       "      <td>0.014155</td>\n",
       "      <td>-0.022279</td>\n",
       "      <td>1.000000</td>\n",
       "      <td>0.001164</td>\n",
       "      <td>0.177660</td>\n",
       "    </tr>\n",
       "    <tr>\n",
       "      <td>CRSArrTime_Hour</td>\n",
       "      <td>NaN</td>\n",
       "      <td>0.002728</td>\n",
       "      <td>0.000656</td>\n",
       "      <td>0.006145</td>\n",
       "      <td>-0.031448</td>\n",
       "      <td>0.052552</td>\n",
       "      <td>0.057892</td>\n",
       "      <td>0.045576</td>\n",
       "      <td>0.115969</td>\n",
       "      <td>0.135523</td>\n",
       "      <td>...</td>\n",
       "      <td>-0.013556</td>\n",
       "      <td>0.150937</td>\n",
       "      <td>0.788214</td>\n",
       "      <td>-0.018822</td>\n",
       "      <td>0.786167</td>\n",
       "      <td>0.083932</td>\n",
       "      <td>0.852284</td>\n",
       "      <td>0.001164</td>\n",
       "      <td>1.000000</td>\n",
       "      <td>-0.008457</td>\n",
       "    </tr>\n",
       "    <tr>\n",
       "      <td>CRSArrTime_Minute</td>\n",
       "      <td>NaN</td>\n",
       "      <td>-0.005542</td>\n",
       "      <td>0.000891</td>\n",
       "      <td>0.000784</td>\n",
       "      <td>0.018681</td>\n",
       "      <td>0.005242</td>\n",
       "      <td>0.005095</td>\n",
       "      <td>0.002669</td>\n",
       "      <td>0.009064</td>\n",
       "      <td>0.009172</td>\n",
       "      <td>...</td>\n",
       "      <td>-0.001348</td>\n",
       "      <td>0.013136</td>\n",
       "      <td>0.029065</td>\n",
       "      <td>0.003200</td>\n",
       "      <td>0.028591</td>\n",
       "      <td>0.022515</td>\n",
       "      <td>0.008675</td>\n",
       "      <td>0.177660</td>\n",
       "      <td>-0.008457</td>\n",
       "      <td>1.000000</td>\n",
       "    </tr>\n",
       "  </tbody>\n",
       "</table>\n",
       "<p>28 rows × 28 columns</p>\n",
       "</div>"
      ],
      "text/plain": [
       "                   Year     Month  DayofMonth  DayOfWeek  FlightNum  \\\n",
       "Year                NaN       NaN         NaN        NaN        NaN   \n",
       "Month               NaN  1.000000   -0.004919  -0.010830   0.006224   \n",
       "DayofMonth          NaN -0.004919    1.000000   0.015477   0.009766   \n",
       "DayOfWeek           NaN -0.010830    0.015477   1.000000  -0.005926   \n",
       "FlightNum           NaN  0.006224    0.009766  -0.005926   1.000000   \n",
       "ActualElapsedTime   NaN -0.014230   -0.008110   0.010330  -0.324021   \n",
       "CRSElapsedTime      NaN -0.005554   -0.007126   0.012959  -0.331305   \n",
       "AirTime             NaN -0.012840   -0.007842   0.011541  -0.336906   \n",
       "ArrDelay            NaN -0.041950    0.006479   0.002943   0.027777   \n",
       "DepDelay            NaN -0.029353    0.008777   0.008467   0.021709   \n",
       "Distance            NaN -0.006042   -0.007322   0.014413  -0.350234   \n",
       "TaxiIn              NaN  0.007768   -0.002673   0.001024  -0.005973   \n",
       "TaxiOut             NaN -0.014258   -0.002556  -0.005460   0.002369   \n",
       "Cancelled           NaN       NaN         NaN        NaN        NaN   \n",
       "Diverted            NaN  0.025516    0.000208  -0.007381  -0.001448   \n",
       "CarrierDelay        NaN -0.008286    0.008789   0.015026   0.076525   \n",
       "WeatherDelay        NaN  0.017684    0.002709  -0.012198   0.060002   \n",
       "NASDelay            NaN  0.000651    0.008594   0.000053   0.013833   \n",
       "SecurityDelay       NaN  0.008620   -0.007752   0.005031   0.009387   \n",
       "LateAircraftDelay   NaN  0.017445    0.009641   0.007566  -0.022415   \n",
       "DepTime_Hour        NaN -0.009363    0.001605   0.005990  -0.003909   \n",
       "DepTime_Minute      NaN  0.002433    0.006120  -0.000598  -0.006843   \n",
       "CRSDepTime_Hour     NaN -0.007234    0.002224   0.005715  -0.011679   \n",
       "CRSDepTime_Minute   NaN  0.011447   -0.000978  -0.000763  -0.002678   \n",
       "ArrTime_Hour        NaN -0.002887   -0.001435   0.005762  -0.019202   \n",
       "ArrTime_Minute      NaN -0.001491   -0.006125  -0.000901   0.001697   \n",
       "CRSArrTime_Hour     NaN  0.002728    0.000656   0.006145  -0.031448   \n",
       "CRSArrTime_Minute   NaN -0.005542    0.000891   0.000784   0.018681   \n",
       "\n",
       "                   ActualElapsedTime  CRSElapsedTime   AirTime  ArrDelay  \\\n",
       "Year                             NaN             NaN       NaN       NaN   \n",
       "Month                      -0.014230       -0.005554 -0.012840 -0.041950   \n",
       "DayofMonth                 -0.008110       -0.007126 -0.007842  0.006479   \n",
       "DayOfWeek                   0.010330        0.012959  0.011541  0.002943   \n",
       "FlightNum                  -0.324021       -0.331305 -0.336906  0.027777   \n",
       "ActualElapsedTime           1.000000        0.979979  0.984401  0.089451   \n",
       "CRSElapsedTime              0.979979        1.000000  0.988293  0.010358   \n",
       "AirTime                     0.984401        0.988293  1.000000  0.031206   \n",
       "ArrDelay                    0.089451        0.010358  0.031206  1.000000   \n",
       "DepDelay                    0.041946        0.033961  0.025237  0.933526   \n",
       "Distance                    0.965089        0.983477  0.983222  0.003952   \n",
       "TaxiIn                      0.154726        0.100990  0.082090  0.117087   \n",
       "TaxiOut                     0.264840        0.140140  0.105578  0.319716   \n",
       "Cancelled                        NaN             NaN       NaN       NaN   \n",
       "Diverted                         NaN        0.011220       NaN       NaN   \n",
       "CarrierDelay               -0.039599       -0.004071 -0.017756  0.501776   \n",
       "WeatherDelay               -0.011799       -0.018638 -0.024191  0.254704   \n",
       "NASDelay                    0.183883        0.043392  0.061818  0.370920   \n",
       "SecurityDelay               0.002250        0.003952  0.004590  0.008990   \n",
       "LateAircraftDelay          -0.085353       -0.041558 -0.060884  0.509705   \n",
       "DepTime_Hour               -0.017290       -0.014360 -0.023179  0.181565   \n",
       "DepTime_Minute              0.000991        0.001281  0.001006 -0.016460   \n",
       "CRSDepTime_Hour            -0.016923       -0.011778 -0.020695  0.119652   \n",
       "CRSDepTime_Minute           0.009981        0.011823  0.011579  0.017466   \n",
       "ArrTime_Hour                0.033067        0.034166  0.026744  0.062637   \n",
       "ArrTime_Minute              0.000021        0.002003  0.000545  0.002412   \n",
       "CRSArrTime_Hour             0.052552        0.057892  0.045576  0.115969   \n",
       "CRSArrTime_Minute           0.005242        0.005095  0.002669  0.009064   \n",
       "\n",
       "                   DepDelay  ...  SecurityDelay  LateAircraftDelay  \\\n",
       "Year                    NaN  ...            NaN                NaN   \n",
       "Month             -0.029353  ...       0.008620           0.017445   \n",
       "DayofMonth         0.008777  ...      -0.007752           0.009641   \n",
       "DayOfWeek          0.008467  ...       0.005031           0.007566   \n",
       "FlightNum          0.021709  ...       0.009387          -0.022415   \n",
       "ActualElapsedTime  0.041946  ...       0.002250          -0.085353   \n",
       "CRSElapsedTime     0.033961  ...       0.003952          -0.041558   \n",
       "AirTime            0.025237  ...       0.004590          -0.060884   \n",
       "ArrDelay           0.933526  ...       0.008990           0.509705   \n",
       "DepDelay           1.000000  ...       0.010668           0.553806   \n",
       "Distance           0.024078  ...       0.006950          -0.037445   \n",
       "TaxiIn             0.020640  ...       0.000476          -0.046780   \n",
       "TaxiOut            0.100504  ...      -0.008832          -0.097731   \n",
       "Cancelled               NaN  ...            NaN                NaN   \n",
       "Diverted          -0.002425  ...            NaN                NaN   \n",
       "CarrierDelay       0.532696  ...      -0.013359          -0.139685   \n",
       "WeatherDelay       0.238872  ...      -0.006283          -0.039146   \n",
       "NASDelay           0.171591  ...      -0.012667          -0.142288   \n",
       "SecurityDelay      0.010668  ...       1.000000          -0.013749   \n",
       "LateAircraftDelay  0.553806  ...      -0.013749           1.000000   \n",
       "DepTime_Hour       0.203472  ...      -0.007682           0.205894   \n",
       "DepTime_Minute    -0.017047  ...      -0.001091           0.006873   \n",
       "CRSDepTime_Hour    0.140416  ...      -0.012255           0.194631   \n",
       "CRSDepTime_Minute  0.022270  ...      -0.011749           0.029836   \n",
       "ArrTime_Hour       0.070181  ...      -0.002659          -0.002913   \n",
       "ArrTime_Minute     0.006171  ...       0.004993           0.011328   \n",
       "CRSArrTime_Hour    0.135523  ...      -0.013556           0.150937   \n",
       "CRSArrTime_Minute  0.009172  ...      -0.001348           0.013136   \n",
       "\n",
       "                   DepTime_Hour  DepTime_Minute  CRSDepTime_Hour  \\\n",
       "Year                        NaN             NaN              NaN   \n",
       "Month                 -0.009363        0.002433        -0.007234   \n",
       "DayofMonth             0.001605        0.006120         0.002224   \n",
       "DayOfWeek              0.005990       -0.000598         0.005715   \n",
       "FlightNum             -0.003909       -0.006843        -0.011679   \n",
       "ActualElapsedTime     -0.017290        0.000991        -0.016923   \n",
       "CRSElapsedTime        -0.014360        0.001281        -0.011778   \n",
       "AirTime               -0.023179        0.001006        -0.020695   \n",
       "ArrDelay               0.181565       -0.016460         0.119652   \n",
       "DepDelay               0.203472       -0.017047         0.140416   \n",
       "Distance              -0.016628       -0.000288        -0.011692   \n",
       "TaxiIn                -0.046532       -0.001050        -0.052721   \n",
       "TaxiOut                0.051476        0.000707         0.041631   \n",
       "Cancelled                   NaN             NaN              NaN   \n",
       "Diverted               0.000768       -0.003711         0.000485   \n",
       "CarrierDelay          -0.015873       -0.010054        -0.073943   \n",
       "WeatherDelay           0.021972       -0.005184         0.007648   \n",
       "NASDelay              -0.004054       -0.001930        -0.039952   \n",
       "SecurityDelay         -0.007682       -0.001091        -0.012255   \n",
       "LateAircraftDelay      0.205894        0.006873         0.194631   \n",
       "DepTime_Hour           1.000000       -0.076974         0.959687   \n",
       "DepTime_Minute        -0.076974        1.000000        -0.036793   \n",
       "CRSDepTime_Hour        0.959687       -0.036793         1.000000   \n",
       "CRSDepTime_Minute      0.088738        0.255512         0.047894   \n",
       "ArrTime_Hour           0.706969       -0.019308         0.685465   \n",
       "ArrTime_Minute         0.008245        0.013563         0.008590   \n",
       "CRSArrTime_Hour        0.788214       -0.018822         0.786167   \n",
       "CRSArrTime_Minute      0.029065        0.003200         0.028591   \n",
       "\n",
       "                   CRSDepTime_Minute  ArrTime_Hour  ArrTime_Minute  \\\n",
       "Year                             NaN           NaN             NaN   \n",
       "Month                       0.011447     -0.002887       -0.001491   \n",
       "DayofMonth                 -0.000978     -0.001435       -0.006125   \n",
       "DayOfWeek                  -0.000763      0.005762       -0.000901   \n",
       "FlightNum                  -0.002678     -0.019202        0.001697   \n",
       "ActualElapsedTime           0.009981      0.033067        0.000021   \n",
       "CRSElapsedTime              0.011823      0.034166        0.002003   \n",
       "AirTime                     0.011579      0.026744        0.000545   \n",
       "ArrDelay                    0.017466      0.062637        0.002412   \n",
       "DepDelay                    0.022270      0.070181        0.006171   \n",
       "Distance                    0.014938      0.024635        0.002774   \n",
       "TaxiIn                     -0.013244      0.001059       -0.009682   \n",
       "TaxiOut                    -0.001179      0.043886        0.001425   \n",
       "Cancelled                        NaN           NaN             NaN   \n",
       "Diverted                    0.001421     -0.009086        0.004349   \n",
       "CarrierDelay               -0.020738     -0.073006        0.008268   \n",
       "WeatherDelay               -0.006072     -0.043228        0.011214   \n",
       "NASDelay                   -0.010783      0.022341        0.004407   \n",
       "SecurityDelay              -0.011749     -0.002659        0.004993   \n",
       "LateAircraftDelay           0.029836     -0.002913        0.011328   \n",
       "DepTime_Hour                0.088738      0.706969        0.008245   \n",
       "DepTime_Minute              0.255512     -0.019308        0.013563   \n",
       "CRSDepTime_Hour             0.047894      0.685465        0.008590   \n",
       "CRSDepTime_Minute           1.000000      0.079174        0.014155   \n",
       "ArrTime_Hour                0.079174      1.000000       -0.022279   \n",
       "ArrTime_Minute              0.014155     -0.022279        1.000000   \n",
       "CRSArrTime_Hour             0.083932      0.852284        0.001164   \n",
       "CRSArrTime_Minute           0.022515      0.008675        0.177660   \n",
       "\n",
       "                   CRSArrTime_Hour  CRSArrTime_Minute  \n",
       "Year                           NaN                NaN  \n",
       "Month                     0.002728          -0.005542  \n",
       "DayofMonth                0.000656           0.000891  \n",
       "DayOfWeek                 0.006145           0.000784  \n",
       "FlightNum                -0.031448           0.018681  \n",
       "ActualElapsedTime         0.052552           0.005242  \n",
       "CRSElapsedTime            0.057892           0.005095  \n",
       "AirTime                   0.045576           0.002669  \n",
       "ArrDelay                  0.115969           0.009064  \n",
       "DepDelay                  0.135523           0.009172  \n",
       "Distance                  0.047310           0.005150  \n",
       "TaxiIn                   -0.012198          -0.002818  \n",
       "TaxiOut                   0.059801           0.018408  \n",
       "Cancelled                      NaN                NaN  \n",
       "Diverted                  0.002327           0.006542  \n",
       "CarrierDelay             -0.067815           0.003963  \n",
       "WeatherDelay              0.015905           0.001877  \n",
       "NASDelay                 -0.004435           0.011456  \n",
       "SecurityDelay            -0.013556          -0.001348  \n",
       "LateAircraftDelay         0.150937           0.013136  \n",
       "DepTime_Hour              0.788214           0.029065  \n",
       "DepTime_Minute           -0.018822           0.003200  \n",
       "CRSDepTime_Hour           0.786167           0.028591  \n",
       "CRSDepTime_Minute         0.083932           0.022515  \n",
       "ArrTime_Hour              0.852284           0.008675  \n",
       "ArrTime_Minute            0.001164           0.177660  \n",
       "CRSArrTime_Hour           1.000000          -0.008457  \n",
       "CRSArrTime_Minute        -0.008457           1.000000  \n",
       "\n",
       "[28 rows x 28 columns]"
      ]
     },
     "execution_count": 9,
     "metadata": {},
     "output_type": "execute_result"
    }
   ],
   "source": [
    "df.corr()"
   ]
  },
  {
   "cell_type": "code",
   "execution_count": 10,
   "metadata": {},
   "outputs": [],
   "source": [
    "df = df.drop(['CarrierDelay', 'WeatherDelay','NASDelay', 'SecurityDelay','LateAircraftDelay'], axis=1)"
   ]
  },
  {
   "cell_type": "code",
   "execution_count": 11,
   "metadata": {},
   "outputs": [],
   "source": [
    "df = df.drop(['TailNum', 'Year', 'ArrDelay', 'Cancelled', 'CancellationCode',\\\n",
    "              'DepDelay', 'ActualElapsedTime', 'CRSElapsedTime', 'Distance'], axis=1)"
   ]
  },
  {
   "cell_type": "code",
   "execution_count": 12,
   "metadata": {},
   "outputs": [],
   "source": [
    "df_for_scale = df"
   ]
  },
  {
   "cell_type": "markdown",
   "metadata": {},
   "source": [
    "Избавляемся от упомянутых в задании признаков, а так же от ArrDelay за его чрезмерную корреляцию с целевым признаком,\n",
    "от самого целевого признака, а так же от Cancelled и Cancellation Code за плохую выборку в данных \n",
    "(Cancelled практически полностью состоит из нулей, а Cancellation Code просто имеет мало значений)"
   ]
  },
  {
   "cell_type": "code",
   "execution_count": 13,
   "metadata": {},
   "outputs": [],
   "source": [
    "#-------------------------------------------------------------------------------------------------"
   ]
  },
  {
   "cell_type": "markdown",
   "metadata": {},
   "source": [
    "**15. (1 балл)** Приведем данные к виду, пригодному для обучения линейных моделей. Для этого вещественные признаки надо отмасштабировать, а категориальные — привести к числовому виду. Также надо устранить пропуски в данных."
   ]
  },
  {
   "cell_type": "markdown",
   "metadata": {},
   "source": [
    "В первую очередь поймем, зачем необходимо применять масштабирование. Следующие ячейки с кодом построят гистограммы для 3 вещественных признаков выборки."
   ]
  },
  {
   "cell_type": "code",
   "execution_count": 14,
   "metadata": {
    "scrolled": true
   },
   "outputs": [
    {
     "data": {
      "image/png": "[encoded data removed]",
      "text/plain": [
       "<Figure size 432x288 with 1 Axes>"
      ]
     },
     "metadata": {},
     "output_type": "display_data"
    }
   ],
   "source": [
    "df_for_scale['DepTime_Hour'].hist(bins=20);"
   ]
  },
  {
   "cell_type": "code",
   "execution_count": 15,
   "metadata": {},
   "outputs": [
    {
     "data": {
      "image/png": "[encoded data removed]",
      "text/plain": [
       "<Figure size 432x288 with 1 Axes>"
      ]
     },
     "metadata": {},
     "output_type": "display_data"
    }
   ],
   "source": [
    "df_for_scale['TaxiIn'].hist(bins=20);"
   ]
  },
  {
   "cell_type": "code",
   "execution_count": 16,
   "metadata": {},
   "outputs": [
    {
     "data": {
      "image/png": "[encoded data removed]",
      "text/plain": [
       "<Figure size 432x288 with 1 Axes>"
      ]
     },
     "metadata": {},
     "output_type": "display_data"
    }
   ],
   "source": [
    "df_for_scale['FlightNum'].hist(bins=20);"
   ]
  },
  {
   "cell_type": "markdown",
   "metadata": {},
   "source": [
    "Какую проблему вы наблюдаете на этих графиках? Как масштабирование поможет её исправить?"
   ]
  },
  {
   "cell_type": "markdown",
   "metadata": {},
   "source": [
    "Вывод: Числа сильно разнятся по отношению к друг другу, поэтому при подсчете и умножении наших значений на коэффициенты мы будем получать \"не пропорциональные\" данные. Чтобы избежать данную проблему, мы масштабируем количественные признаки по отношению друг к другу."
   ]
  },
  {
   "cell_type": "code",
   "execution_count": 17,
   "metadata": {},
   "outputs": [],
   "source": [
    "#-------------------------------------------------------------------------------------------------"
   ]
  },
  {
   "cell_type": "markdown",
   "metadata": {},
   "source": [
    "Некоторые из признаков в нашем датасете являются категориальными. Типичным подходом к работе с ними является бинарное, или [one-hot-кодирование](https://en.wikipedia.org/wiki/One-hot).\n",
    "\n",
    "Реализуйте функцию transform_data, которая принимает на вход DataFrame с признаками и выполняет следующие шаги:\n",
    "1. Замена пропущенных значений на нули для вещественных признаков и на строки 'nan' для категориальных.\n",
    "2. Масштабирование вещественных признаков с помощью [StandardScaler](http://scikit-learn.org/stable/modules/generated/sklearn.preprocessing.StandardScaler.html).\n",
    "3. One-hot-кодирование категориальных признаков с помощью [DictVectorizer](http://scikit-learn.org/stable/modules/generated/sklearn.feature_extraction.DictVectorizer.html) или функции [pd.get_dummies](http://pandas.pydata.org/pandas-docs/stable/generated/pandas.get_dummies.html).\n",
    "\n",
    "Метод должен возвращать преобразованный DataFrame, который должна состоять из масштабированных вещественных признаков и закодированных категориальных (исходные признаки должны быть исключены из выборки)."
   ]
  },
  {
   "cell_type": "code",
   "execution_count": 18,
   "metadata": {},
   "outputs": [
    {
     "name": "stdout",
     "output_type": "stream",
     "text": [
      "<class 'pandas.core.frame.DataFrame'>\n",
      "Int64Index: 63264 entries, 0 to 69999\n",
      "Data columns (total 19 columns):\n",
      "Month                63264 non-null int64\n",
      "DayofMonth           63264 non-null int64\n",
      "DayOfWeek            63264 non-null int64\n",
      "UniqueCarrier        63264 non-null object\n",
      "FlightNum            63264 non-null int64\n",
      "AirTime              63240 non-null float64\n",
      "Origin               63264 non-null object\n",
      "Dest                 63264 non-null object\n",
      "TaxiIn               63264 non-null float64\n",
      "TaxiOut              63264 non-null float64\n",
      "Diverted             63264 non-null int64\n",
      "DepTime_Hour         63264 non-null int64\n",
      "DepTime_Minute       63264 non-null int64\n",
      "CRSDepTime_Hour      63264 non-null int64\n",
      "CRSDepTime_Minute    63264 non-null int64\n",
      "ArrTime_Hour         63264 non-null int64\n",
      "ArrTime_Minute       63264 non-null int64\n",
      "CRSArrTime_Hour      63264 non-null int64\n",
      "CRSArrTime_Minute    63264 non-null int64\n",
      "dtypes: float64(3), int64(13), object(3)\n",
      "memory usage: 9.7+ MB\n"
     ]
    }
   ],
   "source": [
    "df.info()"
   ]
  },
  {
   "cell_type": "code",
   "execution_count": 19,
   "metadata": {},
   "outputs": [],
   "source": [
    "from sklearn.preprocessing import StandardScaler\n",
    "ss = StandardScaler()"
   ]
  },
  {
   "cell_type": "code",
   "execution_count": 20,
   "metadata": {},
   "outputs": [],
   "source": [
    "def transform_data(data):\n",
    "    '''Заполним пропущенные значения нулями'''\n",
    "    for i in df.columns:\n",
    "        if df[i].dtype == 'object':\n",
    "            df[i] = df[i].fillna('nan')\n",
    "        else:\n",
    "            df[i] = df[i].fillna(0)\n",
    "    \n",
    "    '''Сформируем списки с количественными и категориальными признаками'''\n",
    "    lst_col = []\n",
    "    lst_category = []\n",
    "    for i in df_for_scale:\n",
    "        if df_for_scale[i].nunique() < 3:\n",
    "            lst_category.append(i)\n",
    "            continue\n",
    "        if df_for_scale[i].dtypes == 'O':\n",
    "            lst_category.append(i)\n",
    "            continue\n",
    "        else:\n",
    "            lst_col.append(i)\n",
    "            continue\n",
    "    '''Отнормируем количественные признаки'''\n",
    "    ss.fit(df_for_scale[lst_col])\n",
    "    X_col = ss.transform(df_for_scale[lst_col])\n",
    "    df_col = pd.DataFrame(X_col, columns=lst_col)\n",
    "    \n",
    "    '''Отнормируем по категориальным признакам'''\n",
    "    df_cat = pd.get_dummies(df_for_scale[lst_category])\n",
    "    \n",
    "    '''Проведем слияние наших получившихся значений'''\n",
    "    df_scaled = pd.merge(df_col, df_cat, on=df_col.index, how='left')\n",
    "    df_scaled.drop(['key_0'], axis=1, inplace=True)\n",
    "    return df_scaled"
   ]
  },
  {
   "cell_type": "markdown",
   "metadata": {},
   "source": [
    "Примените функцию transform_data к данным. Сколько признаков получилось после преобразования?"
   ]
  },
  {
   "cell_type": "code",
   "execution_count": 21,
   "metadata": {},
   "outputs": [],
   "source": [
    "df_scaled = transform_data(df)"
   ]
  },
  {
   "cell_type": "code",
   "execution_count": 22,
   "metadata": {},
   "outputs": [
    {
     "name": "stdout",
     "output_type": "stream",
     "text": [
      "<class 'pandas.core.frame.DataFrame'>\n",
      "Int64Index: 63264 entries, 0 to 63263\n",
      "Columns: 630 entries, Month to Dest_YUM\n",
      "dtypes: float64(15), int64(1), uint8(614)\n",
      "memory usage: 45.2 MB\n"
     ]
    }
   ],
   "source": [
    "df_scaled.info()"
   ]
  },
  {
   "cell_type": "raw",
   "metadata": {},
   "source": [
    "После преобразования мы получили 630 признаков."
   ]
  },
  {
   "cell_type": "code",
   "execution_count": 23,
   "metadata": {},
   "outputs": [],
   "source": [
    "#-------------------------------------------------------------------------------------------------"
   ]
  },
  {
   "cell_type": "markdown",
   "metadata": {},
   "source": [
    "**16. (0.5 балла)** Разбейте выборку и вектор целевой переменной на обучение и контроль в отношении 70/30 (для этого можно использовать, например, функцию [train_test_split](http://scikit-learn.org/stable/modules/generated/sklearn.cross_validation.train_test_split.html)). "
   ]
  },
  {
   "cell_type": "code",
   "execution_count": 24,
   "metadata": {},
   "outputs": [],
   "source": [
    "from sklearn.model_selection import train_test_split\n",
    "\n",
    "X = df_scaled\n",
    "X_train, X_test, y_train, y_test = train_test_split(X, y, test_size=0.3,random_state=0)"
   ]
  },
  {
   "cell_type": "markdown",
   "metadata": {},
   "source": [
    "### Scikit-learn\n",
    "\n",
    "<img src = \"https://pp.vk.me/c4534/u35727827/93547647/x_d31c4463.jpg\">\n",
    "Теперь, когда мы привели данные к пригодному виду, попробуем решить задачу при помощи метода наименьших квадратов. Напомним, что данный метод заключается в оптимизации функционала $MSE$:\n",
    "\n",
    "$$MSE(X, y) = \\frac{1}{l} \\sum_{i=1}^l (<w, x_i> - y_i)^2 \\to \\min_{w},$$\n",
    "\n",
    "где $\\{ (x_i, y_i ) \\}_{i=1}^l$ — обучающая выборка, состоящая из $l$ пар объект-ответ.\n",
    "\n",
    "Заметим, что решение данной задачи уже реализовано в модуле sklearn в виде класса [LinearRegression](http://scikit-learn.org/stable/modules/generated/sklearn.linear_model.LinearRegression.html#sklearn.linear_model.LinearRegression).\n",
    "\n",
    "**17. (0.5 балла)** Обучите линейную регрессию на 1000 объектах из обучающей выборки и выведите значения $MSE$ и $R^2$ на этой подвыборке и контрольной выборке (итого 4 различных числа). Проинтерпретируйте полученный результат — насколько качественные прогнозы строит полученная модель? Какие проблемы наблюдаются в модели?\n",
    "\n",
    "**Подсказка**: изучите значения полученных коэффициентов $w$, сохраненных в атрибуте coef_ объекта LinearRegression."
   ]
  },
  {
   "cell_type": "code",
   "execution_count": 25,
   "metadata": {},
   "outputs": [
    {
     "name": "stdout",
     "output_type": "stream",
     "text": [
      "MSE_train:  2.0927080769576967e+24 MSE_test:  2.209310003086497e+24\n",
      "R^2_train:  -1.5642996374083084e+21 R^2_test:  -1.8587983917839389e+21\n"
     ]
    }
   ],
   "source": [
    "from sklearn.metrics import mean_squared_error \n",
    "from sklearn.linear_model import LinearRegression\n",
    "\n",
    "lr = LinearRegression().fit(X_train[:1000], y_train[:1000])\n",
    "\n",
    "train_predict = lr.predict(X_train)\n",
    "test_predict = lr.predict(X_test)\n",
    "\n",
    "squared_error_train_1000 = mean_squared_error(y_train, train_predict)\n",
    "squared_error_test_1000  = mean_squared_error(y_test, test_predict)\n",
    "\n",
    "SCORE_train = lr.score(X_train, y_train)\n",
    "SCORE_test  = lr.score(X_test, y_test)\n",
    "\n",
    "print('MSE_train: ', squared_error_train_1000, 'MSE_test: ', squared_error_test_1000) # MSE_train/MSE_test\n",
    "print('R^2_train: ', SCORE_train, 'R^2_test: ', SCORE_test) # Рассчитали R^2 train/test"
   ]
  },
  {
   "cell_type": "code",
   "execution_count": 26,
   "metadata": {},
   "outputs": [
    {
     "name": "stdout",
     "output_type": "stream",
     "text": [
      "-8608067747970.894 7651198638940.371\n"
     ]
    }
   ],
   "source": [
    "print(lr.coef_.min(), lr.coef_.max())"
   ]
  },
  {
   "cell_type": "markdown",
   "metadata": {},
   "source": [
    "Вывод: Значения весов получаются просто огромными, это мы можем наблюдать в ячейке с минимальным и максимальным значениями наших подсчитанных коэффициентов. Такие значения очевидным образом замедляют расчет модели и конечном итоге усугубляют ситуацию с переобучением. Значение R^2 у нас и на тренировочном датасете, и на тестовом датасете получились отрицательными. Отрицательное значение R^2 говорит о том, что наша модель прогнозирует данные хуже, чем простое усреднение, что является плохим знаком для модели предсказывания."
   ]
  },
  {
   "cell_type": "code",
   "execution_count": 27,
   "metadata": {},
   "outputs": [],
   "source": [
    "#-------------------------------------------------------------------------------------------------"
   ]
  },
  {
   "cell_type": "markdown",
   "metadata": {
    "collapsed": true
   },
   "source": [
    "Для решения описанных вами в предыдущем пункте проблем используем L1- или L2-регуляризацию, тем самым получив Lasso и Ridge регрессии соответственно и изменив оптимизационную задачу одним из следующих образов:\n",
    "$$MSE_{L1}(X, y) = \\frac{1}{l} \\sum_{i=1}^l (<w, x_i> - y_i)^2 + \\alpha ||w||_1 \\to \\min_{w},$$\n",
    "$$MSE_{L2}(X, y) = \\frac{1}{l} \\sum_{i=1}^l (<w, x_i> - y_i)^2 + \\alpha ||w||_2^2 \\to \\min_{w},$$\n",
    "\n",
    "где $\\alpha$ — коэффициент регуляризации. Один из способов его подбора заключается в переборе некоторого количества значений и оценке качества на кросс-валидации для каждого из них, после чего выбирается значение, для которого было получено наилучшее качество.\n",
    "\n",
    "**18. (0.5 балла)** Обучите линейные регрессии с L1- и L2-регуляризатором, подобрав лучшее значение параметра регуляризации из списка alpha_grid при помощи кросс-валидации c 5 фолдами на тех же 1000 объектах, что и в п.17. Выведите значения $MSE$ и $R^2$ на обучающей и контрольной выборках. Удалось ли решить указанные вами ранее проблемы?\n",
    "\n",
    "Для выполнения данного задания вам могут понадобиться реализованные в библиотеке объекты [LassoCV](http://scikit-learn.org/stable/modules/generated/sklearn.linear_model.LassoCV.html), [RidgeCV](http://scikit-learn.org/stable/modules/generated/sklearn.linear_model.RidgeCV.html) и [KFold](http://scikit-learn.org/stable/modules/generated/sklearn.cross_validation.KFold.html).\n"
   ]
  },
  {
   "cell_type": "code",
   "execution_count": 28,
   "metadata": {},
   "outputs": [],
   "source": [
    "from sklearn.linear_model import LassoCV, RidgeCV\n",
    "from sklearn.model_selection import KFold\n",
    "kfold = KFold(5)"
   ]
  },
  {
   "cell_type": "code",
   "execution_count": 29,
   "metadata": {},
   "outputs": [
    {
     "name": "stdout",
     "output_type": "stream",
     "text": [
      "MAX_coef:  177.93380686699618\n",
      "MSE_train:  1425.421060720819 MSE_test:  1225.8315299592225\n",
      "R^2_train:  -0.06550248120670776 R^2_test:  -0.03135081690798791\n"
     ]
    }
   ],
   "source": [
    "rg = RidgeCV(alphas=[0.01, 0.1, 1], cv=kfold).fit(X_train.head(1000), y_train.head(1000))\n",
    "rg_y_pred_train = rg.predict(X_train)\n",
    "rg_y_pred_test = rg.predict(X_test)\n",
    "rg_squared_error_train = mean_squared_error(y_train, rg_y_pred_train)\n",
    "rg_squared_error_test = mean_squared_error(y_test, rg_y_pred_test)\n",
    "\n",
    "print('MAX_coef: ', rg.coef_.max())\n",
    "print('MSE_train: ', rg_squared_error_train, 'MSE_test: ', rg_squared_error_test) # MSE_train/MSE_test\n",
    "print('R^2_train: ', rg.score(X_train, y_train), 'R^2_test: ', \n",
    "      rg.score(X_test, y_test)) # Рассчитали R^2 train/test"
   ]
  },
  {
   "cell_type": "code",
   "execution_count": 30,
   "metadata": {},
   "outputs": [
    {
     "name": "stdout",
     "output_type": "stream",
     "text": [
      "MAX_coef:  18.62797654849677\n",
      "MSE_train:  1237.6148589853044 MSE_test:  1080.2022953775636\n",
      "R^2_train:  0.0748826859901387 R^2_test:  0.09117403775656396\n"
     ]
    }
   ],
   "source": [
    "ls = LassoCV(alphas=[0.01, 0.1, 1], cv=kfold).fit(X_train.head(1000), y_train.head(1000))\n",
    "ls_y_pred_train = ls.predict(X_train)\n",
    "ls_y_pred_test = ls.predict(X_test)\n",
    "ls_squared_error_train = mean_squared_error(y_train, ls_y_pred_train)\n",
    "ls_squared_error_test = mean_squared_error(y_test, ls_y_pred_test)\n",
    "\n",
    "print('MAX_coef: ', ls.coef_.max())\n",
    "print('MSE_train: ', ls_squared_error_train, 'MSE_test: ', ls_squared_error_test) # MSE_train/MSE_test\n",
    "print('R^2_train: ', ls.score(X_train, y_train), 'R^2_test: ', \n",
    "      ls.score(X_test, y_test)) # Рассчитали R^2 train/test"
   ]
  },
  {
   "cell_type": "code",
   "execution_count": 31,
   "metadata": {},
   "outputs": [
    {
     "data": {
      "text/plain": [
       "array([ 2.02092786e-03,  0.00000000e+00, -5.46843895e-01,  9.32117531e-01,\n",
       "        0.00000000e+00, -0.00000000e+00,  2.22305516e+00,  1.86279765e+01,\n",
       "        1.32048638e+00, -9.83129789e+00, -8.45238241e-01, -2.41937590e+00,\n",
       "       -0.00000000e+00,  0.00000000e+00,  0.00000000e+00])"
      ]
     },
     "execution_count": 31,
     "metadata": {},
     "output_type": "execute_result"
    }
   ],
   "source": [
    "ls.coef_[:15]"
   ]
  },
  {
   "cell_type": "markdown",
   "metadata": {},
   "source": [
    "Вывод: По сути говоря, регуляризация это такая модификация алгоритма обучения (в нашем случае MSE), которая сможет уменьшить ошибку обобщения не ухудшив при этом ошибку обучения или даже улучшить. То есть когда наша модель слишком хорошо обобщает (читай облизывает) наши данные, то происходит так называемое \"переобучение\" и обучившись на определенном наборе, модель не сможет предсказывать данные так же хорошо и на другом наборе. И в основном это происходит из-за очень больших или даже огромных весов (коэффициентов модели). На данном этапе, обучив модель с регуляцией мы смогли очень хорошо ограничить наши веса, что улучшило нашу MSE ошибку и R^2, хотя они до сих пор далеки от идеала."
   ]
  },
  {
   "cell_type": "code",
   "execution_count": 32,
   "metadata": {},
   "outputs": [],
   "source": [
    "#-------------------------------------------------------------------------------------------------"
   ]
  },
  {
   "cell_type": "markdown",
   "metadata": {},
   "source": [
    "### Градиентный спуск\n",
    "\n",
    "В предыдущем разделе мы использовали существующие реализации методов обучения линейной регрессии с регуляризацией и без. Тем не менее, подобные реализации, как правило, имеются лишь для ограниченного набора стандартных методов. В частности, при выходе функционала качества за пределы стандартного множества необходимо самостоятельно реализовывать составляющие процесса решения оптимизационной задачи. Именно этому и посвящен данный раздел задания.\n",
    "\n",
    "Пусть необходимо минимизировать следующий функционал (Mean Square Percentage Error — модифицированный [RMSPE](https://www.kaggle.com/c/rossmann-store-sales/details/evaluation)):\n",
    "$$MSPE(\\{x_i, y_i\\}_{i=1}^l, \\, w) = \\frac{1}{l}\\sum_{i=1}^l \\left( \\frac{y_i - \\langle w, x_i \\rangle }{y_i} \\right)^2,$$\n",
    "\n",
    "где $\\{x_i, y_i\\}_{i=1}^l$ — обучающая выборка, $w$ — вектор весов линейной модели. Будем также рассматривать функционал $MSPE$ с L2-регуляризацией:\n",
    "\n",
    "$$MSPE(\\{x_i, y_i\\}_{i=1}^l, \\, w) = \\frac{1}{l}\\sum_{i=1}^l \\left( \\frac{y_i - \\langle w, x_i \\rangle }{y_i} \\right)^2 + ||w||_2^2.$$\n",
    "\n",
    "**19. (0 баллов)** Добавьте к объектам обеих выборок из п. 16 единичный признак."
   ]
  },
  {
   "cell_type": "code",
   "execution_count": 34,
   "metadata": {},
   "outputs": [
    {
     "name": "stderr",
     "output_type": "stream",
     "text": [
      "/Users/administrator/anaconda3/lib/python3.7/site-packages/ipykernel_launcher.py:1: SettingWithCopyWarning: \n",
      "A value is trying to be set on a copy of a slice from a DataFrame.\n",
      "Try using .loc[row_indexer,col_indexer] = value instead\n",
      "\n",
      "See the caveats in the documentation: http://pandas.pydata.org/pandas-docs/stable/user_guide/indexing.html#returning-a-view-versus-a-copy\n",
      "  \"\"\"Entry point for launching an IPython kernel.\n",
      "/Users/administrator/anaconda3/lib/python3.7/site-packages/ipykernel_launcher.py:2: SettingWithCopyWarning: \n",
      "A value is trying to be set on a copy of a slice from a DataFrame.\n",
      "Try using .loc[row_indexer,col_indexer] = value instead\n",
      "\n",
      "See the caveats in the documentation: http://pandas.pydata.org/pandas-docs/stable/user_guide/indexing.html#returning-a-view-versus-a-copy\n",
      "  \n"
     ]
    }
   ],
   "source": [
    "X_train['ones'] = 1\n",
    "X_test['ones'] = 1"
   ]
  },
  {
   "cell_type": "code",
   "execution_count": 35,
   "metadata": {},
   "outputs": [],
   "source": [
    "from sklearn.metrics import mean_squared_error\n",
    "np.random.seed(1)"
   ]
  },
  {
   "cell_type": "code",
   "execution_count": 42,
   "metadata": {},
   "outputs": [],
   "source": [
    "from sklearn.metrics import r2_score\n",
    "from sklearn.metrics import mean_squared_error"
   ]
  },
  {
   "cell_type": "markdown",
   "metadata": {},
   "source": [
    "**20. (1 балл)** Реализуйте функции, которые вычисляют:\n",
    " * прогнозы линейной модели;\n",
    " * функционал $MSPE$ и его градиент;\n",
    " * регуляризованный $MSPE$ и его градиент."
   ]
  },
  {
   "cell_type": "code",
   "execution_count": 36,
   "metadata": {},
   "outputs": [],
   "source": [
    "# возвращает вектор прогнозов линейной модели с вектором весов w для выборки X\n",
    "def make_pred(X, w):\n",
    "    '''FOR PREDICT we use: X * w'''\n",
    "    y_pred = np.dot(X, w)\n",
    "    return y_pred"
   ]
  },
  {
   "cell_type": "code",
   "execution_count": 37,
   "metadata": {},
   "outputs": [],
   "source": [
    "def get_func(w, X, y):\n",
    "    '''Calculate MSPE: (y - y_pr)/y squared'''\n",
    "    delta = (y - make_pred(X, w))/y\n",
    "    delta_2 = delta**2\n",
    "    average_delta = np.mean(delta_2)\n",
    "    return average_delta"
   ]
  },
  {
   "cell_type": "code",
   "execution_count": 38,
   "metadata": {},
   "outputs": [],
   "source": [
    "def get_grad(w, X, y):\n",
    "    '''Calc grad for MSPE: 2*X*delta'''\n",
    "    delta = (y-make_pred(X, w))/y\n",
    "    weight_delta = np.dot(X.T, delta/y)\n",
    "    return -2/y.shape[0] * weight_delta"
   ]
  },
  {
   "cell_type": "code",
   "execution_count": 39,
   "metadata": {},
   "outputs": [],
   "source": [
    "# возвращает значение регуляризованного функционала MSPE для выборки (X, y) и вектора весов w\n",
    "def get_reg_func(w, X, y, alpha = 0.01):\n",
    "    '''Calc MSPE with L2 regularization'''\n",
    "    delta = (y - make_pred(X, w))/y\n",
    "    delta_2 = delta**2\n",
    "    average_delta = np.mean(delta_2)\n",
    "    return average_delta + ((np.dot(w.T, w)) * (alpha/2))"
   ]
  },
  {
   "cell_type": "code",
   "execution_count": 40,
   "metadata": {},
   "outputs": [],
   "source": [
    "# возвращает градиент регуляризованного функционала MSPE для выборки (X, y) и вектора весов w\n",
    "def get_reg_grad(w, X, y):\n",
    "    '''Calc MSPE grad with L2 reg'''\n",
    "    delta = (y-make_pred(X, w))/y\n",
    "    weight_delta = np.dot(X.T, delta/y)\n",
    "    return -2/y.shape[0] * weight_delta + (2 * w)"
   ]
  },
  {
   "cell_type": "markdown",
   "metadata": {},
   "source": [
    "**21. (1 балл)** Реализуйте метод градиентного спуска для описанных функционалов ($MSPE$ и его регуляризованный вариант). Функция должна принимать следующие параметры:\n",
    " - X — матрица \"объект-признак\";\n",
    " - y — вектор целевой переменной;\n",
    " - w0 — начальное значение вектора весов;\n",
    " - step_size — значение темпа обучения;\n",
    " - max_iter — максимальное число итераций;\n",
    " - eps — значение, используемое в критерии останова;\n",
    " - is_reg — бинарный параметр, принимает значение True в случае наличия регуляризации функционала, False — в противном случае.\n",
    " \n",
    "Процесс должен быть остановлен, если выполнено хотя бы одно из следующих условий:\n",
    " - было выполнено заданное количество итераций max_iter;\n",
    " - евклидова норма разности векторов $w$ на соседних итерациях стала меньше, чем eps.\n",
    "\n",
    "Функция должна возвращать полученный в результате оптимизации вектор $w$ и список значений функционала на каждой итерации."
   ]
  },
  {
   "cell_type": "code",
   "execution_count": 43,
   "metadata": {},
   "outputs": [],
   "source": [
    "def grad_descent(X, y, w0, step_size, max_iter, eps, is_reg):\n",
    "    '''Calculation weigths with grad descent'''\n",
    "    w_prev = w0\n",
    "    w_new = w_prev\n",
    "    mspe_list = []\n",
    "    #print('MSPE is: ')\n",
    "    \n",
    "    for epoch in range(max_iter):\n",
    "        if is_reg == True:\n",
    "            mspe_L2 = get_reg_func(w_prev, X, y)\n",
    "            mspe_list.append(mspe_L2)\n",
    "            #print(mspe_L2, end=' ')\n",
    "            grad = get_reg_grad(w_prev, X, y)\n",
    "        else:\n",
    "            mspe = get_func(w_prev, X, y)\n",
    "            mspe_list.append(mspe)\n",
    "            #print(mspe, end=' ')\n",
    "            grad = get_grad(w_prev, X, y)\n",
    "        w_new = w_prev - (step_size * grad)\n",
    "        if np.sqrt(np.sum((w_new - w_prev)**2)) < eps:\n",
    "            break\n",
    "        w_prev = w_new\n",
    "    return w_new, mspe_list"
   ]
  },
  {
   "cell_type": "markdown",
   "metadata": {},
   "source": [
    "Обучите линейную регрессию с функционалом $MSPE$ на обучающей выборке при помощи метода градиентного спуска и изобразите кривые зависимости значения функционала от номера итерации для различных:\n",
    " * значений размера шага из набора [0.001, 1, 10];\n",
    " * способов начальной инициализации вектора весов (нули, случайные веса).\n",
    "\n",
    "Проанализируйте полученные результаты — влияют ли данные параметры на скорость сходимости и итоговое качество? Если да, то как?"
   ]
  },
  {
   "cell_type": "code",
   "execution_count": 44,
   "metadata": {},
   "outputs": [
    {
     "name": "stderr",
     "output_type": "stream",
     "text": [
      "/Users/administrator/anaconda3/lib/python3.7/site-packages/ipykernel_launcher.py:20: RuntimeWarning: overflow encountered in square\n",
      "/Users/administrator/anaconda3/lib/python3.7/site-packages/numpy/core/fromnumeric.py:90: RuntimeWarning: overflow encountered in reduce\n",
      "  return ufunc.reduce(obj, axis, dtype, out, **passkwargs)\n"
     ]
    }
   ],
   "source": [
    "zero_weights = np.zeros((X_train.shape[1]))\n",
    "rand_weights = np.random.rand(X_train.shape[1])\n",
    "alphas = [0.1, 1, 10]\n",
    "mspe_dct = {}\n",
    "w_z_noreg = {}\n",
    "mspe_rand_dct = {}\n",
    "w_r_noreg = {}\n",
    "\n",
    "# Для весов с нулевыми значениями:\n",
    "for alpha in alphas:\n",
    "    #print('\\nALPHA: ', alpha, '\\n')\n",
    "    w_z_noreg[alpha], mspe_dct[alpha] = grad_descent(X=X_train[:1000], y=y_train[:1000], w0=zero_weights, step_size=alpha, max_iter=500, eps=0.001, is_reg=False)\n",
    "    #print('\\n')\n",
    "\n",
    "# Для весов с рандомными значениями:\n",
    "for alpha in alphas:\n",
    "    #print('\\nALPHA: ', alpha, '\\n')\n",
    "    w_r_noreg[alpha], mspe_rand_dct[alpha] = grad_descent(X=X_train[:1000], y=y_train[:1000], w0=rand_weights, step_size=alpha, max_iter=500, eps=0.001, is_reg=False)\n",
    "    #print('\\n')"
   ]
  },
  {
   "cell_type": "code",
   "execution_count": 45,
   "metadata": {},
   "outputs": [
    {
     "data": {
      "image/png": "[encoded data removed]",
      "text/plain": [
       "<Figure size 1440x720 with 6 Axes>"
      ]
     },
     "metadata": {},
     "output_type": "display_data"
    }
   ],
   "source": [
    "fig = plt.figure(figsize=(20, 10))\n",
    "fig.suptitle(\"Without Regularization\", fontsize=\"x-large\")\n",
    "plt.subplot(2, 3, 1)\n",
    "plt.title('Zero_W, Alpha: 0.1. MSPE: {}'.format(round(mspe_dct[0.1][-1], 2)))\n",
    "plt.plot(mspe_dct[0.1])\n",
    "plt.subplot(2, 3, 2)\n",
    "plt.title('Zero_W, Alpha: 1. MSPE: {}'.format(round(mspe_dct[1][-1], 2)))\n",
    "plt.plot(mspe_dct[1])\n",
    "plt.subplot(2, 3, 3)\n",
    "plt.title('Zero_W, Alpha: 10. MSPE: {}'.format(round(mspe_dct[10][-1], 2)))\n",
    "plt.plot(mspe_dct[10])\n",
    "plt.subplot(2, 3, 4)\n",
    "plt.ylim(top=1, bottom=0.7)\n",
    "plt.title('Rand_W, Alpha: 0.1. MSPE: {}'.format(round(mspe_rand_dct[0.1][-1], 2)))\n",
    "plt.plot(mspe_rand_dct[0.1])\n",
    "plt.subplot(2, 3, 5)\n",
    "plt.ylim(top=1, bottom=0.7)\n",
    "plt.title('Rand_W, Alpha: 1. MSPE: {}'.format(round(mspe_rand_dct[1][-1], 2)))\n",
    "plt.plot(mspe_rand_dct[1])\n",
    "plt.subplot(2, 3, 6)\n",
    "plt.title('Rand_W, Alpha: 10. MSPE: {}'.format(round(mspe_rand_dct[10][-1], 2)))\n",
    "plt.plot(mspe_rand_dct[10]);"
   ]
  },
  {
   "cell_type": "code",
   "execution_count": 51,
   "metadata": {},
   "outputs": [
    {
     "name": "stdout",
     "output_type": "stream",
     "text": [
      "MSPE noreg train: 0.9407415170874233\n",
      "MSPE noreg test : 0.9431869151315043\n"
     ]
    }
   ],
   "source": [
    "print('MSPE noreg train:', get_func(w_r_noreg[0.1], X_train, y_train))\n",
    "print('MSPE noreg test :', get_func(w_r_noreg[0.1], X_test, y_test))"
   ]
  },
  {
   "cell_type": "markdown",
   "metadata": {},
   "source": [
    "Вывод: На графике выше видно как важно правильно подбирать параметр шага обучения. Так как если взять очень низкий шаг, мы просто будем долго спускаться в минимум и в итоге осядем даже не в самом лучшем месте. Другая крайность использовать слишком большие веса, так как сразу же начинает происходить расхождение функции - мы высчитываем значение функции, регулируем веса, которые в свою очередь кидают нас условно говоря к значениям с еще большей ошибкой. И даже если мы выбрали верное направление градиента, наш градиент будет просто всегда \"перескакивать\" наш нам необходимый минимум. Что на счет начальных значений весов, мы видим что особой разницы здесь нету, так как в итоге рандомные значения весов в конечном итоге \"догоняют\" нулевые значения и сходятся они к одинаковому результату в одно время. Тем не менее на практике советуют все таки инициировать веса рандомными значениями, так как в конечном итоге после того как мы посчитали пару эпох, мы в итоге придем к тем же странным, похожим на рандомные значения результатам. Так почему бы сразу не инициировать их рандомом, если есть шанс угадать значений весов, которые будут сразу близки к минимуму функции. "
   ]
  },
  {
   "cell_type": "code",
   "execution_count": 47,
   "metadata": {},
   "outputs": [],
   "source": [
    "#-------------------------------------------------------------------------------------------------"
   ]
  },
  {
   "cell_type": "markdown",
   "metadata": {},
   "source": [
    "**22. (0.5 балла)** Обучите линейную регрессию с функционалом MSPE и его регуляризованным вариантом на обучающей выборке при помощи метода градиентного спуска и изобразите кривые зависимости значения функционала от номера итерации. Исследуйте зависимость скорости сходимости от наличия регуляризации. Обоснуйте, почему так происходит."
   ]
  },
  {
   "cell_type": "code",
   "execution_count": 48,
   "metadata": {},
   "outputs": [
    {
     "name": "stderr",
     "output_type": "stream",
     "text": [
      "/Users/administrator/anaconda3/lib/python3.7/site-packages/ipykernel_launcher.py:20: RuntimeWarning: overflow encountered in square\n"
     ]
    }
   ],
   "source": [
    "#rand_weights = np.random.rand(X_train.shape[1])\n",
    "#zero_weights = np.zeros((X_train.shape[1]))\n",
    "alphas = [0.01, 0.1, 1]\n",
    "mspe_reg_zero = {}\n",
    "mspe_reg_rand = {}\n",
    "w_z_reg = {}\n",
    "w_r_reg = {}\n",
    "\n",
    "# Для весов с нулевыми значениями:\n",
    "for alpha in alphas:\n",
    "    #print('\\nALPHA: ', alpha, '\\n')\n",
    "    w_z_reg[alpha], mspe_reg_zero[alpha] = grad_descent(X=X_train[:1000], y=y_train[:1000], w0=zero_weights, step_size=alpha, max_iter=500, eps=0.001, is_reg=True)\n",
    "    #print('\\n')\n",
    "\n",
    "# Для весов с рандомными значениями:\n",
    "for alpha in alphas:\n",
    "    #print('\\nALPHA: ', alpha, '\\n')\n",
    "    w_r_reg[alpha], mspe_reg_rand[alpha] = grad_descent(X=X_train[:1000], y=y_train[:1000], w0=rand_weights, step_size=alpha, max_iter=500, eps=0.001, is_reg=True)\n",
    "    #print('\\n')"
   ]
  },
  {
   "cell_type": "code",
   "execution_count": 49,
   "metadata": {},
   "outputs": [
    {
     "data": {
      "image/png": "[encoded data removed]",
      "text/plain": [
       "<Figure size 1440x720 with 6 Axes>"
      ]
     },
     "metadata": {},
     "output_type": "display_data"
    }
   ],
   "source": [
    "fig = plt.figure(figsize=(20, 10))\n",
    "fig.suptitle(\"With Regularization\", fontsize=\"x-large\")\n",
    "plt.subplot(2, 3, 1)\n",
    "plt.title('Zero_W, Alpha: 0.01. MSPE: {}'.format(round(mspe_reg_zero[0.01][-1], 2)))\n",
    "plt.plot(mspe_reg_zero[0.01])\n",
    "plt.subplot(2, 3, 2)\n",
    "plt.title('Alpha: 0.1. MSPE: {}'.format(round(mspe_reg_zero[0.1][-1], 2)))\n",
    "plt.plot(mspe_reg_zero[0.1])\n",
    "plt.subplot(2, 3, 3)\n",
    "plt.title('Alpha: 1. MSPE: {}'.format(round(mspe_reg_zero[1][-1], 2)))\n",
    "plt.plot(mspe_reg_zero[1])\n",
    "plt.subplot(2, 3, 4)\n",
    "plt.title('Rand_W, Alpha: 0.01. MSPE: {}'.format(round(mspe_reg_rand[0.01][-1], 2)))\n",
    "plt.plot(mspe_reg_rand[0.01])\n",
    "plt.subplot(2, 3, 5)\n",
    "plt.title('Alpha: 0.1. MSPE: {}'.format(round(mspe_reg_rand[0.1][-1], 2)))\n",
    "plt.plot(mspe_reg_rand[0.1])\n",
    "plt.subplot(2, 3, 6)\n",
    "plt.title('Alpha: 1. MSPE: {}'.format(round(mspe_reg_rand[1][-1], 2)))\n",
    "plt.plot(mspe_reg_rand[1]);"
   ]
  },
  {
   "cell_type": "code",
   "execution_count": 50,
   "metadata": {},
   "outputs": [
    {
     "name": "stdout",
     "output_type": "stream",
     "text": [
      "MSPE reg train: 0.9753544265003847\n",
      "MSPE reg test : 0.9768288898497354\n"
     ]
    }
   ],
   "source": [
    "print('MSPE reg train:', get_func(w_r_reg[0.1], X_train, y_train))\n",
    "print('MSPE reg test :', get_func(w_r_reg[0.1], X_test, y_test))"
   ]
  },
  {
   "cell_type": "markdown",
   "metadata": {},
   "source": [
    "Вывод: Сразу бросается в глаза то, что на 4х графиках их 6ти сработал принцип остановки. Возможно это произошло из-за того, что раз регуляризация ограничивает наши веса, то собственно и при вычислении новых весов во время работы градиентного спуска мы получили то что веса после нескольких эпох перестали изменяться на некоторую дельту (eps), что и вынудило сработать остановку. К тому же видно что со вводом регуляризации теперь даже с шагом обучения - 1 модель начала расходиться."
   ]
  },
  {
   "cell_type": "code",
   "execution_count": 130,
   "metadata": {},
   "outputs": [],
   "source": [
    "#-------------------------------------------------------------------------------------------------"
   ]
  },
  {
   "cell_type": "markdown",
   "metadata": {},
   "source": [
    "Метод градиентного спуска может быть весьма трудозатратен в случае большого размера обучающей выборки. Поэтому часто используют метод стохастического градиентного спуска, где на каждой итерации выбирается случайный объект из обучающей выборки и обновление весов происходит только по этому объекту. \n",
    "\n",
    "**23. (1 доп. балл)**  Реализуйте метод стохастического градиентного спуска (SGD) для описанных функционалов ($MSPE$ и его регуляризованный вариант). Функция должна иметь параметры и возвращаемое значение, аналогичные оным функции grad\\_descent из п.21. Кроме того, должен использоваться аналогичный критерий останова."
   ]
  },
  {
   "cell_type": "code",
   "execution_count": 55,
   "metadata": {},
   "outputs": [],
   "source": [
    "import time"
   ]
  },
  {
   "cell_type": "code",
   "execution_count": 56,
   "metadata": {},
   "outputs": [],
   "source": [
    "t0, t1 = 5, 50\n",
    "def alpha_func(t):\n",
    "    return t0 / (t + t1)"
   ]
  },
  {
   "cell_type": "code",
   "execution_count": 57,
   "metadata": {},
   "outputs": [],
   "source": [
    "def sgd(X, y, w, step_size, max_iter, eps, is_reg):\n",
    "    '''Calculating Stochastic Grad Descent'''\n",
    "    mspe_list = []\n",
    "    w_prev = w\n",
    "    w_new = w_prev\n",
    "    for epoch in range(max_iter):\n",
    "        for i in range(y.shape[0]):\n",
    "            rand_indx = np.random.randint(y.shape[0])\n",
    "            xi = X[rand_indx:rand_indx+1]\n",
    "            yi = y[rand_indx:rand_indx+1]\n",
    "\n",
    "            if is_reg == True:\n",
    "                mspe_L2 = get_reg_func(w_prev, X[:1000], y[:1000])\n",
    "                mspe_list.append(mspe_L2)\n",
    "                grad = get_reg_grad(w_prev, xi, yi)\n",
    "            else:\n",
    "                mspe = get_func(w_prev, X[:1000], y[:1000])\n",
    "                mspe_list.append(mspe)\n",
    "                grad = get_grad(w_prev, xi, yi)\n",
    "\n",
    "            eta = alpha_func(epoch * y.shape[0] + i)\n",
    "            w_new = w_prev - eta*grad\n",
    "            if np.sqrt(np.sum((w_new - w_prev)**2)) < eps:\n",
    "                break\n",
    "            w_prev = w_new\n",
    "    return w_new, mspe_list"
   ]
  },
  {
   "cell_type": "code",
   "execution_count": 58,
   "metadata": {},
   "outputs": [],
   "source": [
    "#-------------------------------------------------------------------------------------------------"
   ]
  },
  {
   "cell_type": "markdown",
   "metadata": {},
   "source": [
    "Обучите линейную регрессию с функционалом $MSPE$ и его регуляризованным вариантом на обучающей выборке при помощи метода стохастического градиентного спуска, подобрав при этом размер шага, при котором метод будет сходиться. Нарисуйте график сходимости. Выведите значения $MSPE, MSE, R^2$ на контрольной выборке."
   ]
  },
  {
   "cell_type": "code",
   "execution_count": 61,
   "metadata": {},
   "outputs": [],
   "source": [
    "w_sgd_noreg_zero, mspe_sgd_noreg_zero = sgd(X=X_train, y=y_train, w=zero_weights, step_size=0.01, max_iter=1000, eps=0.001, is_reg=False)\n",
    "w_sgd_noreg_rand, mspe_sgd_noreg_rand = sgd(X=X_train, y=y_train, w=rand_weights, step_size=0.01, max_iter=1000, eps=0.001, is_reg=False)"
   ]
  },
  {
   "cell_type": "code",
   "execution_count": 70,
   "metadata": {},
   "outputs": [
    {
     "data": {
      "text/plain": [
       "[<matplotlib.lines.Line2D at 0x1a1d062c50>]"
      ]
     },
     "execution_count": 70,
     "metadata": {},
     "output_type": "execute_result"
    },
    {
     "data": {
      "image/png": "[encoded data removed]",
      "text/plain": [
       "<Figure size 1440x360 with 2 Axes>"
      ]
     },
     "metadata": {},
     "output_type": "display_data"
    }
   ],
   "source": [
    "fig = plt.figure(figsize=(20, 5))\n",
    "fig.suptitle(\"SGD (Without Regularization)\", fontsize=\"x-large\")\n",
    "plt.subplot(1, 2, 1)\n",
    "plt.title('Zero_W, Alpha: 0.01. MSPE: {}'.format(round(mspe_sgd_noreg_zero[-1], 2)))\n",
    "plt.plot(mspe_sgd_noreg_zero)\n",
    "plt.subplot(1, 2, 2)\n",
    "plt.title('Rand_W, Alpha: 0.01. MSPE: {}'.format(round(mspe_sgd_noreg_rand[-1], 2)))\n",
    "plt.plot(mspe_sgd_noreg_rand)"
   ]
  },
  {
   "cell_type": "code",
   "execution_count": 63,
   "metadata": {},
   "outputs": [
    {
     "name": "stdout",
     "output_type": "stream",
     "text": [
      "Without Regularization:\n",
      "MSPE reg train: 1.436643614192806\n",
      "MSPE reg test : 1.4248455060489655\n",
      "MSE reg test : 1324.5419194679362\n",
      "R2 reg test : -0.11440059852072237\n"
     ]
    }
   ],
   "source": [
    "print(\"Without Regularization:\")\n",
    "print('MSPE reg train:', get_func(w_sgd_noreg_rand, X_train, y_train))\n",
    "print('MSPE reg test :', get_func(w_sgd_noreg_rand, X_test, y_test))\n",
    "print('MSE reg test :', mean_squared_error(y_test, make_pred(X_test, w_sgd_noreg_rand)))\n",
    "print('R2 reg test :', r2_score(y_test, make_pred(X_test, w_sgd_noreg_rand)))"
   ]
  },
  {
   "cell_type": "code",
   "execution_count": 64,
   "metadata": {},
   "outputs": [],
   "source": [
    "w_sgd_reg_zero, mspe_sgd_reg_zero = sgd(X=X_train, y=y_train, w=zero_weights, step_size=0.01, max_iter=1000, eps=0.001, is_reg=True)\n",
    "w_sgd_reg_rand, mspe_sgd_reg_rand = sgd(X=X_train, y=y_train, w=rand_weights, step_size=0.01, max_iter=1000, eps=0.001, is_reg=True)"
   ]
  },
  {
   "cell_type": "code",
   "execution_count": 71,
   "metadata": {},
   "outputs": [
    {
     "data": {
      "text/plain": [
       "[<matplotlib.lines.Line2D at 0x1a1d0c0be0>]"
      ]
     },
     "execution_count": 71,
     "metadata": {},
     "output_type": "execute_result"
    },
    {
     "data": {
      "image/png": "[encoded data removed]",
      "text/plain": [
       "<Figure size 1440x360 with 2 Axes>"
      ]
     },
     "metadata": {},
     "output_type": "display_data"
    }
   ],
   "source": [
    "fig = plt.figure(figsize=(20, 5))\n",
    "fig.suptitle(\"SGD (With Regularization)\", fontsize=\"x-large\")\n",
    "plt.subplot(1, 2, 1)\n",
    "plt.title('Zero_W, Alpha: 0.01. MSPE: {}'.format(round(mspe_sgd_reg_zero[-1], 2)))\n",
    "plt.plot(mspe_sgd_reg_zero)\n",
    "plt.subplot(1, 2, 2)\n",
    "plt.title('Rand_W, Alpha: 0.01. MSPE: {}'.format(round(mspe_sgd_reg_rand[-1], 2)))\n",
    "plt.plot(mspe_sgd_reg_rand)"
   ]
  },
  {
   "cell_type": "code",
   "execution_count": 66,
   "metadata": {},
   "outputs": [
    {
     "name": "stdout",
     "output_type": "stream",
     "text": [
      "WITH Regularization:\n",
      "MSPE reg test : 0.9812640966700643\n",
      "MSE reg test : 1305.3740870193108\n",
      "R2 reg test : -0.09827378241989737\n"
     ]
    }
   ],
   "source": [
    "print(\"WITH Regularization:\")\n",
    "print('MSPE reg test :', get_func(w_sgd_reg_rand, X_test, y_test))\n",
    "print('MSE reg test :', mean_squared_error(y_test, make_pred(X_test, w_sgd_reg_rand)))\n",
    "print('R2 reg test :', r2_score(y_test, make_pred(X_test, w_sgd_reg_rand)))"
   ]
  },
  {
   "cell_type": "code",
   "execution_count": 132,
   "metadata": {},
   "outputs": [],
   "source": [
    "#-------------------------------------------------------------------------------------------------"
   ]
  },
  {
   "cell_type": "markdown",
   "metadata": {},
   "source": [
    "**24. (0.5 доп. балла)** Аналогично п.22 исследуйте зависимость скорости сходимости метода SGD от наличия регуляризации. Обоснуйте, почему так происходит."
   ]
  },
  {
   "cell_type": "markdown",
   "metadata": {},
   "source": [
    "Вывод: Видно как после введения регуляризации мы получили значения MSPE и MSE лучше чем без использования регуляризации. Возможно это произошло из-за того, что регуляризация избавилась от шума в обучении и смогла лучше обобщить наши данные."
   ]
  },
  {
   "cell_type": "code",
   "execution_count": 67,
   "metadata": {},
   "outputs": [],
   "source": [
    "#-------------------------------------------------------------------------------------------------"
   ]
  },
  {
   "cell_type": "code",
   "execution_count": 72,
   "metadata": {},
   "outputs": [],
   "source": [
    "def minibatch_grad(X, y, w, step_size, batch_size, max_iter, eps, is_reg):\n",
    "    '''Calculating Stochastic Grad Descent'''\n",
    "    mspe_list = []\n",
    "    w_prev = w\n",
    "    w_new = w_prev\n",
    "    for epoch in range(max_iter):\n",
    "        for i in range(y.shape[0]):\n",
    "            rand_indx = np.random.randint(y.shape[0]-batch_size)\n",
    "            xi = X[rand_indx:rand_indx+100]\n",
    "            yi = y[rand_indx:rand_indx+100]\n",
    "\n",
    "            if is_reg == True:\n",
    "                mspe_L2 = get_reg_func(w_prev, X[:1000], y[:1000])\n",
    "                mspe_list.append(mspe_L2)\n",
    "                grad = get_reg_grad(w_prev, xi, yi)\n",
    "            else:\n",
    "                mspe = get_func(w_prev, X[:1000], y[:1000])\n",
    "                mspe_list.append(mspe)\n",
    "                grad = get_grad(w_prev, xi, yi)\n",
    "\n",
    "            eta = alpha_func(epoch * y.shape[0] + i)\n",
    "            w_new = w_prev - eta*grad\n",
    "            if np.sqrt(np.sum((w_new - w_prev)**2)) < eps:\n",
    "                break\n",
    "            w_prev = w_new\n",
    "    return w_new, mspe_list"
   ]
  },
  {
   "cell_type": "code",
   "execution_count": 73,
   "metadata": {},
   "outputs": [],
   "source": [
    "w_mb_noreg_zero, mspe_mb_noreg_zero = minibatch_grad(X=X_train, y=y_train, w=zero_weights, batch_size=100, step_size=0.1, max_iter=1000, eps=0.01, is_reg=False)\n",
    "w_mb_noreg_rand, mspe_mb_noreg_rand = minibatch_grad(X=X_train, y=y_train, w=rand_weights, batch_size=100, step_size=0.1, max_iter=1000, eps=0.01, is_reg=False)"
   ]
  },
  {
   "cell_type": "code",
   "execution_count": 74,
   "metadata": {},
   "outputs": [
    {
     "data": {
      "text/plain": [
       "[<matplotlib.lines.Line2D at 0x1a1d55f160>]"
      ]
     },
     "execution_count": 74,
     "metadata": {},
     "output_type": "execute_result"
    },
    {
     "data": {
      "image/png": "[encoded data removed]",
      "text/plain": [
       "<Figure size 1440x360 with 2 Axes>"
      ]
     },
     "metadata": {},
     "output_type": "display_data"
    }
   ],
   "source": [
    "fig = plt.figure(figsize=(20, 5))\n",
    "fig.suptitle(\"Mini Batch realization (Without Regularization)\", fontsize=\"large\")\n",
    "plt.subplot(1, 2, 1)\n",
    "plt.title('Zero_W, Alpha: 0.01. MSPE: {}'.format(round(mspe_mb_noreg_zero[-1], 2)))\n",
    "plt.plot(mspe_mb_noreg_zero)\n",
    "plt.subplot(1, 2, 2)\n",
    "plt.title('Rand_W, Alpha: 0.01. MSPE: {}'.format(round(mspe_mb_noreg_rand[-1], 2)))\n",
    "plt.plot(mspe_mb_noreg_rand)"
   ]
  },
  {
   "cell_type": "code",
   "execution_count": 75,
   "metadata": {},
   "outputs": [],
   "source": [
    "w_mb_reg_zero, mspe_mb_reg_zero = minibatch_grad(X=X_train, y=y_train, w=zero_weights, batch_size=100, step_size=0.1, max_iter=1000, eps=0.01, is_reg=True)\n",
    "w_mb_reg_rand, mspe_mb_reg_rand = minibatch_grad(X=X_train, y=y_train, w=rand_weights, batch_size=100, step_size=0.1, max_iter=1000, eps=0.01, is_reg=True)"
   ]
  },
  {
   "cell_type": "code",
   "execution_count": 76,
   "metadata": {},
   "outputs": [
    {
     "data": {
      "text/plain": [
       "[<matplotlib.lines.Line2D at 0x1a1e7de128>]"
      ]
     },
     "execution_count": 76,
     "metadata": {},
     "output_type": "execute_result"
    },
    {
     "data": {
      "image/png": "[encoded data removed]",
      "text/plain": [
       "<Figure size 1440x360 with 2 Axes>"
      ]
     },
     "metadata": {},
     "output_type": "display_data"
    }
   ],
   "source": [
    "fig = plt.figure(figsize=(20, 5))\n",
    "fig.suptitle(\"Mini Batch realization (With Regularization)\", fontsize=\"large\")\n",
    "plt.subplot(1, 2, 1)\n",
    "plt.title('Zero_W, Alpha: 0.01. MSPE: {}'.format(round(mspe_mb_reg_zero[-1], 2)))\n",
    "plt.plot(mspe_mb_reg_zero)\n",
    "plt.subplot(1, 2, 2)\n",
    "plt.title('Rand_W, Alpha: 0.01. MSPE: {}'.format(round(mspe_mb_reg_rand[-1], 2)))\n",
    "plt.plot(mspe_mb_reg_rand)"
   ]
  },
  {
   "cell_type": "markdown",
   "metadata": {},
   "source": [
    "Вывод: Раз зашла работа со стохастическим градиентным спуском, было очень просто реализовать так же и минибатчевый метод градиентного спуска. За 1 минибатч было выбрано 100 примеров. Видно, что данный метод по прежнему можно использовать на полном наборе данных, как и СГД, в то время как пакетный градиентный спуск работал только на грубо говоря 1000 примеров. После запуска минибатчевого градиентного спуска видно, что в принципе это есть что то среднее между пакетным градиентным спуском и СГД. Используется среднее значение минибатча для сглаживания стохастических движений, в то же время батч не на столько большой, чтобы застопить работу градиентного спуска."
   ]
  },
  {
   "cell_type": "markdown",
   "metadata": {},
   "source": [
    "**25. (0.5 балла)** Обучите стандартную линейную регрессию с функционалом качества MSE на обучающей выборке и выведите значение MSPE полученного решения на контрольной выборке. Как оно соотносится с аналогичным результатом для решения, полученного в п.22? Почему?"
   ]
  },
  {
   "cell_type": "code",
   "execution_count": 77,
   "metadata": {},
   "outputs": [],
   "source": [
    "lin = LinearRegression().fit(X_train, y_train)"
   ]
  },
  {
   "cell_type": "code",
   "execution_count": 78,
   "metadata": {},
   "outputs": [
    {
     "data": {
      "text/plain": [
       "1167.3690839892706"
      ]
     },
     "execution_count": 78,
     "metadata": {},
     "output_type": "execute_result"
    }
   ],
   "source": [
    "mean_squared_error(y_train, lin.predict(X_train))"
   ]
  },
  {
   "cell_type": "code",
   "execution_count": 80,
   "metadata": {},
   "outputs": [
    {
     "name": "stdout",
     "output_type": "stream",
     "text": [
      "MSE test with coef of liniar regression:  3.463411981370485e+20\n",
      "MSPE test with coef of liniar regression:  2.1590261510801523e+26\n",
      "MSPE noreg test after gradient descent: 1.0125396163736593\n"
     ]
    }
   ],
   "source": [
    "print(\"MSE test with coef of liniar regression: \", mean_squared_error(y_test, lin.predict(X_test)))\n",
    "print(\"MSPE test with coef of liniar regression: \", get_func(lin.coef_, X_test, y_test))\n",
    "print('MSPE noreg test after gradient descent:', get_func(w_r_noreg[1], X_test, y_test))"
   ]
  },
  {
   "cell_type": "markdown",
   "metadata": {},
   "source": [
    "Вывод: После обучения модели линейной регрессии с помощью методов sklearn мы получили не самые лучшие результаты. Сравнивая с нашим градиентным спуском, значения, полученные с помощью стандартной линейной регрессии вышли совершенно не рабочими. MSE ошибка в 20й степени, в то же время наши значения получились также не самыми лучшими, но лучше чем у стандартной реализации sklearn."
   ]
  },
  {
   "cell_type": "code",
   "execution_count": 81,
   "metadata": {},
   "outputs": [],
   "source": [
    "#-------------------------------------------------------------------------------------------------"
   ]
  },
  {
   "cell_type": "markdown",
   "metadata": {},
   "source": [
    "Здесь вы можете поделиться своими мыслями по поводу этого задания."
   ]
  },
  {
   "cell_type": "markdown",
   "metadata": {
    "collapsed": true
   },
   "source": [
    "В связи с неутешительными результатами, я провел дополнительную работу на другом датасете, чтобы понять как работает градиентный спуск и MSE/MSPE ошибки. А именно была продолжена работа с методом главных компонент (PCA). Была сформирована выборка из 5 главных компонент. После использования линейной регрессии были получены следующие результаты:"
   ]
  },
  {
   "attachments": {},
   "cell_type": "markdown",
   "metadata": {},
   "source": [
    "![title](screens/1.png)"
   ]
  },
  {
   "cell_type": "markdown",
   "metadata": {},
   "source": [
    "После я сделал градиентный спуск с помощью MSPE ошибки и получил в конечном итоге R^2 = 0.12 что является не самым лучшим результатом."
   ]
  },
  {
   "attachments": {},
   "cell_type": "markdown",
   "metadata": {},
   "source": [
    "![title](screens/2.png)\n",
    "![title](screens/3.png)"
   ]
  },
  {
   "attachments": {},
   "cell_type": "markdown",
   "metadata": {},
   "source": [
    "Тогда я переделал код, чтобы градиентый спуск минимизировал MSE функцию и я получил следующие результаты:\n",
    "![title](screens/4.png)\n",
    "![title](screens/5.png)"
   ]
  },
  {
   "cell_type": "markdown",
   "metadata": {},
   "source": [
    "На выходе я получил значение MSPE все таки больше, но тем не менее R^2 дает нам возможность предполагать, что мы по сути можем предсказывать наши данные в 90 процентах случаев, что уже является не только хорошим результатом, но и практически эталонным, так как с помощью линейной регрессии и нормального уравнения был достигнут тот же самый результат."
   ]
  },
  {
   "cell_type": "markdown",
   "metadata": {},
   "source": [
    "ВЫВОД: Таким образом можно сделать вывод, что для данной задачи выбор функции ошибки MSPE это далеко не самый лучший выбор, так как он позволяет в конечном итоге нам предсказывать только 12 процентов наших данных и для данной ситуации, как и для большинства других подойдет более неизменная функция ошибки MSE, которая после градиентного спуска позволяет описывать 90 процентов наших данных. "
   ]
  },
  {
   "cell_type": "code",
   "execution_count": null,
   "metadata": {},
   "outputs": [],
   "source": []
  },
  {
   "cell_type": "markdown",
   "metadata": {},
   "source": [
    "А здесь — вставить вашу любимую картинку."
   ]
  },
  {
   "cell_type": "code",
   "execution_count": null,
   "metadata": {
    "collapsed": true
   },
   "outputs": [],
   "source": []
  }
 ],
 "metadata": {
  "kernelspec": {
   "display_name": "Python 3",
   "language": "python",
   "name": "python3"
  },
  "language_info": {
   "codemirror_mode": {
    "name": "ipython",
    "version": 3
   },
   "file_extension": ".py",
   "mimetype": "text/x-python",
   "name": "python",
   "nbconvert_exporter": "python",
   "pygments_lexer": "ipython3",
   "version": "3.7.3"
  }
 },
 "nbformat": 4,
 "nbformat_minor": 1
}
